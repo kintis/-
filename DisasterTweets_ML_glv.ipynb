{
 "cells": [
  {
   "attachments": {},
   "cell_type": "markdown",
   "metadata": {},
   "source": [
    " **Importing dependencies**"
   ]
  },
  {
   "cell_type": "code",
   "execution_count": 1,
   "metadata": {},
   "outputs": [
    {
     "name": "stderr",
     "output_type": "stream",
     "text": [
      "WARNING: Ignoring invalid distribution -rotobuf (c:\\users\\iuliia\\miniconda3\\lib\\site-packages)\n",
      "WARNING: Ignoring invalid distribution -ensorflow-intel (c:\\users\\iuliia\\miniconda3\\lib\\site-packages)\n",
      "WARNING: Ignoring invalid distribution -rotobuf (c:\\users\\iuliia\\miniconda3\\lib\\site-packages)\n",
      "WARNING: Ignoring invalid distribution -ensorflow-intel (c:\\users\\iuliia\\miniconda3\\lib\\site-packages)\n",
      "WARNING: Ignoring invalid distribution -rotobuf (c:\\users\\iuliia\\miniconda3\\lib\\site-packages)\n",
      "WARNING: Ignoring invalid distribution -ensorflow-intel (c:\\users\\iuliia\\miniconda3\\lib\\site-packages)\n",
      "WARNING: Ignoring invalid distribution -rotobuf (c:\\users\\iuliia\\miniconda3\\lib\\site-packages)\n",
      "WARNING: Ignoring invalid distribution -ensorflow-intel (c:\\users\\iuliia\\miniconda3\\lib\\site-packages)\n",
      "WARNING: Ignoring invalid distribution -rotobuf (c:\\users\\iuliia\\miniconda3\\lib\\site-packages)\n",
      "WARNING: Ignoring invalid distribution -ensorflow-intel (c:\\users\\iuliia\\miniconda3\\lib\\site-packages)\n",
      "WARNING: Ignoring invalid distribution -rotobuf (c:\\users\\iuliia\\miniconda3\\lib\\site-packages)\n",
      "WARNING: Ignoring invalid distribution -ensorflow-intel (c:\\users\\iuliia\\miniconda3\\lib\\site-packages)\n"
     ]
    },
    {
     "name": "stdout",
     "output_type": "stream",
     "text": [
      "Requirement already satisfied: pyspellchecker in c:\\users\\iuliia\\miniconda3\\lib\\site-packages (0.7.2)\n"
     ]
    }
   ],
   "source": [
    "#Utilities\n",
    "import pandas as pd \n",
    "import numpy as np\n",
    "import re\n",
    "import string, time\n",
    "from collections import defaultdict\n",
    "!pip install pyspellchecker\n",
    "from spellchecker import SpellChecker\n",
    "\n",
    "#Visualization\n",
    "import seaborn as sns \n",
    "%matplotlib inline\n",
    "import matplotlib.pyplot as plt \n",
    "from wordcloud import WordCloud\n",
    "from wordcloud import STOPWORDS\n",
    "import plotly.graph_objects as go\n",
    "import matplotlib\n",
    "\n",
    "import matplotlib.patches as mpatches\n",
    "\n",
    "# Scipy\n",
    "import scipy\n",
    "from scipy import sparse\n",
    "from scipy.sparse import csr_matrix\n",
    "\n",
    "\n",
    "#Scikit-learn\n",
    "from sklearn.model_selection import train_test_split\n",
    "from sklearn.feature_extraction.text import CountVectorizer\n",
    "from sklearn.feature_extraction.text import TfidfVectorizer\n",
    "\n",
    "#Nltk\n",
    "import nltk\n",
    "from nltk.stem import WordNetLemmatizer\n",
    "from nltk.corpus import stopwords\n",
    "stopwords.words('english')\n",
    "from nltk.stem import PorterStemmer\n",
    "from nltk.tokenize import word_tokenize, RegexpTokenizer\n",
    "\n",
    "import spacy\n",
    "\n",
    "import category_encoders as ce\n",
    "import gensim\n",
    "from sklearn.decomposition import TruncatedSVD\n",
    "from tqdm import tqdm\n",
    "import os\n",
    "\n",
    "\n"
   ]
  },
  {
   "attachments": {},
   "cell_type": "markdown",
   "metadata": {},
   "source": [
    "**Importing dataset \"Natural Language Processing with Disaster Tweets\"**"
   ]
  },
  {
   "cell_type": "code",
   "execution_count": 8,
   "metadata": {},
   "outputs": [],
   "source": [
    "#Description of the columns:\n",
    "\n",
    "#id - a unique identifier for each tweet\n",
    "#text - the text of the tweet\n",
    "#location - the location the tweet was sent from (may be blank)\n",
    "#keyword - a particular keyword from the tweet (may be blank)\n",
    "#target - in train.csv only, this denotes whether a tweet is about a real disaster (1) or not (0)"
   ]
  },
  {
   "cell_type": "code",
   "execution_count": 2,
   "metadata": {},
   "outputs": [
    {
     "name": "stdout",
     "output_type": "stream",
     "text": [
      "Number of sentences: 7,613\n",
      "\n"
     ]
    },
    {
     "data": {
      "text/html": [
       "<div>\n",
       "<style scoped>\n",
       "    .dataframe tbody tr th:only-of-type {\n",
       "        vertical-align: middle;\n",
       "    }\n",
       "\n",
       "    .dataframe tbody tr th {\n",
       "        vertical-align: top;\n",
       "    }\n",
       "\n",
       "    .dataframe thead th {\n",
       "        text-align: right;\n",
       "    }\n",
       "</style>\n",
       "<table border=\"1\" class=\"dataframe\">\n",
       "  <thead>\n",
       "    <tr style=\"text-align: right;\">\n",
       "      <th></th>\n",
       "      <th>id</th>\n",
       "      <th>keyword</th>\n",
       "      <th>location</th>\n",
       "      <th>text</th>\n",
       "      <th>target</th>\n",
       "    </tr>\n",
       "  </thead>\n",
       "  <tbody>\n",
       "    <tr>\n",
       "      <th>3738</th>\n",
       "      <td>5313</td>\n",
       "      <td>fire</td>\n",
       "      <td>NaN</td>\n",
       "      <td>Morganite Gemstone White Fire Opal 925 Sterling Silver Ring Size 6 R1354 http://t.co/hHpVSAtQXN http://t.co/D12r8XpShy</td>\n",
       "      <td>0</td>\n",
       "    </tr>\n",
       "    <tr>\n",
       "      <th>4809</th>\n",
       "      <td>6845</td>\n",
       "      <td>loud%20bang</td>\n",
       "      <td>NaN</td>\n",
       "      <td>need to work in an office I can bang all my fav Future jams out loud</td>\n",
       "      <td>0</td>\n",
       "    </tr>\n",
       "    <tr>\n",
       "      <th>7600</th>\n",
       "      <td>10855</td>\n",
       "      <td>NaN</td>\n",
       "      <td>NaN</td>\n",
       "      <td>Evacuation order lifted for town of Roosevelt: http://t.co/EDyfo6E2PU http://t.co/M5KxLPKFA1</td>\n",
       "      <td>1</td>\n",
       "    </tr>\n",
       "    <tr>\n",
       "      <th>1361</th>\n",
       "      <td>1963</td>\n",
       "      <td>burning%20buildings</td>\n",
       "      <td>Spying on your thoughts</td>\n",
       "      <td>@kshllcenterpri1 @Progress4Ohio burning down buildings what you mean like when you burnt down those black churches?</td>\n",
       "      <td>1</td>\n",
       "    </tr>\n",
       "    <tr>\n",
       "      <th>2773</th>\n",
       "      <td>3989</td>\n",
       "      <td>devastation</td>\n",
       "      <td>Washington DC</td>\n",
       "      <td>Fascinating pics from inside North Korea. Not propaganda not devastation - just people living life. http://t.co/E2Db...</td>\n",
       "      <td>0</td>\n",
       "    </tr>\n",
       "    <tr>\n",
       "      <th>6268</th>\n",
       "      <td>8956</td>\n",
       "      <td>storm</td>\n",
       "      <td>NaN</td>\n",
       "      <td>The Secrets Of The Storm Vortex The Lightning Catcher Book Û_ : http://t.co/OIyWrzL79Z .</td>\n",
       "      <td>0</td>\n",
       "    </tr>\n",
       "    <tr>\n",
       "      <th>1063</th>\n",
       "      <td>1534</td>\n",
       "      <td>bomb</td>\n",
       "      <td>Bolton &amp; Tewkesbury, UK</td>\n",
       "      <td>Hiroshima prepares to remember the day the bomb dropped http://t.co/oJHCGZXLSt</td>\n",
       "      <td>1</td>\n",
       "    </tr>\n",
       "    <tr>\n",
       "      <th>4142</th>\n",
       "      <td>5889</td>\n",
       "      <td>harm</td>\n",
       "      <td>Queensland, Australia</td>\n",
       "      <td>Vanderbilt: First Do No Harm http://t.co/cCdx7CGlQW</td>\n",
       "      <td>0</td>\n",
       "    </tr>\n",
       "    <tr>\n",
       "      <th>5312</th>\n",
       "      <td>7585</td>\n",
       "      <td>outbreak</td>\n",
       "      <td>Ile-Ife,Osun state, Nigeria</td>\n",
       "      <td>#News Families to sue over Legionnaires: More than 40 families affected by the fatal outbreak of Legionnaires'... ht...</td>\n",
       "      <td>1</td>\n",
       "    </tr>\n",
       "    <tr>\n",
       "      <th>2512</th>\n",
       "      <td>3608</td>\n",
       "      <td>desolation</td>\n",
       "      <td>[marvelÛ¢dragon ageÛ¢wicdiv]</td>\n",
       "      <td>i decided to take a break from my emotional destruction to watch tangled then watch desolation of smaug</td>\n",
       "      <td>0</td>\n",
       "    </tr>\n",
       "  </tbody>\n",
       "</table>\n",
       "</div>"
      ],
      "text/plain": [
       "         id              keyword                        location                                                                                                                     text  target\n",
       "3738   5313                 fire                             NaN   Morganite Gemstone White Fire Opal 925 Sterling Silver Ring Size 6 R1354 http://t.co/hHpVSAtQXN http://t.co/D12r8XpShy       0\n",
       "4809   6845          loud%20bang                             NaN                                                     need to work in an office I can bang all my fav Future jams out loud       0\n",
       "7600  10855                  NaN                             NaN                             Evacuation order lifted for town of Roosevelt: http://t.co/EDyfo6E2PU http://t.co/M5KxLPKFA1       1\n",
       "1361   1963  burning%20buildings         Spying on your thoughts      @kshllcenterpri1 @Progress4Ohio burning down buildings what you mean like when you burnt down those black churches?       1\n",
       "2773   3989          devastation                   Washington DC  Fascinating pics from inside North Korea. Not propaganda not devastation - just people living life. http://t.co/E2Db...       0\n",
       "6268   8956                storm                             NaN                                The Secrets Of The Storm Vortex The Lightning Catcher Book Û_ : http://t.co/OIyWrzL79Z .       0\n",
       "1063   1534                 bomb         Bolton & Tewkesbury, UK                                           Hiroshima prepares to remember the day the bomb dropped http://t.co/oJHCGZXLSt       1\n",
       "4142   5889                 harm           Queensland, Australia                                                                      Vanderbilt: First Do No Harm http://t.co/cCdx7CGlQW       0\n",
       "5312   7585             outbreak     Ile-Ife,Osun state, Nigeria  #News Families to sue over Legionnaires: More than 40 families affected by the fatal outbreak of Legionnaires'... ht...       1\n",
       "2512   3608           desolation  [marvelÛ¢dragon ageÛ¢wicdiv]                  i decided to take a break from my emotional destruction to watch tangled then watch desolation of smaug       0"
      ]
     },
     "execution_count": 2,
     "metadata": {},
     "output_type": "execute_result"
    }
   ],
   "source": [
    "#Importing dataset\n",
    "dataset=pd.read_csv(\"https://raw.githubusercontent.com/kintis/VKR/main/train.csv\")\n",
    "\n",
    "pd.set_option('max_colwidth', 120)\n",
    "pd.set_option('display.width', 500)\n",
    "\n",
    "#Report the number of sentences\n",
    "print('Number of sentences: {:,}\\n'.format(dataset.shape[0]))\n",
    "\n",
    "#Display 10 random rows from the dataset\n",
    "dataset.sample(10, random_state=13)\n"
   ]
  },
  {
   "cell_type": "code",
   "execution_count": 3,
   "metadata": {},
   "outputs": [
    {
     "data": {
      "text/html": [
       "<div>\n",
       "<style scoped>\n",
       "    .dataframe tbody tr th:only-of-type {\n",
       "        vertical-align: middle;\n",
       "    }\n",
       "\n",
       "    .dataframe tbody tr th {\n",
       "        vertical-align: top;\n",
       "    }\n",
       "\n",
       "    .dataframe thead th {\n",
       "        text-align: right;\n",
       "    }\n",
       "</style>\n",
       "<table border=\"1\" class=\"dataframe\">\n",
       "  <thead>\n",
       "    <tr style=\"text-align: right;\">\n",
       "      <th></th>\n",
       "      <th>text</th>\n",
       "      <th>target</th>\n",
       "    </tr>\n",
       "  </thead>\n",
       "  <tbody>\n",
       "    <tr>\n",
       "      <th>3738</th>\n",
       "      <td>Morganite Gemstone White Fire Opal 925 Sterling Silver Ring Size 6 R1354 http://t.co/hHpVSAtQXN http://t.co/D12r8XpShy</td>\n",
       "      <td>0</td>\n",
       "    </tr>\n",
       "    <tr>\n",
       "      <th>4809</th>\n",
       "      <td>need to work in an office I can bang all my fav Future jams out loud</td>\n",
       "      <td>0</td>\n",
       "    </tr>\n",
       "    <tr>\n",
       "      <th>7600</th>\n",
       "      <td>Evacuation order lifted for town of Roosevelt: http://t.co/EDyfo6E2PU http://t.co/M5KxLPKFA1</td>\n",
       "      <td>1</td>\n",
       "    </tr>\n",
       "    <tr>\n",
       "      <th>1361</th>\n",
       "      <td>@kshllcenterpri1 @Progress4Ohio burning down buildings what you mean like when you burnt down those black churches?</td>\n",
       "      <td>1</td>\n",
       "    </tr>\n",
       "    <tr>\n",
       "      <th>2773</th>\n",
       "      <td>Fascinating pics from inside North Korea. Not propaganda not devastation - just people living life. http://t.co/E2Db...</td>\n",
       "      <td>0</td>\n",
       "    </tr>\n",
       "    <tr>\n",
       "      <th>6268</th>\n",
       "      <td>The Secrets Of The Storm Vortex The Lightning Catcher Book Û_ : http://t.co/OIyWrzL79Z .</td>\n",
       "      <td>0</td>\n",
       "    </tr>\n",
       "    <tr>\n",
       "      <th>1063</th>\n",
       "      <td>Hiroshima prepares to remember the day the bomb dropped http://t.co/oJHCGZXLSt</td>\n",
       "      <td>1</td>\n",
       "    </tr>\n",
       "    <tr>\n",
       "      <th>4142</th>\n",
       "      <td>Vanderbilt: First Do No Harm http://t.co/cCdx7CGlQW</td>\n",
       "      <td>0</td>\n",
       "    </tr>\n",
       "    <tr>\n",
       "      <th>5312</th>\n",
       "      <td>#News Families to sue over Legionnaires: More than 40 families affected by the fatal outbreak of Legionnaires'... ht...</td>\n",
       "      <td>1</td>\n",
       "    </tr>\n",
       "    <tr>\n",
       "      <th>2512</th>\n",
       "      <td>i decided to take a break from my emotional destruction to watch tangled then watch desolation of smaug</td>\n",
       "      <td>0</td>\n",
       "    </tr>\n",
       "  </tbody>\n",
       "</table>\n",
       "</div>"
      ],
      "text/plain": [
       "                                                                                                                         text  target\n",
       "3738   Morganite Gemstone White Fire Opal 925 Sterling Silver Ring Size 6 R1354 http://t.co/hHpVSAtQXN http://t.co/D12r8XpShy       0\n",
       "4809                                                     need to work in an office I can bang all my fav Future jams out loud       0\n",
       "7600                             Evacuation order lifted for town of Roosevelt: http://t.co/EDyfo6E2PU http://t.co/M5KxLPKFA1       1\n",
       "1361      @kshllcenterpri1 @Progress4Ohio burning down buildings what you mean like when you burnt down those black churches?       1\n",
       "2773  Fascinating pics from inside North Korea. Not propaganda not devastation - just people living life. http://t.co/E2Db...       0\n",
       "6268                                The Secrets Of The Storm Vortex The Lightning Catcher Book Û_ : http://t.co/OIyWrzL79Z .       0\n",
       "1063                                           Hiroshima prepares to remember the day the bomb dropped http://t.co/oJHCGZXLSt       1\n",
       "4142                                                                      Vanderbilt: First Do No Harm http://t.co/cCdx7CGlQW       0\n",
       "5312  #News Families to sue over Legionnaires: More than 40 families affected by the fatal outbreak of Legionnaires'... ht...       1\n",
       "2512                  i decided to take a break from my emotional destruction to watch tangled then watch desolation of smaug       0"
      ]
     },
     "execution_count": 3,
     "metadata": {},
     "output_type": "execute_result"
    }
   ],
   "source": [
    "#Remove columns \"location\" from dataset that has a high proportion of missing values (>33%), column \"id\" due to unnecessary and \"keyword\"\n",
    "data = dataset.drop(columns=['location', 'id', \"keyword\"])\n",
    "#Display 10 random rows from the dataset\n",
    "data.sample(10, random_state=13)"
   ]
  },
  {
   "cell_type": "code",
   "execution_count": 4,
   "metadata": {},
   "outputs": [
    {
     "name": "stderr",
     "output_type": "stream",
     "text": [
      "No artists with labels found to put in legend.  Note that artists whose label start with an underscore are ignored when legend() is called with no argument.\n"
     ]
    },
    {
     "data": {
      "image/png": "[encoded data removed]",
      "text/plain": [
       "<Figure size 1000x500 with 1 Axes>"
      ]
     },
     "metadata": {},
     "output_type": "display_data"
    }
   ],
   "source": [
    "#Visualizing class distribution (1 is real disaster, 0 isn't real disaster)\n",
    "plt.figure(figsize=(10,5))\n",
    "ax = sns.countplot(data=data, y='target', palette='Paired')\n",
    "ax.set_title('Распределение твитов по классам в наборе данных', fontsize=13)\n",
    "ax.set_xlabel('Количество твитов')\n",
    "ax.set_ylabel('Метки классов')\n",
    "for label in ax.containers:\n",
    "    ax.bar_label(label)\n",
    "plt.legend(loc='lower right', title=\"0: Non disaster\\n1: Disaster\", ncol = 2)\n",
    "plt.show()"
   ]
  },
  {
   "attachments": {},
   "cell_type": "markdown",
   "metadata": {},
   "source": [
    "**Text normalization**"
   ]
  },
  {
   "cell_type": "code",
   "execution_count": 5,
   "metadata": {},
   "outputs": [],
   "source": [
    "# RegexpTokenizer\n",
    "regexp = RegexpTokenizer(\"[\\w']+\")"
   ]
  },
  {
   "cell_type": "code",
   "execution_count": 6,
   "metadata": {},
   "outputs": [
    {
     "name": "stdout",
     "output_type": "stream",
     "text": [
      "Input: This is a FUNCTION that CoNvErTs a Text to lowercase\n",
      "Output: this is a function that converts a text to lowercase\n"
     ]
    }
   ],
   "source": [
    "# Converting to lowercase\n",
    "def convert_to_lowercase(text):\n",
    "    return text.lower()\n",
    "\n",
    "text = \"This is a FUNCTION that CoNvErTs a Text to lowercase\"\n",
    "print(\"Input: {}\".format(text))\n",
    "print(\"Output: {}\".format(convert_to_lowercase(text)))"
   ]
  },
  {
   "cell_type": "code",
   "execution_count": 7,
   "metadata": {},
   "outputs": [
    {
     "name": "stdout",
     "output_type": "stream",
     "text": [
      "Example: Original form of the contraction 'aren't' is 'are not'\n"
     ]
    }
   ],
   "source": [
    "# Substitution of Contractions\n",
    "# Dictionary of contractions\n",
    "\n",
    "contractions_url = 'https://raw.githubusercontent.com/kintis/VKR/main/english_contractions.json'\n",
    "contractions_dict = pd.read_json(contractions_url, typ = 'series')\n",
    "\n",
    "print(\"Example: Original form of the contraction 'aren't' is '{}'\".format(contractions_dict[\"aren't\"]))"
   ]
  },
  {
   "cell_type": "code",
   "execution_count": 8,
   "metadata": {},
   "outputs": [
    {
     "name": "stdout",
     "output_type": "stream",
     "text": [
      "Input: he's doin' fine\n",
      "Output: he is doing fine\n"
     ]
    }
   ],
   "source": [
    "# Dataframe of contractions\n",
    "pd.DataFrame(contractions_dict.items(), columns = ['contraction', 'original']).head()\n",
    "\n",
    "# List of contractions\n",
    "contractions_list = list(contractions_dict.keys())\n",
    "\n",
    "# Function to convert contractions in a text\n",
    "def convert_contractions(text):\n",
    "    words = []\n",
    "    for word in regexp.tokenize(text):\n",
    "        if word in contractions_list:\n",
    "            words = words + contractions_dict[word].split()\n",
    "        else:\n",
    "            words = words + word.split()\n",
    "    \n",
    "    text_converted = \" \".join(words)\n",
    "    return text_converted\n",
    "\n",
    "text = \"he's doin' fine\"\n",
    "print(\"Input: {}\".format(text))\n",
    "print(\"Output: {}\".format(convert_contractions(text)))\n"
   ]
  },
  {
   "attachments": {},
   "cell_type": "markdown",
   "metadata": {},
   "source": [
    "**Splitting the Data**<br>\n",
    "The data is divided into 2 sets of data:<br>\n",
    "\n",
    "Training Data: The dataset upon which the model would be trained on. Contains 80% data.<br>\n",
    "Test Data: The dataset upon which the model would be tested against. Contains20% data.<br>"
   ]
  },
  {
   "cell_type": "code",
   "execution_count": 10,
   "metadata": {},
   "outputs": [
    {
     "name": "stdout",
     "output_type": "stream",
     "text": [
      "Train Data size: 6090\n",
      "Test Data size 1523\n",
      "(6090, 2)\n",
      "(1523, 2)\n"
     ]
    }
   ],
   "source": [
    "TRAIN_SIZE=0.8\n",
    "# Splits Dataset into Training and Testing set\n",
    "train_data, test_data = train_test_split(data, test_size=1-TRAIN_SIZE,\n",
    "                                         random_state=13) \n",
    "print(\"Train Data size:\", len(train_data))\n",
    "print(\"Test Data size\", len(test_data))\n",
    "\n",
    "print(train_data.shape)\n",
    "print(test_data.shape)"
   ]
  },
  {
   "cell_type": "code",
   "execution_count": 11,
   "metadata": {},
   "outputs": [
    {
     "name": "stdout",
     "output_type": "stream",
     "text": [
      "<class 'pandas.core.frame.DataFrame'>\n",
      "Int64Index: 6090 entries, 5753 to 338\n",
      "Data columns (total 2 columns):\n",
      " #   Column  Non-Null Count  Dtype \n",
      "---  ------  --------------  ----- \n",
      " 0   text    6090 non-null   object\n",
      " 1   target  6090 non-null   int64 \n",
      "dtypes: int64(1), object(1)\n",
      "memory usage: 142.7+ KB\n"
     ]
    }
   ],
   "source": [
    "train_data.info()"
   ]
  },
  {
   "cell_type": "code",
   "execution_count": 12,
   "metadata": {},
   "outputs": [
    {
     "data": {
      "application/vnd.plotly.v1+json": {
       "config": {
        "plotlyServerURL": "https://plot.ly"
       },
       "data": [
        {
         "hole": 0.5,
         "labels": [
          "Train set",
          "Test set"
         ],
         "textinfo": "percent",
         "title": {
          "text": " "
         },
         "type": "pie",
         "values": [
          6090,
          1523
         ]
        }
       ],
       "layout": {
        "height": 500,
        "showlegend": true,
        "template": {
         "data": {
          "bar": [
           {
            "error_x": {
             "color": "#2a3f5f"
            },
            "error_y": {
             "color": "#2a3f5f"
            },
            "marker": {
             "line": {
              "color": "#E5ECF6",
              "width": 0.5
             },
             "pattern": {
              "fillmode": "overlay",
              "size": 10,
              "solidity": 0.2
             }
            },
            "type": "bar"
           }
          ],
          "barpolar": [
           {
            "marker": {
             "line": {
              "color": "#E5ECF6",
              "width": 0.5
             },
             "pattern": {
              "fillmode": "overlay",
              "size": 10,
              "solidity": 0.2
             }
            },
            "type": "barpolar"
           }
          ],
          "carpet": [
           {
            "aaxis": {
             "endlinecolor": "#2a3f5f",
             "gridcolor": "white",
             "linecolor": "white",
             "minorgridcolor": "white",
             "startlinecolor": "#2a3f5f"
            },
            "baxis": {
             "endlinecolor": "#2a3f5f",
             "gridcolor": "white",
             "linecolor": "white",
             "minorgridcolor": "white",
             "startlinecolor": "#2a3f5f"
            },
            "type": "carpet"
           }
          ],
          "choropleth": [
           {
            "colorbar": {
             "outlinewidth": 0,
             "ticks": ""
            },
            "type": "choropleth"
           }
          ],
          "contour": [
           {
            "colorbar": {
             "outlinewidth": 0,
             "ticks": ""
            },
            "colorscale": [
             [
              0,
              "#0d0887"
             ],
             [
              0.1111111111111111,
              "#46039f"
             ],
             [
              0.2222222222222222,
              "#7201a8"
             ],
             [
              0.3333333333333333,
              "#9c179e"
             ],
             [
              0.4444444444444444,
              "#bd3786"
             ],
             [
              0.5555555555555556,
              "#d8576b"
             ],
             [
              0.6666666666666666,
              "#ed7953"
             ],
             [
              0.7777777777777778,
              "#fb9f3a"
             ],
             [
              0.8888888888888888,
              "#fdca26"
             ],
             [
              1,
              "#f0f921"
             ]
            ],
            "type": "contour"
           }
          ],
          "contourcarpet": [
           {
            "colorbar": {
             "outlinewidth": 0,
             "ticks": ""
            },
            "type": "contourcarpet"
           }
          ],
          "heatmap": [
           {
            "colorbar": {
             "outlinewidth": 0,
             "ticks": ""
            },
            "colorscale": [
             [
              0,
              "#0d0887"
             ],
             [
              0.1111111111111111,
              "#46039f"
             ],
             [
              0.2222222222222222,
              "#7201a8"
             ],
             [
              0.3333333333333333,
              "#9c179e"
             ],
             [
              0.4444444444444444,
              "#bd3786"
             ],
             [
              0.5555555555555556,
              "#d8576b"
             ],
             [
              0.6666666666666666,
              "#ed7953"
             ],
             [
              0.7777777777777778,
              "#fb9f3a"
             ],
             [
              0.8888888888888888,
              "#fdca26"
             ],
             [
              1,
              "#f0f921"
             ]
            ],
            "type": "heatmap"
           }
          ],
          "heatmapgl": [
           {
            "colorbar": {
             "outlinewidth": 0,
             "ticks": ""
            },
            "colorscale": [
             [
              0,
              "#0d0887"
             ],
             [
              0.1111111111111111,
              "#46039f"
             ],
             [
              0.2222222222222222,
              "#7201a8"
             ],
             [
              0.3333333333333333,
              "#9c179e"
             ],
             [
              0.4444444444444444,
              "#bd3786"
             ],
             [
              0.5555555555555556,
              "#d8576b"
             ],
             [
              0.6666666666666666,
              "#ed7953"
             ],
             [
              0.7777777777777778,
              "#fb9f3a"
             ],
             [
              0.8888888888888888,
              "#fdca26"
             ],
             [
              1,
              "#f0f921"
             ]
            ],
            "type": "heatmapgl"
           }
          ],
          "histogram": [
           {
            "marker": {
             "pattern": {
              "fillmode": "overlay",
              "size": 10,
              "solidity": 0.2
             }
            },
            "type": "histogram"
           }
          ],
          "histogram2d": [
           {
            "colorbar": {
             "outlinewidth": 0,
             "ticks": ""
            },
            "colorscale": [
             [
              0,
              "#0d0887"
             ],
             [
              0.1111111111111111,
              "#46039f"
             ],
             [
              0.2222222222222222,
              "#7201a8"
             ],
             [
              0.3333333333333333,
              "#9c179e"
             ],
             [
              0.4444444444444444,
              "#bd3786"
             ],
             [
              0.5555555555555556,
              "#d8576b"
             ],
             [
              0.6666666666666666,
              "#ed7953"
             ],
             [
              0.7777777777777778,
              "#fb9f3a"
             ],
             [
              0.8888888888888888,
              "#fdca26"
             ],
             [
              1,
              "#f0f921"
             ]
            ],
            "type": "histogram2d"
           }
          ],
          "histogram2dcontour": [
           {
            "colorbar": {
             "outlinewidth": 0,
             "ticks": ""
            },
            "colorscale": [
             [
              0,
              "#0d0887"
             ],
             [
              0.1111111111111111,
              "#46039f"
             ],
             [
              0.2222222222222222,
              "#7201a8"
             ],
             [
              0.3333333333333333,
              "#9c179e"
             ],
             [
              0.4444444444444444,
              "#bd3786"
             ],
             [
              0.5555555555555556,
              "#d8576b"
             ],
             [
              0.6666666666666666,
              "#ed7953"
             ],
             [
              0.7777777777777778,
              "#fb9f3a"
             ],
             [
              0.8888888888888888,
              "#fdca26"
             ],
             [
              1,
              "#f0f921"
             ]
            ],
            "type": "histogram2dcontour"
           }
          ],
          "mesh3d": [
           {
            "colorbar": {
             "outlinewidth": 0,
             "ticks": ""
            },
            "type": "mesh3d"
           }
          ],
          "parcoords": [
           {
            "line": {
             "colorbar": {
              "outlinewidth": 0,
              "ticks": ""
             }
            },
            "type": "parcoords"
           }
          ],
          "pie": [
           {
            "automargin": true,
            "type": "pie"
           }
          ],
          "scatter": [
           {
            "fillpattern": {
             "fillmode": "overlay",
             "size": 10,
             "solidity": 0.2
            },
            "type": "scatter"
           }
          ],
          "scatter3d": [
           {
            "line": {
             "colorbar": {
              "outlinewidth": 0,
              "ticks": ""
             }
            },
            "marker": {
             "colorbar": {
              "outlinewidth": 0,
              "ticks": ""
             }
            },
            "type": "scatter3d"
           }
          ],
          "scattercarpet": [
           {
            "marker": {
             "colorbar": {
              "outlinewidth": 0,
              "ticks": ""
             }
            },
            "type": "scattercarpet"
           }
          ],
          "scattergeo": [
           {
            "marker": {
             "colorbar": {
              "outlinewidth": 0,
              "ticks": ""
             }
            },
            "type": "scattergeo"
           }
          ],
          "scattergl": [
           {
            "marker": {
             "colorbar": {
              "outlinewidth": 0,
              "ticks": ""
             }
            },
            "type": "scattergl"
           }
          ],
          "scattermapbox": [
           {
            "marker": {
             "colorbar": {
              "outlinewidth": 0,
              "ticks": ""
             }
            },
            "type": "scattermapbox"
           }
          ],
          "scatterpolar": [
           {
            "marker": {
             "colorbar": {
              "outlinewidth": 0,
              "ticks": ""
             }
            },
            "type": "scatterpolar"
           }
          ],
          "scatterpolargl": [
           {
            "marker": {
             "colorbar": {
              "outlinewidth": 0,
              "ticks": ""
             }
            },
            "type": "scatterpolargl"
           }
          ],
          "scatterternary": [
           {
            "marker": {
             "colorbar": {
              "outlinewidth": 0,
              "ticks": ""
             }
            },
            "type": "scatterternary"
           }
          ],
          "surface": [
           {
            "colorbar": {
             "outlinewidth": 0,
             "ticks": ""
            },
            "colorscale": [
             [
              0,
              "#0d0887"
             ],
             [
              0.1111111111111111,
              "#46039f"
             ],
             [
              0.2222222222222222,
              "#7201a8"
             ],
             [
              0.3333333333333333,
              "#9c179e"
             ],
             [
              0.4444444444444444,
              "#bd3786"
             ],
             [
              0.5555555555555556,
              "#d8576b"
             ],
             [
              0.6666666666666666,
              "#ed7953"
             ],
             [
              0.7777777777777778,
              "#fb9f3a"
             ],
             [
              0.8888888888888888,
              "#fdca26"
             ],
             [
              1,
              "#f0f921"
             ]
            ],
            "type": "surface"
           }
          ],
          "table": [
           {
            "cells": {
             "fill": {
              "color": "#EBF0F8"
             },
             "line": {
              "color": "white"
             }
            },
            "header": {
             "fill": {
              "color": "#C8D4E3"
             },
             "line": {
              "color": "white"
             }
            },
            "type": "table"
           }
          ]
         },
         "layout": {
          "annotationdefaults": {
           "arrowcolor": "#2a3f5f",
           "arrowhead": 0,
           "arrowwidth": 1
          },
          "autotypenumbers": "strict",
          "coloraxis": {
           "colorbar": {
            "outlinewidth": 0,
            "ticks": ""
           }
          },
          "colorscale": {
           "diverging": [
            [
             0,
             "#8e0152"
            ],
            [
             0.1,
             "#c51b7d"
            ],
            [
             0.2,
             "#de77ae"
            ],
            [
             0.3,
             "#f1b6da"
            ],
            [
             0.4,
             "#fde0ef"
            ],
            [
             0.5,
             "#f7f7f7"
            ],
            [
             0.6,
             "#e6f5d0"
            ],
            [
             0.7,
             "#b8e186"
            ],
            [
             0.8,
             "#7fbc41"
            ],
            [
             0.9,
             "#4d9221"
            ],
            [
             1,
             "#276419"
            ]
           ],
           "sequential": [
            [
             0,
             "#0d0887"
            ],
            [
             0.1111111111111111,
             "#46039f"
            ],
            [
             0.2222222222222222,
             "#7201a8"
            ],
            [
             0.3333333333333333,
             "#9c179e"
            ],
            [
             0.4444444444444444,
             "#bd3786"
            ],
            [
             0.5555555555555556,
             "#d8576b"
            ],
            [
             0.6666666666666666,
             "#ed7953"
            ],
            [
             0.7777777777777778,
             "#fb9f3a"
            ],
            [
             0.8888888888888888,
             "#fdca26"
            ],
            [
             1,
             "#f0f921"
            ]
           ],
           "sequentialminus": [
            [
             0,
             "#0d0887"
            ],
            [
             0.1111111111111111,
             "#46039f"
            ],
            [
             0.2222222222222222,
             "#7201a8"
            ],
            [
             0.3333333333333333,
             "#9c179e"
            ],
            [
             0.4444444444444444,
             "#bd3786"
            ],
            [
             0.5555555555555556,
             "#d8576b"
            ],
            [
             0.6666666666666666,
             "#ed7953"
            ],
            [
             0.7777777777777778,
             "#fb9f3a"
            ],
            [
             0.8888888888888888,
             "#fdca26"
            ],
            [
             1,
             "#f0f921"
            ]
           ]
          },
          "colorway": [
           "#636efa",
           "#EF553B",
           "#00cc96",
           "#ab63fa",
           "#FFA15A",
           "#19d3f3",
           "#FF6692",
           "#B6E880",
           "#FF97FF",
           "#FECB52"
          ],
          "font": {
           "color": "#2a3f5f"
          },
          "geo": {
           "bgcolor": "white",
           "lakecolor": "white",
           "landcolor": "#E5ECF6",
           "showlakes": true,
           "showland": true,
           "subunitcolor": "white"
          },
          "hoverlabel": {
           "align": "left"
          },
          "hovermode": "closest",
          "mapbox": {
           "style": "light"
          },
          "paper_bgcolor": "white",
          "plot_bgcolor": "#E5ECF6",
          "polar": {
           "angularaxis": {
            "gridcolor": "white",
            "linecolor": "white",
            "ticks": ""
           },
           "bgcolor": "#E5ECF6",
           "radialaxis": {
            "gridcolor": "white",
            "linecolor": "white",
            "ticks": ""
           }
          },
          "scene": {
           "xaxis": {
            "backgroundcolor": "#E5ECF6",
            "gridcolor": "white",
            "gridwidth": 2,
            "linecolor": "white",
            "showbackground": true,
            "ticks": "",
            "zerolinecolor": "white"
           },
           "yaxis": {
            "backgroundcolor": "#E5ECF6",
            "gridcolor": "white",
            "gridwidth": 2,
            "linecolor": "white",
            "showbackground": true,
            "ticks": "",
            "zerolinecolor": "white"
           },
           "zaxis": {
            "backgroundcolor": "#E5ECF6",
            "gridcolor": "white",
            "gridwidth": 2,
            "linecolor": "white",
            "showbackground": true,
            "ticks": "",
            "zerolinecolor": "white"
           }
          },
          "shapedefaults": {
           "line": {
            "color": "#2a3f5f"
           }
          },
          "ternary": {
           "aaxis": {
            "gridcolor": "white",
            "linecolor": "white",
            "ticks": ""
           },
           "baxis": {
            "gridcolor": "white",
            "linecolor": "white",
            "ticks": ""
           },
           "bgcolor": "#E5ECF6",
           "caxis": {
            "gridcolor": "white",
            "linecolor": "white",
            "ticks": ""
           }
          },
          "title": {
           "x": 0.05
          },
          "xaxis": {
           "automargin": true,
           "gridcolor": "white",
           "linecolor": "white",
           "ticks": "",
           "title": {
            "standoff": 15
           },
           "zerolinecolor": "white",
           "zerolinewidth": 2
          },
          "yaxis": {
           "automargin": true,
           "gridcolor": "white",
           "linecolor": "white",
           "ticks": "",
           "title": {
            "standoff": 15
           },
           "zerolinecolor": "white",
           "zerolinewidth": 2
          }
         }
        },
        "title": {
         "text": "Распределение на обучающую и тестовую выборку",
         "x": 0.5,
         "y": 0.95
        },
        "width": 800
       }
      }
     },
     "metadata": {},
     "output_type": "display_data"
    }
   ],
   "source": [
    "#Comparison of sizes of training set, and test set\n",
    "values = np.array([len(train_data), len(test_data)])\n",
    "labels = ['Train set', 'Test set']\n",
    "fig = go.Figure(data = [go.Pie(values = values, labels = labels, hole = 0.5, textinfo = 'percent', title = \" \")])\n",
    "text_title = \"Распределение на обучающую и тестовую выборку\"\n",
    "fig.update_layout(height = 500, width = 800, showlegend = True, title = dict(text = text_title, x = 0.5, y = 0.95)) \n",
    "fig.show()"
   ]
  },
  {
   "cell_type": "code",
   "execution_count": 19,
   "metadata": {},
   "outputs": [],
   "source": [
    "train_data[\"clean_text\"] = train_data[\"text\"].apply(convert_to_lowercase).apply(convert_contractions)\n",
    "train_data[\"clean_tokens\"] = train_data[\"clean_text\"].apply(regexp.tokenize)\n",
    "\n",
    "\n",
    "test_data[\"clean_text\"] = test_data[\"text\"].apply(convert_to_lowercase).apply(convert_contractions)\n",
    "test_data[\"clean_tokens\"] = test_data[\"clean_text\"].apply(regexp.tokenize)\n"
   ]
  },
  {
   "attachments": {},
   "cell_type": "markdown",
   "metadata": {},
   "source": [
    "**GloVe**"
   ]
  },
  {
   "cell_type": "code",
   "execution_count": 23,
   "metadata": {},
   "outputs": [
    {
     "name": "stderr",
     "output_type": "stream",
     "text": [
      "1917494it [02:43, 11718.60it/s]"
     ]
    },
    {
     "name": "stdout",
     "output_type": "stream",
     "text": [
      "Found 1917494 word vectors.\n"
     ]
    },
    {
     "name": "stderr",
     "output_type": "stream",
     "text": [
      "\n"
     ]
    }
   ],
   "source": [
    "# load the GloVe vectors in a dictionary:\n",
    "embeddings_index = {}\n",
    "f = open('.//glove.42B.300d.txt')\n",
    "for line in tqdm(f):\n",
    "    values = line.split()\n",
    "    word = values[0]\n",
    "    coefs = np.asarray(values[1:], dtype='float32')\n",
    "    embeddings_index[word] = coefs\n",
    "f.close()\n",
    "\n",
    "print('Found %s word vectors.' % len(embeddings_index))"
   ]
  },
  {
   "cell_type": "code",
   "execution_count": 24,
   "metadata": {},
   "outputs": [],
   "source": [
    "from nltk.corpus import stopwords\n",
    "stop_words = stopwords.words('english')\n",
    "# this function creates a normalized vector for the whole sentence\n",
    "def sent2vec(s):\n",
    "    words = str(s).lower()#.decode('utf-8')\n",
    "    words = word_tokenize(words)\n",
    "    words = [w for w in words if not w in stop_words]\n",
    "    words = [w for w in words if w.isalpha()]\n",
    "    M = []\n",
    "    for w in words:\n",
    "        try:\n",
    "            M.append(embeddings_index[w])\n",
    "        except:\n",
    "            continue\n",
    "    M = np.array(M)\n",
    "    v = M.sum(axis=0)\n",
    "    if type(v) != np.ndarray:\n",
    "        return np.zeros(300)\n",
    "    return v / np.sqrt((v ** 2).sum())"
   ]
  },
  {
   "cell_type": "code",
   "execution_count": 25,
   "metadata": {},
   "outputs": [
    {
     "name": "stderr",
     "output_type": "stream",
     "text": [
      "100%|██████████| 6090/6090 [00:02<00:00, 2602.18it/s]\n"
     ]
    }
   ],
   "source": [
    "xtrain_glove = [sent2vec(x) for x in tqdm(train_data['text'])]\n"
   ]
  },
  {
   "cell_type": "code",
   "execution_count": 26,
   "metadata": {},
   "outputs": [
    {
     "name": "stderr",
     "output_type": "stream",
     "text": [
      "100%|██████████| 1523/1523 [00:00<00:00, 3617.31it/s]\n"
     ]
    }
   ],
   "source": [
    "xtest_glove = [sent2vec(x) for x in tqdm(test_data['text'])]"
   ]
  },
  {
   "cell_type": "code",
   "execution_count": 27,
   "metadata": {},
   "outputs": [],
   "source": [
    "xtrain_glove = np.array(xtrain_glove)\n",
    "xtest_glove = np.array(xtest_glove)"
   ]
  },
  {
   "attachments": {},
   "cell_type": "markdown",
   "metadata": {},
   "source": [
    "**Machine learning models**"
   ]
  },
  {
   "cell_type": "code",
   "execution_count": 28,
   "metadata": {},
   "outputs": [],
   "source": [
    "from sklearn.linear_model import LogisticRegression\n",
    "from sklearn.pipeline import Pipeline\n",
    "from sklearn.preprocessing import MinMaxScaler\n",
    "from sklearn.metrics import f1_score, accuracy_score\n",
    "from sklearn.metrics import confusion_matrix, ConfusionMatrixDisplay\n",
    "\n",
    "from sklearn.metrics import classification_report\n",
    "from sklearn.model_selection import cross_val_score\n",
    "from sklearn.model_selection import ShuffleSplit\n",
    "from sklearn.feature_selection import RFECV\n",
    "from sklearn.model_selection import StratifiedKFold\n",
    "from sklearn.model_selection import GridSearchCV\n",
    "from sklearn.naive_bayes import GaussianNB\n",
    "from sklearn.naive_bayes import MultinomialNB\n",
    "from sklearn.tree import DecisionTreeClassifier\n",
    "from sklearn.ensemble import RandomForestClassifier\n",
    "from xgboost import XGBClassifier\n",
    "from sklearn.linear_model import PassiveAggressiveClassifier\n",
    "from sklearn.neighbors import KNeighborsClassifier\n",
    "from sklearn.svm import SVC\n",
    "from sklearn.model_selection import KFold\n",
    "import optuna\n",
    "from sklearn.preprocessing import MaxAbsScaler"
   ]
  },
  {
   "cell_type": "code",
   "execution_count": 29,
   "metadata": {},
   "outputs": [],
   "source": [
    "#Initialize a scaler to normalize the features\n",
    "scaler = MaxAbsScaler()\n",
    "\n",
    "#Test options and evaluation metric\n",
    "num_folds = 5\n",
    "seed = 13\n",
    "scoring = 'accuracy'\n",
    "y_train=train_data['target']\n",
    "y_test=test_data['target']"
   ]
  },
  {
   "cell_type": "code",
   "execution_count": 30,
   "metadata": {},
   "outputs": [],
   "source": [
    "#Spot-Check Algorithms\n",
    "models = []\n",
    "models.append(('LR', LogisticRegression(n_jobs=-1)))\n",
    "models.append(('KN', KNeighborsClassifier(n_jobs=-1)))\n",
    "models.append(('GNB', GaussianNB()))\n",
    "models.append(('SVM', SVC()))\n",
    "models.append(('DT', DecisionTreeClassifier()))\n",
    "models.append(('RF', RandomForestClassifier(n_jobs=-1)))\n",
    "models.append(('XGB', XGBClassifier(n_jobs=-1)))\n",
    "models.append(('PA', PassiveAggressiveClassifier(n_jobs=-1)))\n"
   ]
  },
  {
   "cell_type": "code",
   "execution_count": 31,
   "metadata": {},
   "outputs": [
    {
     "name": "stdout",
     "output_type": "stream",
     "text": [
      "LR: 0.804269 (0.008220)\n",
      "KN: 0.787192 (0.006955)\n",
      "GNB: 0.780131 (0.005280)\n",
      "SVM: 0.812808 (0.005759)\n",
      "DT: 0.684893 (0.009538)\n",
      "RF: 0.800328 (0.005721)\n",
      "XGB: 0.800985 (0.004363)\n",
      "PA: 0.762890 (0.049396)\n"
     ]
    }
   ],
   "source": [
    "#GloVe\n",
    "results_glv = []\n",
    "names = []\n",
    "for name, model in models:\n",
    "    kfold = KFold(n_splits=num_folds, random_state=seed, shuffle=True)\n",
    "    cv_results = cross_val_score(model, xtrain_glove, y_train, cv=kfold, scoring=scoring, error_score='raise')\n",
    "    results_glv.append(cv_results)\n",
    "    names.append(name)\n",
    "    msg = \"%s: %f (%f)\" % (name, cv_results.mean(), cv_results.std())\n",
    "    print(msg)"
   ]
  },
  {
   "cell_type": "code",
   "execution_count": 171,
   "metadata": {},
   "outputs": [
    {
     "data": {
      "image/png": "[encoded data removed]",
      "text/plain": [
       "<Figure size 1000x500 with 1 Axes>"
      ]
     },
     "metadata": {},
     "output_type": "display_data"
    }
   ],
   "source": [
    "#Compare Algorithms\n",
    "fig = plt.figure(figsize=(10,5))\n",
    "fig.suptitle('Сравнение алгоритмов. GloVe model', fontsize=13)\n",
    "ax = fig.add_subplot(111)\n",
    "plt.boxplot(results_glv)\n",
    "ax.set_xticklabels(names)\n",
    "plt.show()"
   ]
  },
  {
   "cell_type": "code",
   "execution_count": 173,
   "metadata": {},
   "outputs": [
    {
     "name": "stdout",
     "output_type": "stream",
     "text": [
      "ScaledLR: 0.798851 (0.006810)\n",
      "ScaledKN: 0.785714 (0.010527)\n",
      "ScaledGNB: 0.780131 (0.005280)\n",
      "ScaledSVM: 0.822332 (0.006372)\n",
      "ScaledDT: 0.684401 (0.010624)\n"
     ]
    },
    {
     "name": "stderr",
     "output_type": "stream",
     "text": [
      "  0%|          | 0/6090 [14:19<?, ?it/s]\n"
     ]
    },
    {
     "name": "stdout",
     "output_type": "stream",
     "text": [
      "ScaledRF: 0.800821 (0.005130)\n",
      "ScaledXGB: 0.800985 (0.004363)\n",
      "ScaledPA: 0.715928 (0.059545)\n"
     ]
    }
   ],
   "source": [
    "#Standardize the dataset\n",
    "#glv\n",
    "pipelines = []\n",
    "pipelines.append(('ScaledLR', Pipeline([('Scaler', MaxAbsScaler()),('LR', LogisticRegression(n_jobs=-1))])))\n",
    "pipelines.append(('ScaledKN', Pipeline([('Scaler', MaxAbsScaler()),('KN', KNeighborsClassifier(n_jobs=-1))])))\n",
    "pipelines.append(('ScaledGNB', Pipeline([('Scaler', MinMaxScaler()),('GNB', GaussianNB())])))\n",
    "pipelines.append(('ScaledSVM', Pipeline([('Scaler', MaxAbsScaler()),('SVM', SVC())])))\n",
    "pipelines.append(('ScaledDT', Pipeline([('Scaler', MaxAbsScaler()),('DT', DecisionTreeClassifier())])))\n",
    "pipelines.append(('ScaledRF', Pipeline([('Scaler', MaxAbsScaler()),('RF', RandomForestClassifier(n_jobs=-1))])))\n",
    "pipelines.append(('ScaledXGB', Pipeline([('Scaler', MaxAbsScaler()),('XGB', XGBClassifier(n_jobs=-1))])))\n",
    "pipelines.append(('ScaledPA', Pipeline([('Scaler', MaxAbsScaler()),('PA', PassiveAggressiveClassifier(n_jobs=-1))])))\n",
    "results_glv_s = []\n",
    "names = []\n",
    "for name, model in pipelines:\n",
    "    kfold = KFold(n_splits=num_folds, random_state=seed, shuffle=True)\n",
    "    cv_results = cross_val_score(model, xtrain_glove, y_train, cv=kfold, scoring=scoring)\n",
    "    results_glv_s.append(cv_results)\n",
    "    names.append(name)\n",
    "    msg = \"%s: %f (%f)\" % (name, cv_results.mean(), cv_results.std())\n",
    "    print(msg)\n"
   ]
  },
  {
   "cell_type": "code",
   "execution_count": 174,
   "metadata": {},
   "outputs": [
    {
     "data": {
      "image/png": "[encoded data removed]",
      "text/plain": [
       "<Figure size 1000x500 with 1 Axes>"
      ]
     },
     "metadata": {},
     "output_type": "display_data"
    }
   ],
   "source": [
    "#Compare Algorithms\n",
    "fig = plt.figure(figsize=(10,5))\n",
    "fig.suptitle('Сравнение алгоритмов на стандартизованных данных. GloVe model', fontsize=13)\n",
    "ax = fig.add_subplot(111)\n",
    "plt.boxplot(results_glv_s)\n",
    "ax.set_xticklabels(names)\n",
    "plt.show()"
   ]
  },
  {
   "cell_type": "code",
   "execution_count": 175,
   "metadata": {},
   "outputs": [
    {
     "name": "stdout",
     "output_type": "stream",
     "text": [
      "Optuna Version : 3.1.1\n"
     ]
    }
   ],
   "source": [
    "print(\"Optuna Version : {}\".format(optuna.__version__))"
   ]
  },
  {
   "attachments": {},
   "cell_type": "markdown",
   "metadata": {},
   "source": [
    "**LogisticRegression (GloVe)**"
   ]
  },
  {
   "cell_type": "code",
   "execution_count": 190,
   "metadata": {},
   "outputs": [
    {
     "name": "stdout",
     "output_type": "stream",
     "text": [
      "0.8057471264367816\n"
     ]
    }
   ],
   "source": [
    "#glv model\n",
    "#LogisticRegression\n",
    "\n",
    "kfold = KFold(n_splits=num_folds, random_state=seed, shuffle=True)\n",
    "\n",
    "#Define the logistic regression model with the hyperparameters\n",
    "lr_glv = LogisticRegression(penalty= 'l2', C=1.447511476076564, solver='liblinear')\n",
    "\n",
    "# Perform kFold cross-validation and return the mean validation score\n",
    "scores = cross_val_score(lr_glv, xtrain_glove, y_train, cv=kfold, scoring=scoring).mean()\n",
    " \n",
    "#Train the logistic regression model \n",
    "lr_glv.fit(xtrain_glove, y_train)\n",
    "\n",
    "\n",
    "#Evaluate the performance of the model on the testing set\n",
    "predictions_lr = lr_glv.predict(xtest_glove)\n",
    "\n",
    "print(scores)\n"
   ]
  },
  {
   "cell_type": "code",
   "execution_count": 191,
   "metadata": {},
   "outputs": [
    {
     "data": {
      "image/png": "[encoded data removed]",
      "text/plain": [
       "<Figure size 640x480 with 2 Axes>"
      ]
     },
     "metadata": {},
     "output_type": "display_data"
    },
    {
     "name": "stdout",
     "output_type": "stream",
     "text": [
      "              precision    recall  f1-score   support\n",
      "\n",
      "           0      0.800     0.863     0.830       851\n",
      "           1      0.807     0.726     0.764       672\n",
      "\n",
      "    accuracy                          0.802      1523\n",
      "   macro avg      0.803     0.794     0.797      1523\n",
      "weighted avg      0.803     0.802     0.801      1523\n",
      "\n"
     ]
    }
   ],
   "source": [
    "#Confusion matrix\n",
    "cm=confusion_matrix(y_test, predictions_lr)\n",
    "disp = ConfusionMatrixDisplay(confusion_matrix=cm, display_labels=None)\n",
    "disp.plot()\n",
    "plt.show()\n",
    "print(classification_report(y_test, predictions_lr, digits=3))"
   ]
  },
  {
   "cell_type": "code",
   "execution_count": 192,
   "metadata": {},
   "outputs": [
    {
     "name": "stdout",
     "output_type": "stream",
     "text": [
      "F1-score:  0.7642913077525451\n",
      "Precision:  0.7261904761904762\n",
      "Recall:  0.8066115702479338\n",
      "Acuracy:  0.8023637557452397\n"
     ]
    }
   ],
   "source": [
    "from sklearn.metrics import precision_score\n",
    "from sklearn.metrics import recall_score\n",
    "print(\"F1-score: \", f1_score(predictions_lr, y_test))\n",
    "print(\"Precision: \", precision_score(predictions_lr, y_test))\n",
    "print(\"Recall: \", recall_score(predictions_lr, y_test))\n",
    "print(\"Acuracy: \", accuracy_score(predictions_lr, y_test))"
   ]
  },
  {
   "attachments": {},
   "cell_type": "markdown",
   "metadata": {},
   "source": [
    "**KNeighborsClassifier (GloVe)**"
   ]
  },
  {
   "cell_type": "code",
   "execution_count": 193,
   "metadata": {},
   "outputs": [
    {
     "name": "stdout",
     "output_type": "stream",
     "text": [
      "0.8001642036124794\n"
     ]
    }
   ],
   "source": [
    "\n",
    "#glv\n",
    "kfold = KFold(n_splits=num_folds, random_state=seed, shuffle=True)\n",
    "\n",
    "\n",
    "#Define the KNN model with the hyperparameters\n",
    "knn_glv = KNeighborsClassifier(n_neighbors=21, weights='uniform', metric='manhattan', algorithm='auto')\n",
    "\n",
    "# Perform kFold cross-validation and return the mean validation score\n",
    "scores = cross_val_score(knn_glv, xtrain_glove, y_train, cv=kfold, scoring=scoring, n_jobs=-1).mean()\n",
    "\n",
    "#Train the KNN model \n",
    "knn_glv.fit(xtrain_glove, y_train)\n",
    "\n",
    "#Evaluate the performance of the model on the testing set\n",
    "predictions_knn = knn_glv.predict(xtest_glove)\n",
    "\n",
    "print(scores)\n",
    "\n",
    "\n"
   ]
  },
  {
   "cell_type": "code",
   "execution_count": 194,
   "metadata": {},
   "outputs": [
    {
     "data": {
      "image/png": "[encoded data removed]",
      "text/plain": [
       "<Figure size 640x480 with 2 Axes>"
      ]
     },
     "metadata": {},
     "output_type": "display_data"
    },
    {
     "name": "stdout",
     "output_type": "stream",
     "text": [
      "              precision    recall  f1-score   support\n",
      "\n",
      "           0      0.775     0.865     0.817       851\n",
      "           1      0.799     0.682     0.736       672\n",
      "\n",
      "    accuracy                          0.784      1523\n",
      "   macro avg      0.787     0.773     0.777      1523\n",
      "weighted avg      0.786     0.784     0.781      1523\n",
      "\n"
     ]
    }
   ],
   "source": [
    "#Confusion matrix KN_glv\n",
    "cm=confusion_matrix(y_test, predictions_knn)\n",
    "disp = ConfusionMatrixDisplay(confusion_matrix=cm, display_labels=None)\n",
    "disp.plot()\n",
    "plt.show()\n",
    "print(classification_report(y_test, predictions_knn, digits=3))"
   ]
  },
  {
   "cell_type": "code",
   "execution_count": 195,
   "metadata": {},
   "outputs": [
    {
     "name": "stdout",
     "output_type": "stream",
     "text": [
      "F1-score:  0.7357429718875503\n",
      "Precision:  0.6815476190476191\n",
      "Recall:  0.7993019197207679\n",
      "Acuracy:  0.7839789888378201\n"
     ]
    }
   ],
   "source": [
    "\n",
    "print(\"F1-score: \", f1_score(predictions_knn, y_test))\n",
    "print(\"Precision: \", precision_score(predictions_knn, y_test))\n",
    "print(\"Recall: \", recall_score(predictions_knn, y_test))\n",
    "print(\"Acuracy: \", accuracy_score(predictions_knn, y_test))"
   ]
  },
  {
   "attachments": {},
   "cell_type": "markdown",
   "metadata": {},
   "source": [
    "**Support Vector Classification (GloVe)**"
   ]
  },
  {
   "cell_type": "code",
   "execution_count": 187,
   "metadata": {},
   "outputs": [
    {
     "name": "stdout",
     "output_type": "stream",
     "text": [
      "0.8142857142857143\n"
     ]
    }
   ],
   "source": [
    "#glv\n",
    "kfold = KFold(n_splits=num_folds, random_state=seed, shuffle=True)\n",
    "\n",
    "\n",
    "\n",
    "#Define the SVM model with the hyperparameters\n",
    "svc_glv = SVC(C=1.3000000000000003, kernel='rbf') \n",
    "\n",
    "\n",
    "# Perform kFold cross-validation and return the mean validation score\n",
    "scores = cross_val_score (svc_glv, xtrain_glove, y_train, cv=kfold, scoring=scoring).mean()\n",
    "  \n",
    "\n",
    "#Train the SVM model \n",
    "svc_glv.fit(xtrain_glove, y_train)\n",
    "\n",
    "\n",
    "#Evaluate the performance of the model on the testing set\n",
    "predictions_svc = svc_glv.predict(xtest_glove)\n",
    "\n",
    "print(scores)"
   ]
  },
  {
   "cell_type": "code",
   "execution_count": 188,
   "metadata": {},
   "outputs": [
    {
     "data": {
      "image/png": "[encoded data removed]",
      "text/plain": [
       "<Figure size 640x480 with 2 Axes>"
      ]
     },
     "metadata": {},
     "output_type": "display_data"
    },
    {
     "name": "stdout",
     "output_type": "stream",
     "text": [
      "              precision    recall  f1-score   support\n",
      "\n",
      "           0      0.787     0.895     0.838       851\n",
      "           1      0.840     0.693     0.760       672\n",
      "\n",
      "    accuracy                          0.806      1523\n",
      "   macro avg      0.813     0.794     0.799      1523\n",
      "weighted avg      0.810     0.806     0.803      1523\n",
      "\n"
     ]
    }
   ],
   "source": [
    "#Confusion matrix SVC_glv\n",
    "cm=confusion_matrix(y_test, predictions_svc)\n",
    "disp = ConfusionMatrixDisplay(confusion_matrix=cm, display_labels=None)\n",
    "disp.plot()\n",
    "plt.show()\n",
    "print(classification_report(y_test, predictions_svc, digits=3))"
   ]
  },
  {
   "cell_type": "code",
   "execution_count": 196,
   "metadata": {},
   "outputs": [
    {
     "name": "stdout",
     "output_type": "stream",
     "text": [
      "F1-score:  0.7595762021189894\n",
      "Precision:  0.6934523809523809\n",
      "Recall:  0.8396396396396396\n",
      "Acuracy:  0.8063033486539725\n"
     ]
    }
   ],
   "source": [
    "\n",
    "print(\"F1-score: \", f1_score(predictions_svc, y_test))\n",
    "print(\"Precision: \", precision_score(predictions_svc, y_test))\n",
    "print(\"Recall: \", recall_score(predictions_svc, y_test))\n",
    "print(\"Acuracy: \", accuracy_score(predictions_svc, y_test))"
   ]
  },
  {
   "attachments": {},
   "cell_type": "markdown",
   "metadata": {},
   "source": [
    "**RandomForestClassifier (GloVe)**"
   ]
  },
  {
   "cell_type": "code",
   "execution_count": 198,
   "metadata": {},
   "outputs": [
    {
     "name": "stdout",
     "output_type": "stream",
     "text": [
      "0.8050903119868635\n"
     ]
    }
   ],
   "source": [
    "#glv\n",
    "kfold = KFold(n_splits=num_folds, random_state=seed, shuffle=True)\n",
    "\n",
    "\n",
    "\n",
    "#Define the RF model with the hyperparameters\n",
    "rf_glv = RandomForestClassifier(n_estimators=300, max_depth=45,\n",
    "                                   min_samples_split=8, min_samples_leaf=3, n_jobs=-1) \n",
    "\n",
    "\n",
    "\n",
    "# Perform kFold cross-validation and return the mean validation score\n",
    "scores = cross_val_score(rf_glv, xtrain_glove, y_train, cv=kfold, scoring=scoring).mean()\n",
    "\n",
    "\n",
    "#Train the RF model \n",
    "rf_glv.fit(xtrain_glove, y_train)\n",
    "\n",
    "#Evaluate the performance of the model on the testing set\n",
    "predictions_rf = rf_glv.predict(xtest_glove)\n",
    "\n",
    "print(scores)"
   ]
  },
  {
   "cell_type": "code",
   "execution_count": 199,
   "metadata": {},
   "outputs": [
    {
     "data": {
      "image/png": "[encoded data removed]",
      "text/plain": [
       "<Figure size 640x480 with 2 Axes>"
      ]
     },
     "metadata": {},
     "output_type": "display_data"
    },
    {
     "name": "stdout",
     "output_type": "stream",
     "text": [
      "              precision    recall  f1-score   support\n",
      "\n",
      "           0      0.770     0.897     0.828       851\n",
      "           1      0.835     0.661     0.738       672\n",
      "\n",
      "    accuracy                          0.793      1523\n",
      "   macro avg      0.802     0.779     0.783      1523\n",
      "weighted avg      0.798     0.793     0.788      1523\n",
      "\n"
     ]
    }
   ],
   "source": [
    "#Confusion matrix RF_W2V\n",
    "cm=confusion_matrix(y_test, predictions_rf)\n",
    "disp = ConfusionMatrixDisplay(confusion_matrix=cm, display_labels=None)\n",
    "disp.plot()\n",
    "plt.show()\n",
    "print(classification_report(y_test, predictions_rf, digits=3))"
   ]
  },
  {
   "cell_type": "code",
   "execution_count": 200,
   "metadata": {},
   "outputs": [
    {
     "name": "stdout",
     "output_type": "stream",
     "text": [
      "F1-score:  0.7375415282392027\n",
      "Precision:  0.6607142857142857\n",
      "Recall:  0.8345864661654135\n",
      "Acuracy:  0.7925147734734077\n"
     ]
    }
   ],
   "source": [
    "\n",
    "print(\"F1-score: \", f1_score(predictions_rf, y_test))\n",
    "print(\"Precision: \", precision_score(predictions_rf, y_test))\n",
    "print(\"Recall: \", recall_score(predictions_rf, y_test))\n",
    "print(\"Acuracy: \", accuracy_score(predictions_rf, y_test))"
   ]
  },
  {
   "attachments": {},
   "cell_type": "markdown",
   "metadata": {},
   "source": [
    "**PassiveAggressiveClassifier (GloVe)**"
   ]
  },
  {
   "cell_type": "code",
   "execution_count": 201,
   "metadata": {},
   "outputs": [
    {
     "name": "stdout",
     "output_type": "stream",
     "text": [
      "0.8065681444991789\n"
     ]
    }
   ],
   "source": [
    "#glv\n",
    "kfold = KFold(n_splits=num_folds, random_state=seed, shuffle=True)\n",
    "\n",
    "\n",
    "#Define the logistic regression model with the hyperparameters\n",
    "pa_glv = PassiveAggressiveClassifier(C=0.025418180825830413, fit_intercept=True, max_iter=700, tol= 0.0002994821711886301, loss='hinge', average=True, \n",
    "                                             class_weight=None, n_jobs=-1)\n",
    "\n",
    "\n",
    "# Perform kFold cross-validation and return the mean validation score\n",
    "scores = cross_val_score(pa_glv, xtrain_glove, y_train, cv=kfold, scoring=scoring).mean()\n",
    "\n",
    "\n",
    "pa_glv.fit(xtrain_glove, y_train)\n",
    "\n",
    "\n",
    "#Evaluate the performance of the model on the testing set\n",
    "predictions_pa = pa_glv.predict(xtest_glove)\n",
    "\n",
    "print(scores)\n"
   ]
  },
  {
   "cell_type": "code",
   "execution_count": 202,
   "metadata": {},
   "outputs": [
    {
     "data": {
      "image/png": "[encoded data removed]",
      "text/plain": [
       "<Figure size 640x480 with 2 Axes>"
      ]
     },
     "metadata": {},
     "output_type": "display_data"
    },
    {
     "name": "stdout",
     "output_type": "stream",
     "text": [
      "              precision    recall  f1-score   support\n",
      "\n",
      "           0      0.799     0.879     0.837       851\n",
      "           1      0.825     0.720     0.769       672\n",
      "\n",
      "    accuracy                          0.809      1523\n",
      "   macro avg      0.812     0.800     0.803      1523\n",
      "weighted avg      0.810     0.809     0.807      1523\n",
      "\n"
     ]
    }
   ],
   "source": [
    "#Confusion matrix PA_glv\n",
    "cm=confusion_matrix(y_test, predictions_pa)\n",
    "disp = ConfusionMatrixDisplay(confusion_matrix=cm, display_labels=None)\n",
    "disp.plot()\n",
    "plt.show()\n",
    "print(classification_report(y_test, predictions_pa, digits=3))"
   ]
  },
  {
   "cell_type": "code",
   "execution_count": 203,
   "metadata": {},
   "outputs": [
    {
     "name": "stdout",
     "output_type": "stream",
     "text": [
      "F1-score:  0.7688641779189833\n",
      "Precision:  0.7202380952380952\n",
      "Recall:  0.8245315161839863\n",
      "Acuracy:  0.8089297439264609\n"
     ]
    }
   ],
   "source": [
    "\n",
    "print(\"F1-score: \", f1_score(predictions_pa, y_test))\n",
    "print(\"Precision: \", precision_score(predictions_pa, y_test))\n",
    "print(\"Recall: \", recall_score(predictions_pa, y_test))\n",
    "print(\"Acuracy: \", accuracy_score(predictions_pa, y_test))"
   ]
  },
  {
   "attachments": {},
   "cell_type": "markdown",
   "metadata": {},
   "source": [
    "**XGBoost (GloVe)**"
   ]
  },
  {
   "cell_type": "code",
   "execution_count": 204,
   "metadata": {},
   "outputs": [],
   "source": [
    "#glv\n",
    "kfold = KFold(n_splits=num_folds, random_state=seed, shuffle=True)\n",
    "\n",
    "\n",
    "    \n",
    "#Define the XGB model with the hyperparameters\n",
    "xgb_glv = XGBClassifier(n_estimators=271, gamma=0.06111941963702434, max_depth=9, min_child_weight=5, subsample=0.810387387553235, reg_lambda=0.11850703628113282, \n",
    "                                           reg_alpha=0.07855988038201753, colsample_bytree=0.8038485247429074, learning_rate=0.2851234126368579)\n",
    "\n",
    "# Perform kFold cross-validation and return the mean validation score\n",
    "scores = cross_val_score(xgb_glv, xtrain_glove, y_train, cv=kfold, scoring=scoring).mean()\n",
    "  \n",
    "\n",
    "\n",
    "#Train the XGB model \n",
    "xgb_glv.fit(xtrain_glove, y_train)\n",
    "\n",
    "#Evaluate the performance of the model on the testing set\n",
    "predictions_xgb = xgb_glv.predict(xtest_glove)"
   ]
  },
  {
   "cell_type": "code",
   "execution_count": 207,
   "metadata": {},
   "outputs": [
    {
     "name": "stdout",
     "output_type": "stream",
     "text": [
      "0.7996715927750411\n"
     ]
    }
   ],
   "source": [
    "print(scores)"
   ]
  },
  {
   "cell_type": "code",
   "execution_count": 205,
   "metadata": {},
   "outputs": [
    {
     "data": {
      "image/png": "[encoded data removed]",
      "text/plain": [
       "<Figure size 640x480 with 2 Axes>"
      ]
     },
     "metadata": {},
     "output_type": "display_data"
    },
    {
     "name": "stdout",
     "output_type": "stream",
     "text": [
      "              precision    recall  f1-score   support\n",
      "\n",
      "           0      0.780     0.854     0.815       851\n",
      "           1      0.790     0.695     0.740       672\n",
      "\n",
      "    accuracy                          0.784      1523\n",
      "   macro avg      0.785     0.775     0.777      1523\n",
      "weighted avg      0.785     0.784     0.782      1523\n",
      "\n"
     ]
    }
   ],
   "source": [
    "#Confusion matrix XGB_glv\n",
    "cm=confusion_matrix(y_test, predictions_xgb)\n",
    "disp = ConfusionMatrixDisplay(confusion_matrix=cm, display_labels=None)\n",
    "disp.plot()\n",
    "plt.show()\n",
    "print(classification_report(y_test, predictions_xgb, digits=3))"
   ]
  },
  {
   "cell_type": "code",
   "execution_count": 206,
   "metadata": {},
   "outputs": [
    {
     "name": "stdout",
     "output_type": "stream",
     "text": [
      "F1-score:  0.7395091053048296\n",
      "Precision:  0.6949404761904762\n",
      "Recall:  0.7901861252115059\n",
      "Acuracy:  0.7839789888378201\n"
     ]
    }
   ],
   "source": [
    "print(\"F1-score: \", f1_score(predictions_xgb, y_test))\n",
    "print(\"Precision: \", precision_score(predictions_xgb, y_test))\n",
    "print(\"Recall: \", recall_score(predictions_xgb, y_test))\n",
    "print(\"Acuracy: \", accuracy_score(predictions_xgb, y_test))"
   ]
  },
  {
   "attachments": {},
   "cell_type": "markdown",
   "metadata": {},
   "source": [
    "**DecisionTreeClassifier (GloVe)**"
   ]
  },
  {
   "cell_type": "code",
   "execution_count": 208,
   "metadata": {},
   "outputs": [
    {
     "name": "stdout",
     "output_type": "stream",
     "text": [
      "0.7041050903119868\n"
     ]
    }
   ],
   "source": [
    "#glv\n",
    "kfold = KFold(n_splits=num_folds, random_state=seed, shuffle=True)\n",
    "    \n",
    "#Define the DT model with the hyperparameters\n",
    "dt_glv = DecisionTreeClassifier(max_depth=9, min_samples_split=10, min_samples_leaf=3, max_features='sqrt')\n",
    "\n",
    "\n",
    "# Perform kFold cross-validation and return the mean validation score\n",
    "scores = cross_val_score(dt_glv, xtrain_glove, y_train, cv=kfold, scoring=scoring).mean()\n",
    "\n",
    "\n",
    "\n",
    "#Train the DT model \n",
    "\n",
    "dt_glv.fit(xtrain_glove, y_train)\n",
    "\n",
    "\n",
    "#Evaluate the performance of the model on the testing set\n",
    "predictions_DT = dt_glv.predict(xtest_glove)\n",
    "\n",
    "print(scores)"
   ]
  },
  {
   "cell_type": "code",
   "execution_count": 211,
   "metadata": {},
   "outputs": [
    {
     "data": {
      "image/png": "[encoded data removed]",
      "text/plain": [
       "<Figure size 640x480 with 2 Axes>"
      ]
     },
     "metadata": {},
     "output_type": "display_data"
    },
    {
     "name": "stdout",
     "output_type": "stream",
     "text": [
      "              precision    recall  f1-score   support\n",
      "\n",
      "           0      0.727     0.707     0.717       851\n",
      "           1      0.642     0.664     0.653       672\n",
      "\n",
      "    accuracy                          0.688      1523\n",
      "   macro avg      0.684     0.686     0.685      1523\n",
      "weighted avg      0.689     0.688     0.689      1523\n",
      "\n"
     ]
    }
   ],
   "source": [
    "#Confusion matrix DT_glv\n",
    "cm=confusion_matrix(y_test, predictions_DT)\n",
    "disp = ConfusionMatrixDisplay(confusion_matrix=cm, display_labels=None)\n",
    "disp.plot()\n",
    "plt.show()\n",
    "print(classification_report(y_test, predictions_DT, digits=3))"
   ]
  },
  {
   "cell_type": "code",
   "execution_count": 210,
   "metadata": {},
   "outputs": [
    {
     "name": "stdout",
     "output_type": "stream",
     "text": [
      "F1-score:  0.6525237746891002\n",
      "Precision:  0.6636904761904762\n",
      "Recall:  0.641726618705036\n",
      "Acuracy:  0.6881155613919895\n"
     ]
    }
   ],
   "source": [
    "\n",
    "print(\"F1-score: \", f1_score(predictions_DT, y_test))\n",
    "print(\"Precision: \", precision_score(predictions_DT, y_test))\n",
    "print(\"Recall: \", recall_score(predictions_DT, y_test))\n",
    "print(\"Acuracy: \", accuracy_score(predictions_DT, y_test))"
   ]
  }
 ],
 "metadata": {
  "kernelspec": {
   "display_name": "base",
   "language": "python",
   "name": "python3"
  },
  "language_info": {
   "codemirror_mode": {
    "name": "ipython",
    "version": 3
   },
   "file_extension": ".py",
   "mimetype": "text/x-python",
   "name": "python",
   "nbconvert_exporter": "python",
   "pygments_lexer": "ipython3",
   "version": "3.9.16"
  },
  "orig_nbformat": 4,
  "vscode": {
   "interpreter": {
    "hash": "d0da97104d38feb16e153266d9041b8bad25f307ab3732bc0037a8ea077046bd"
   }
  }
 },
 "nbformat": 4,
 "nbformat_minor": 2
}
