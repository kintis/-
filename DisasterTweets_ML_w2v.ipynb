{
 "cells": [
  {
   "attachments": {},
   "cell_type": "markdown",
   "metadata": {},
   "source": [
    " **Importing dependencies**"
   ]
  },
  {
   "cell_type": "code",
   "execution_count": 1,
   "metadata": {},
   "outputs": [
    {
     "name": "stderr",
     "output_type": "stream",
     "text": [
      "WARNING: Ignoring invalid distribution -rotobuf (c:\\users\\iuliia\\miniconda3\\lib\\site-packages)\n",
      "WARNING: Ignoring invalid distribution -ensorflow-intel (c:\\users\\iuliia\\miniconda3\\lib\\site-packages)\n",
      "WARNING: Ignoring invalid distribution -rotobuf (c:\\users\\iuliia\\miniconda3\\lib\\site-packages)\n",
      "WARNING: Ignoring invalid distribution -ensorflow-intel (c:\\users\\iuliia\\miniconda3\\lib\\site-packages)\n",
      "WARNING: Ignoring invalid distribution -rotobuf (c:\\users\\iuliia\\miniconda3\\lib\\site-packages)\n",
      "WARNING: Ignoring invalid distribution -ensorflow-intel (c:\\users\\iuliia\\miniconda3\\lib\\site-packages)\n",
      "WARNING: Ignoring invalid distribution -rotobuf (c:\\users\\iuliia\\miniconda3\\lib\\site-packages)\n",
      "WARNING: Ignoring invalid distribution -ensorflow-intel (c:\\users\\iuliia\\miniconda3\\lib\\site-packages)\n",
      "WARNING: Ignoring invalid distribution -rotobuf (c:\\users\\iuliia\\miniconda3\\lib\\site-packages)\n",
      "WARNING: Ignoring invalid distribution -ensorflow-intel (c:\\users\\iuliia\\miniconda3\\lib\\site-packages)\n",
      "WARNING: Ignoring invalid distribution -rotobuf (c:\\users\\iuliia\\miniconda3\\lib\\site-packages)\n",
      "WARNING: Ignoring invalid distribution -ensorflow-intel (c:\\users\\iuliia\\miniconda3\\lib\\site-packages)\n"
     ]
    },
    {
     "name": "stdout",
     "output_type": "stream",
     "text": [
      "Requirement already satisfied: pyspellchecker in c:\\users\\iuliia\\miniconda3\\lib\\site-packages (0.7.2)\n"
     ]
    }
   ],
   "source": [
    "#Utilities\n",
    "import pandas as pd \n",
    "import numpy as np\n",
    "import re\n",
    "import string, time\n",
    "from collections import defaultdict\n",
    "!pip install pyspellchecker\n",
    "from spellchecker import SpellChecker\n",
    "\n",
    "#Visualization\n",
    "import seaborn as sns \n",
    "%matplotlib inline\n",
    "import matplotlib.pyplot as plt \n",
    "from wordcloud import WordCloud\n",
    "from wordcloud import STOPWORDS\n",
    "import plotly.graph_objects as go\n",
    "import matplotlib\n",
    "\n",
    "import matplotlib.patches as mpatches\n",
    "\n",
    "# Scipy\n",
    "import scipy\n",
    "from scipy import sparse\n",
    "from scipy.sparse import csr_matrix\n",
    "\n",
    "\n",
    "#Scikit-learn\n",
    "from sklearn.model_selection import train_test_split\n",
    "from sklearn.feature_extraction.text import CountVectorizer\n",
    "from sklearn.feature_extraction.text import TfidfVectorizer\n",
    "\n",
    "#Nltk\n",
    "import nltk\n",
    "from nltk.stem import WordNetLemmatizer\n",
    "from nltk.corpus import stopwords\n",
    "stopwords.words('english')\n",
    "from nltk.stem import PorterStemmer\n",
    "from nltk.tokenize import word_tokenize, RegexpTokenizer\n",
    "\n",
    "import spacy\n",
    "\n",
    "import category_encoders as ce\n",
    "import gensim\n",
    "from sklearn.decomposition import TruncatedSVD\n",
    "\n",
    "\n",
    "\n",
    "\n",
    "# I’m going to use the first model of this family: Google’s Word2Vec (2013). Other popular Word Embedding models are Stanford’s GloVe (2014) and Facebook’s FastText (2016).\n",
    "# https://towardsdatascience.com/text-classification-with-nlp-tf-idf-vs-word2vec-vs-bert-41ff868d1794\n"
   ]
  },
  {
   "attachments": {},
   "cell_type": "markdown",
   "metadata": {},
   "source": [
    "**Importing dataset \"Natural Language Processing with Disaster Tweets\"**"
   ]
  },
  {
   "cell_type": "code",
   "execution_count": 2,
   "metadata": {},
   "outputs": [],
   "source": [
    "#Description of the columns:\n",
    "\n",
    "#id - a unique identifier for each tweet\n",
    "#text - the text of the tweet\n",
    "#location - the location the tweet was sent from (may be blank)\n",
    "#keyword - a particular keyword from the tweet (may be blank)\n",
    "#target - in train.csv only, this denotes whether a tweet is about a real disaster (1) or not (0)"
   ]
  },
  {
   "cell_type": "code",
   "execution_count": 2,
   "metadata": {},
   "outputs": [
    {
     "name": "stdout",
     "output_type": "stream",
     "text": [
      "Number of sentences: 7,613\n",
      "\n"
     ]
    },
    {
     "data": {
      "text/html": [
       "<div>\n",
       "<style scoped>\n",
       "    .dataframe tbody tr th:only-of-type {\n",
       "        vertical-align: middle;\n",
       "    }\n",
       "\n",
       "    .dataframe tbody tr th {\n",
       "        vertical-align: top;\n",
       "    }\n",
       "\n",
       "    .dataframe thead th {\n",
       "        text-align: right;\n",
       "    }\n",
       "</style>\n",
       "<table border=\"1\" class=\"dataframe\">\n",
       "  <thead>\n",
       "    <tr style=\"text-align: right;\">\n",
       "      <th></th>\n",
       "      <th>id</th>\n",
       "      <th>keyword</th>\n",
       "      <th>location</th>\n",
       "      <th>text</th>\n",
       "      <th>target</th>\n",
       "    </tr>\n",
       "  </thead>\n",
       "  <tbody>\n",
       "    <tr>\n",
       "      <th>3738</th>\n",
       "      <td>5313</td>\n",
       "      <td>fire</td>\n",
       "      <td>NaN</td>\n",
       "      <td>Morganite Gemstone White Fire Opal 925 Sterling Silver Ring Size 6 R1354 http://t.co/hHpVSAtQXN http://t.co/D12r8XpShy</td>\n",
       "      <td>0</td>\n",
       "    </tr>\n",
       "    <tr>\n",
       "      <th>4809</th>\n",
       "      <td>6845</td>\n",
       "      <td>loud%20bang</td>\n",
       "      <td>NaN</td>\n",
       "      <td>need to work in an office I can bang all my fav Future jams out loud</td>\n",
       "      <td>0</td>\n",
       "    </tr>\n",
       "    <tr>\n",
       "      <th>7600</th>\n",
       "      <td>10855</td>\n",
       "      <td>NaN</td>\n",
       "      <td>NaN</td>\n",
       "      <td>Evacuation order lifted for town of Roosevelt: http://t.co/EDyfo6E2PU http://t.co/M5KxLPKFA1</td>\n",
       "      <td>1</td>\n",
       "    </tr>\n",
       "    <tr>\n",
       "      <th>1361</th>\n",
       "      <td>1963</td>\n",
       "      <td>burning%20buildings</td>\n",
       "      <td>Spying on your thoughts</td>\n",
       "      <td>@kshllcenterpri1 @Progress4Ohio burning down buildings what you mean like when you burnt down those black churches?</td>\n",
       "      <td>1</td>\n",
       "    </tr>\n",
       "    <tr>\n",
       "      <th>2773</th>\n",
       "      <td>3989</td>\n",
       "      <td>devastation</td>\n",
       "      <td>Washington DC</td>\n",
       "      <td>Fascinating pics from inside North Korea. Not propaganda not devastation - just people living life. http://t.co/E2Db...</td>\n",
       "      <td>0</td>\n",
       "    </tr>\n",
       "    <tr>\n",
       "      <th>6268</th>\n",
       "      <td>8956</td>\n",
       "      <td>storm</td>\n",
       "      <td>NaN</td>\n",
       "      <td>The Secrets Of The Storm Vortex The Lightning Catcher Book Û_ : http://t.co/OIyWrzL79Z .</td>\n",
       "      <td>0</td>\n",
       "    </tr>\n",
       "    <tr>\n",
       "      <th>1063</th>\n",
       "      <td>1534</td>\n",
       "      <td>bomb</td>\n",
       "      <td>Bolton &amp; Tewkesbury, UK</td>\n",
       "      <td>Hiroshima prepares to remember the day the bomb dropped http://t.co/oJHCGZXLSt</td>\n",
       "      <td>1</td>\n",
       "    </tr>\n",
       "    <tr>\n",
       "      <th>4142</th>\n",
       "      <td>5889</td>\n",
       "      <td>harm</td>\n",
       "      <td>Queensland, Australia</td>\n",
       "      <td>Vanderbilt: First Do No Harm http://t.co/cCdx7CGlQW</td>\n",
       "      <td>0</td>\n",
       "    </tr>\n",
       "    <tr>\n",
       "      <th>5312</th>\n",
       "      <td>7585</td>\n",
       "      <td>outbreak</td>\n",
       "      <td>Ile-Ife,Osun state, Nigeria</td>\n",
       "      <td>#News Families to sue over Legionnaires: More than 40 families affected by the fatal outbreak of Legionnaires'... ht...</td>\n",
       "      <td>1</td>\n",
       "    </tr>\n",
       "    <tr>\n",
       "      <th>2512</th>\n",
       "      <td>3608</td>\n",
       "      <td>desolation</td>\n",
       "      <td>[marvelÛ¢dragon ageÛ¢wicdiv]</td>\n",
       "      <td>i decided to take a break from my emotional destruction to watch tangled then watch desolation of smaug</td>\n",
       "      <td>0</td>\n",
       "    </tr>\n",
       "  </tbody>\n",
       "</table>\n",
       "</div>"
      ],
      "text/plain": [
       "         id              keyword                        location                                                                                                                     text  target\n",
       "3738   5313                 fire                             NaN   Morganite Gemstone White Fire Opal 925 Sterling Silver Ring Size 6 R1354 http://t.co/hHpVSAtQXN http://t.co/D12r8XpShy       0\n",
       "4809   6845          loud%20bang                             NaN                                                     need to work in an office I can bang all my fav Future jams out loud       0\n",
       "7600  10855                  NaN                             NaN                             Evacuation order lifted for town of Roosevelt: http://t.co/EDyfo6E2PU http://t.co/M5KxLPKFA1       1\n",
       "1361   1963  burning%20buildings         Spying on your thoughts      @kshllcenterpri1 @Progress4Ohio burning down buildings what you mean like when you burnt down those black churches?       1\n",
       "2773   3989          devastation                   Washington DC  Fascinating pics from inside North Korea. Not propaganda not devastation - just people living life. http://t.co/E2Db...       0\n",
       "6268   8956                storm                             NaN                                The Secrets Of The Storm Vortex The Lightning Catcher Book Û_ : http://t.co/OIyWrzL79Z .       0\n",
       "1063   1534                 bomb         Bolton & Tewkesbury, UK                                           Hiroshima prepares to remember the day the bomb dropped http://t.co/oJHCGZXLSt       1\n",
       "4142   5889                 harm           Queensland, Australia                                                                      Vanderbilt: First Do No Harm http://t.co/cCdx7CGlQW       0\n",
       "5312   7585             outbreak     Ile-Ife,Osun state, Nigeria  #News Families to sue over Legionnaires: More than 40 families affected by the fatal outbreak of Legionnaires'... ht...       1\n",
       "2512   3608           desolation  [marvelÛ¢dragon ageÛ¢wicdiv]                  i decided to take a break from my emotional destruction to watch tangled then watch desolation of smaug       0"
      ]
     },
     "execution_count": 2,
     "metadata": {},
     "output_type": "execute_result"
    }
   ],
   "source": [
    "#Importing dataset\n",
    "dataset=pd.read_csv(\"https://raw.githubusercontent.com/kintis/VKR/main/train.csv\")\n",
    "\n",
    "pd.set_option('max_colwidth', 120)\n",
    "pd.set_option('display.width', 500)\n",
    "\n",
    "#Report the number of sentences\n",
    "print('Number of sentences: {:,}\\n'.format(dataset.shape[0]))\n",
    "\n",
    "#Display 10 random rows from the dataset\n",
    "dataset.sample(10, random_state=13)\n"
   ]
  },
  {
   "cell_type": "code",
   "execution_count": 3,
   "metadata": {},
   "outputs": [
    {
     "data": {
      "text/html": [
       "<div>\n",
       "<style scoped>\n",
       "    .dataframe tbody tr th:only-of-type {\n",
       "        vertical-align: middle;\n",
       "    }\n",
       "\n",
       "    .dataframe tbody tr th {\n",
       "        vertical-align: top;\n",
       "    }\n",
       "\n",
       "    .dataframe thead th {\n",
       "        text-align: right;\n",
       "    }\n",
       "</style>\n",
       "<table border=\"1\" class=\"dataframe\">\n",
       "  <thead>\n",
       "    <tr style=\"text-align: right;\">\n",
       "      <th></th>\n",
       "      <th>text</th>\n",
       "      <th>target</th>\n",
       "    </tr>\n",
       "  </thead>\n",
       "  <tbody>\n",
       "    <tr>\n",
       "      <th>3738</th>\n",
       "      <td>Morganite Gemstone White Fire Opal 925 Sterling Silver Ring Size 6 R1354 http://t.co/hHpVSAtQXN http://t.co/D12r8XpShy</td>\n",
       "      <td>0</td>\n",
       "    </tr>\n",
       "    <tr>\n",
       "      <th>4809</th>\n",
       "      <td>need to work in an office I can bang all my fav Future jams out loud</td>\n",
       "      <td>0</td>\n",
       "    </tr>\n",
       "    <tr>\n",
       "      <th>7600</th>\n",
       "      <td>Evacuation order lifted for town of Roosevelt: http://t.co/EDyfo6E2PU http://t.co/M5KxLPKFA1</td>\n",
       "      <td>1</td>\n",
       "    </tr>\n",
       "    <tr>\n",
       "      <th>1361</th>\n",
       "      <td>@kshllcenterpri1 @Progress4Ohio burning down buildings what you mean like when you burnt down those black churches?</td>\n",
       "      <td>1</td>\n",
       "    </tr>\n",
       "    <tr>\n",
       "      <th>2773</th>\n",
       "      <td>Fascinating pics from inside North Korea. Not propaganda not devastation - just people living life. http://t.co/E2Db...</td>\n",
       "      <td>0</td>\n",
       "    </tr>\n",
       "    <tr>\n",
       "      <th>6268</th>\n",
       "      <td>The Secrets Of The Storm Vortex The Lightning Catcher Book Û_ : http://t.co/OIyWrzL79Z .</td>\n",
       "      <td>0</td>\n",
       "    </tr>\n",
       "    <tr>\n",
       "      <th>1063</th>\n",
       "      <td>Hiroshima prepares to remember the day the bomb dropped http://t.co/oJHCGZXLSt</td>\n",
       "      <td>1</td>\n",
       "    </tr>\n",
       "    <tr>\n",
       "      <th>4142</th>\n",
       "      <td>Vanderbilt: First Do No Harm http://t.co/cCdx7CGlQW</td>\n",
       "      <td>0</td>\n",
       "    </tr>\n",
       "    <tr>\n",
       "      <th>5312</th>\n",
       "      <td>#News Families to sue over Legionnaires: More than 40 families affected by the fatal outbreak of Legionnaires'... ht...</td>\n",
       "      <td>1</td>\n",
       "    </tr>\n",
       "    <tr>\n",
       "      <th>2512</th>\n",
       "      <td>i decided to take a break from my emotional destruction to watch tangled then watch desolation of smaug</td>\n",
       "      <td>0</td>\n",
       "    </tr>\n",
       "  </tbody>\n",
       "</table>\n",
       "</div>"
      ],
      "text/plain": [
       "                                                                                                                         text  target\n",
       "3738   Morganite Gemstone White Fire Opal 925 Sterling Silver Ring Size 6 R1354 http://t.co/hHpVSAtQXN http://t.co/D12r8XpShy       0\n",
       "4809                                                     need to work in an office I can bang all my fav Future jams out loud       0\n",
       "7600                             Evacuation order lifted for town of Roosevelt: http://t.co/EDyfo6E2PU http://t.co/M5KxLPKFA1       1\n",
       "1361      @kshllcenterpri1 @Progress4Ohio burning down buildings what you mean like when you burnt down those black churches?       1\n",
       "2773  Fascinating pics from inside North Korea. Not propaganda not devastation - just people living life. http://t.co/E2Db...       0\n",
       "6268                                The Secrets Of The Storm Vortex The Lightning Catcher Book Û_ : http://t.co/OIyWrzL79Z .       0\n",
       "1063                                           Hiroshima prepares to remember the day the bomb dropped http://t.co/oJHCGZXLSt       1\n",
       "4142                                                                      Vanderbilt: First Do No Harm http://t.co/cCdx7CGlQW       0\n",
       "5312  #News Families to sue over Legionnaires: More than 40 families affected by the fatal outbreak of Legionnaires'... ht...       1\n",
       "2512                  i decided to take a break from my emotional destruction to watch tangled then watch desolation of smaug       0"
      ]
     },
     "execution_count": 3,
     "metadata": {},
     "output_type": "execute_result"
    }
   ],
   "source": [
    "#Remove columns \"location\" from dataset that has a high proportion of missing values (>33%), column \"id\" due to unnecessary and \"keyword\"\n",
    "data = dataset.drop(columns=['location', 'id', \"keyword\"])\n",
    "#Display 10 random rows from the dataset\n",
    "data.sample(10, random_state=13)"
   ]
  },
  {
   "cell_type": "code",
   "execution_count": 4,
   "metadata": {},
   "outputs": [
    {
     "name": "stderr",
     "output_type": "stream",
     "text": [
      "No artists with labels found to put in legend.  Note that artists whose label start with an underscore are ignored when legend() is called with no argument.\n"
     ]
    },
    {
     "data": {
      "image/png": "[encoded data removed]",
      "text/plain": [
       "<Figure size 1000x500 with 1 Axes>"
      ]
     },
     "metadata": {},
     "output_type": "display_data"
    }
   ],
   "source": [
    "#Visualizing class distribution (1 is real disaster, 0 isn't real disaster)\n",
    "plt.figure(figsize=(10,5))\n",
    "ax = sns.countplot(data=data, y='target', palette='Paired')\n",
    "ax.set_title('Распределение твитов по классам в наборе данных', fontsize=13)\n",
    "ax.set_xlabel('Количество твитов')\n",
    "ax.set_ylabel('Метки классов')\n",
    "for label in ax.containers:\n",
    "    ax.bar_label(label)\n",
    "plt.legend(loc='lower right', title=\"0: Non disaster\\n1: Disaster\", ncol = 2)\n",
    "plt.show()"
   ]
  },
  {
   "attachments": {},
   "cell_type": "markdown",
   "metadata": {},
   "source": [
    "**Splitting the Data**<br>\n",
    "The data is divided into 2 sets of data:<br>\n",
    "\n",
    "Training Data: The dataset upon which the model would be trained on. Contains 80% data.<br>\n",
    "Test Data: The dataset upon which the model would be tested against. Contains20% data.<br>"
   ]
  },
  {
   "cell_type": "code",
   "execution_count": 5,
   "metadata": {},
   "outputs": [
    {
     "name": "stdout",
     "output_type": "stream",
     "text": [
      "Train Data size: 6090\n",
      "Test Data size 1523\n",
      "(6090, 2)\n",
      "(1523, 2)\n"
     ]
    }
   ],
   "source": [
    "TRAIN_SIZE=0.8\n",
    "# Splits Dataset into Training and Testing set\n",
    "train_data, test_data = train_test_split(data, test_size=1-TRAIN_SIZE,\n",
    "                                         random_state=13) \n",
    "print(\"Train Data size:\", len(train_data))\n",
    "print(\"Test Data size\", len(test_data))\n",
    "\n",
    "print(train_data.shape)\n",
    "print(test_data.shape)"
   ]
  },
  {
   "cell_type": "code",
   "execution_count": 6,
   "metadata": {},
   "outputs": [
    {
     "name": "stdout",
     "output_type": "stream",
     "text": [
      "<class 'pandas.core.frame.DataFrame'>\n",
      "Int64Index: 6090 entries, 5753 to 338\n",
      "Data columns (total 2 columns):\n",
      " #   Column  Non-Null Count  Dtype \n",
      "---  ------  --------------  ----- \n",
      " 0   text    6090 non-null   object\n",
      " 1   target  6090 non-null   int64 \n",
      "dtypes: int64(1), object(1)\n",
      "memory usage: 142.7+ KB\n"
     ]
    }
   ],
   "source": [
    "train_data.info()"
   ]
  },
  {
   "cell_type": "code",
   "execution_count": 7,
   "metadata": {},
   "outputs": [
    {
     "data": {
      "application/vnd.plotly.v1+json": {
       "config": {
        "plotlyServerURL": "https://plot.ly"
       },
       "data": [
        {
         "hole": 0.5,
         "labels": [
          "Train set",
          "Test set"
         ],
         "textinfo": "percent",
         "title": {
          "text": " "
         },
         "type": "pie",
         "values": [
          6090,
          1523
         ]
        }
       ],
       "layout": {
        "height": 500,
        "showlegend": true,
        "template": {
         "data": {
          "bar": [
           {
            "error_x": {
             "color": "#2a3f5f"
            },
            "error_y": {
             "color": "#2a3f5f"
            },
            "marker": {
             "line": {
              "color": "#E5ECF6",
              "width": 0.5
             },
             "pattern": {
              "fillmode": "overlay",
              "size": 10,
              "solidity": 0.2
             }
            },
            "type": "bar"
           }
          ],
          "barpolar": [
           {
            "marker": {
             "line": {
              "color": "#E5ECF6",
              "width": 0.5
             },
             "pattern": {
              "fillmode": "overlay",
              "size": 10,
              "solidity": 0.2
             }
            },
            "type": "barpolar"
           }
          ],
          "carpet": [
           {
            "aaxis": {
             "endlinecolor": "#2a3f5f",
             "gridcolor": "white",
             "linecolor": "white",
             "minorgridcolor": "white",
             "startlinecolor": "#2a3f5f"
            },
            "baxis": {
             "endlinecolor": "#2a3f5f",
             "gridcolor": "white",
             "linecolor": "white",
             "minorgridcolor": "white",
             "startlinecolor": "#2a3f5f"
            },
            "type": "carpet"
           }
          ],
          "choropleth": [
           {
            "colorbar": {
             "outlinewidth": 0,
             "ticks": ""
            },
            "type": "choropleth"
           }
          ],
          "contour": [
           {
            "colorbar": {
             "outlinewidth": 0,
             "ticks": ""
            },
            "colorscale": [
             [
              0,
              "#0d0887"
             ],
             [
              0.1111111111111111,
              "#46039f"
             ],
             [
              0.2222222222222222,
              "#7201a8"
             ],
             [
              0.3333333333333333,
              "#9c179e"
             ],
             [
              0.4444444444444444,
              "#bd3786"
             ],
             [
              0.5555555555555556,
              "#d8576b"
             ],
             [
              0.6666666666666666,
              "#ed7953"
             ],
             [
              0.7777777777777778,
              "#fb9f3a"
             ],
             [
              0.8888888888888888,
              "#fdca26"
             ],
             [
              1,
              "#f0f921"
             ]
            ],
            "type": "contour"
           }
          ],
          "contourcarpet": [
           {
            "colorbar": {
             "outlinewidth": 0,
             "ticks": ""
            },
            "type": "contourcarpet"
           }
          ],
          "heatmap": [
           {
            "colorbar": {
             "outlinewidth": 0,
             "ticks": ""
            },
            "colorscale": [
             [
              0,
              "#0d0887"
             ],
             [
              0.1111111111111111,
              "#46039f"
             ],
             [
              0.2222222222222222,
              "#7201a8"
             ],
             [
              0.3333333333333333,
              "#9c179e"
             ],
             [
              0.4444444444444444,
              "#bd3786"
             ],
             [
              0.5555555555555556,
              "#d8576b"
             ],
             [
              0.6666666666666666,
              "#ed7953"
             ],
             [
              0.7777777777777778,
              "#fb9f3a"
             ],
             [
              0.8888888888888888,
              "#fdca26"
             ],
             [
              1,
              "#f0f921"
             ]
            ],
            "type": "heatmap"
           }
          ],
          "heatmapgl": [
           {
            "colorbar": {
             "outlinewidth": 0,
             "ticks": ""
            },
            "colorscale": [
             [
              0,
              "#0d0887"
             ],
             [
              0.1111111111111111,
              "#46039f"
             ],
             [
              0.2222222222222222,
              "#7201a8"
             ],
             [
              0.3333333333333333,
              "#9c179e"
             ],
             [
              0.4444444444444444,
              "#bd3786"
             ],
             [
              0.5555555555555556,
              "#d8576b"
             ],
             [
              0.6666666666666666,
              "#ed7953"
             ],
             [
              0.7777777777777778,
              "#fb9f3a"
             ],
             [
              0.8888888888888888,
              "#fdca26"
             ],
             [
              1,
              "#f0f921"
             ]
            ],
            "type": "heatmapgl"
           }
          ],
          "histogram": [
           {
            "marker": {
             "pattern": {
              "fillmode": "overlay",
              "size": 10,
              "solidity": 0.2
             }
            },
            "type": "histogram"
           }
          ],
          "histogram2d": [
           {
            "colorbar": {
             "outlinewidth": 0,
             "ticks": ""
            },
            "colorscale": [
             [
              0,
              "#0d0887"
             ],
             [
              0.1111111111111111,
              "#46039f"
             ],
             [
              0.2222222222222222,
              "#7201a8"
             ],
             [
              0.3333333333333333,
              "#9c179e"
             ],
             [
              0.4444444444444444,
              "#bd3786"
             ],
             [
              0.5555555555555556,
              "#d8576b"
             ],
             [
              0.6666666666666666,
              "#ed7953"
             ],
             [
              0.7777777777777778,
              "#fb9f3a"
             ],
             [
              0.8888888888888888,
              "#fdca26"
             ],
             [
              1,
              "#f0f921"
             ]
            ],
            "type": "histogram2d"
           }
          ],
          "histogram2dcontour": [
           {
            "colorbar": {
             "outlinewidth": 0,
             "ticks": ""
            },
            "colorscale": [
             [
              0,
              "#0d0887"
             ],
             [
              0.1111111111111111,
              "#46039f"
             ],
             [
              0.2222222222222222,
              "#7201a8"
             ],
             [
              0.3333333333333333,
              "#9c179e"
             ],
             [
              0.4444444444444444,
              "#bd3786"
             ],
             [
              0.5555555555555556,
              "#d8576b"
             ],
             [
              0.6666666666666666,
              "#ed7953"
             ],
             [
              0.7777777777777778,
              "#fb9f3a"
             ],
             [
              0.8888888888888888,
              "#fdca26"
             ],
             [
              1,
              "#f0f921"
             ]
            ],
            "type": "histogram2dcontour"
           }
          ],
          "mesh3d": [
           {
            "colorbar": {
             "outlinewidth": 0,
             "ticks": ""
            },
            "type": "mesh3d"
           }
          ],
          "parcoords": [
           {
            "line": {
             "colorbar": {
              "outlinewidth": 0,
              "ticks": ""
             }
            },
            "type": "parcoords"
           }
          ],
          "pie": [
           {
            "automargin": true,
            "type": "pie"
           }
          ],
          "scatter": [
           {
            "fillpattern": {
             "fillmode": "overlay",
             "size": 10,
             "solidity": 0.2
            },
            "type": "scatter"
           }
          ],
          "scatter3d": [
           {
            "line": {
             "colorbar": {
              "outlinewidth": 0,
              "ticks": ""
             }
            },
            "marker": {
             "colorbar": {
              "outlinewidth": 0,
              "ticks": ""
             }
            },
            "type": "scatter3d"
           }
          ],
          "scattercarpet": [
           {
            "marker": {
             "colorbar": {
              "outlinewidth": 0,
              "ticks": ""
             }
            },
            "type": "scattercarpet"
           }
          ],
          "scattergeo": [
           {
            "marker": {
             "colorbar": {
              "outlinewidth": 0,
              "ticks": ""
             }
            },
            "type": "scattergeo"
           }
          ],
          "scattergl": [
           {
            "marker": {
             "colorbar": {
              "outlinewidth": 0,
              "ticks": ""
             }
            },
            "type": "scattergl"
           }
          ],
          "scattermapbox": [
           {
            "marker": {
             "colorbar": {
              "outlinewidth": 0,
              "ticks": ""
             }
            },
            "type": "scattermapbox"
           }
          ],
          "scatterpolar": [
           {
            "marker": {
             "colorbar": {
              "outlinewidth": 0,
              "ticks": ""
             }
            },
            "type": "scatterpolar"
           }
          ],
          "scatterpolargl": [
           {
            "marker": {
             "colorbar": {
              "outlinewidth": 0,
              "ticks": ""
             }
            },
            "type": "scatterpolargl"
           }
          ],
          "scatterternary": [
           {
            "marker": {
             "colorbar": {
              "outlinewidth": 0,
              "ticks": ""
             }
            },
            "type": "scatterternary"
           }
          ],
          "surface": [
           {
            "colorbar": {
             "outlinewidth": 0,
             "ticks": ""
            },
            "colorscale": [
             [
              0,
              "#0d0887"
             ],
             [
              0.1111111111111111,
              "#46039f"
             ],
             [
              0.2222222222222222,
              "#7201a8"
             ],
             [
              0.3333333333333333,
              "#9c179e"
             ],
             [
              0.4444444444444444,
              "#bd3786"
             ],
             [
              0.5555555555555556,
              "#d8576b"
             ],
             [
              0.6666666666666666,
              "#ed7953"
             ],
             [
              0.7777777777777778,
              "#fb9f3a"
             ],
             [
              0.8888888888888888,
              "#fdca26"
             ],
             [
              1,
              "#f0f921"
             ]
            ],
            "type": "surface"
           }
          ],
          "table": [
           {
            "cells": {
             "fill": {
              "color": "#EBF0F8"
             },
             "line": {
              "color": "white"
             }
            },
            "header": {
             "fill": {
              "color": "#C8D4E3"
             },
             "line": {
              "color": "white"
             }
            },
            "type": "table"
           }
          ]
         },
         "layout": {
          "annotationdefaults": {
           "arrowcolor": "#2a3f5f",
           "arrowhead": 0,
           "arrowwidth": 1
          },
          "autotypenumbers": "strict",
          "coloraxis": {
           "colorbar": {
            "outlinewidth": 0,
            "ticks": ""
           }
          },
          "colorscale": {
           "diverging": [
            [
             0,
             "#8e0152"
            ],
            [
             0.1,
             "#c51b7d"
            ],
            [
             0.2,
             "#de77ae"
            ],
            [
             0.3,
             "#f1b6da"
            ],
            [
             0.4,
             "#fde0ef"
            ],
            [
             0.5,
             "#f7f7f7"
            ],
            [
             0.6,
             "#e6f5d0"
            ],
            [
             0.7,
             "#b8e186"
            ],
            [
             0.8,
             "#7fbc41"
            ],
            [
             0.9,
             "#4d9221"
            ],
            [
             1,
             "#276419"
            ]
           ],
           "sequential": [
            [
             0,
             "#0d0887"
            ],
            [
             0.1111111111111111,
             "#46039f"
            ],
            [
             0.2222222222222222,
             "#7201a8"
            ],
            [
             0.3333333333333333,
             "#9c179e"
            ],
            [
             0.4444444444444444,
             "#bd3786"
            ],
            [
             0.5555555555555556,
             "#d8576b"
            ],
            [
             0.6666666666666666,
             "#ed7953"
            ],
            [
             0.7777777777777778,
             "#fb9f3a"
            ],
            [
             0.8888888888888888,
             "#fdca26"
            ],
            [
             1,
             "#f0f921"
            ]
           ],
           "sequentialminus": [
            [
             0,
             "#0d0887"
            ],
            [
             0.1111111111111111,
             "#46039f"
            ],
            [
             0.2222222222222222,
             "#7201a8"
            ],
            [
             0.3333333333333333,
             "#9c179e"
            ],
            [
             0.4444444444444444,
             "#bd3786"
            ],
            [
             0.5555555555555556,
             "#d8576b"
            ],
            [
             0.6666666666666666,
             "#ed7953"
            ],
            [
             0.7777777777777778,
             "#fb9f3a"
            ],
            [
             0.8888888888888888,
             "#fdca26"
            ],
            [
             1,
             "#f0f921"
            ]
           ]
          },
          "colorway": [
           "#636efa",
           "#EF553B",
           "#00cc96",
           "#ab63fa",
           "#FFA15A",
           "#19d3f3",
           "#FF6692",
           "#B6E880",
           "#FF97FF",
           "#FECB52"
          ],
          "font": {
           "color": "#2a3f5f"
          },
          "geo": {
           "bgcolor": "white",
           "lakecolor": "white",
           "landcolor": "#E5ECF6",
           "showlakes": true,
           "showland": true,
           "subunitcolor": "white"
          },
          "hoverlabel": {
           "align": "left"
          },
          "hovermode": "closest",
          "mapbox": {
           "style": "light"
          },
          "paper_bgcolor": "white",
          "plot_bgcolor": "#E5ECF6",
          "polar": {
           "angularaxis": {
            "gridcolor": "white",
            "linecolor": "white",
            "ticks": ""
           },
           "bgcolor": "#E5ECF6",
           "radialaxis": {
            "gridcolor": "white",
            "linecolor": "white",
            "ticks": ""
           }
          },
          "scene": {
           "xaxis": {
            "backgroundcolor": "#E5ECF6",
            "gridcolor": "white",
            "gridwidth": 2,
            "linecolor": "white",
            "showbackground": true,
            "ticks": "",
            "zerolinecolor": "white"
           },
           "yaxis": {
            "backgroundcolor": "#E5ECF6",
            "gridcolor": "white",
            "gridwidth": 2,
            "linecolor": "white",
            "showbackground": true,
            "ticks": "",
            "zerolinecolor": "white"
           },
           "zaxis": {
            "backgroundcolor": "#E5ECF6",
            "gridcolor": "white",
            "gridwidth": 2,
            "linecolor": "white",
            "showbackground": true,
            "ticks": "",
            "zerolinecolor": "white"
           }
          },
          "shapedefaults": {
           "line": {
            "color": "#2a3f5f"
           }
          },
          "ternary": {
           "aaxis": {
            "gridcolor": "white",
            "linecolor": "white",
            "ticks": ""
           },
           "baxis": {
            "gridcolor": "white",
            "linecolor": "white",
            "ticks": ""
           },
           "bgcolor": "#E5ECF6",
           "caxis": {
            "gridcolor": "white",
            "linecolor": "white",
            "ticks": ""
           }
          },
          "title": {
           "x": 0.05
          },
          "xaxis": {
           "automargin": true,
           "gridcolor": "white",
           "linecolor": "white",
           "ticks": "",
           "title": {
            "standoff": 15
           },
           "zerolinecolor": "white",
           "zerolinewidth": 2
          },
          "yaxis": {
           "automargin": true,
           "gridcolor": "white",
           "linecolor": "white",
           "ticks": "",
           "title": {
            "standoff": 15
           },
           "zerolinecolor": "white",
           "zerolinewidth": 2
          }
         }
        },
        "title": {
         "text": "Распределение на обучающую и тестовую выборку",
         "x": 0.5,
         "y": 0.95
        },
        "width": 800
       }
      }
     },
     "metadata": {},
     "output_type": "display_data"
    }
   ],
   "source": [
    "#Comparison of sizes of training set, and test set\n",
    "values = np.array([len(train_data), len(test_data)])\n",
    "labels = ['Train set', 'Test set']\n",
    "fig = go.Figure(data = [go.Pie(values = values, labels = labels, hole = 0.5, textinfo = 'percent', title = \" \")])\n",
    "text_title = \"Распределение на обучающую и тестовую выборку\"\n",
    "fig.update_layout(height = 500, width = 800, showlegend = True, title = dict(text = text_title, x = 0.5, y = 0.95)) \n",
    "fig.show()"
   ]
  },
  {
   "attachments": {},
   "cell_type": "markdown",
   "metadata": {},
   "source": [
    "**Text normalization**"
   ]
  },
  {
   "cell_type": "code",
   "execution_count": 8,
   "metadata": {},
   "outputs": [],
   "source": [
    "# RegexpTokenizer\n",
    "regexp = RegexpTokenizer(\"[\\w']+\")"
   ]
  },
  {
   "cell_type": "code",
   "execution_count": 9,
   "metadata": {},
   "outputs": [
    {
     "name": "stdout",
     "output_type": "stream",
     "text": [
      "Input: This is a FUNCTION that CoNvErTs a Text to lowercase\n",
      "Output: this is a function that converts a text to lowercase\n"
     ]
    }
   ],
   "source": [
    "# Converting to lowercase\n",
    "def convert_to_lowercase(text):\n",
    "    return text.lower()\n",
    "\n",
    "text = \"This is a FUNCTION that CoNvErTs a Text to lowercase\"\n",
    "print(\"Input: {}\".format(text))\n",
    "print(\"Output: {}\".format(convert_to_lowercase(text)))"
   ]
  },
  {
   "cell_type": "code",
   "execution_count": 10,
   "metadata": {},
   "outputs": [
    {
     "name": "stdout",
     "output_type": "stream",
     "text": [
      "Input:  \t This is a string \t \n",
      "Output: This is a string\n"
     ]
    }
   ],
   "source": [
    "# Removing whitespaces\n",
    "def remove_whitespace(text):\n",
    "    return text.strip()\n",
    "\n",
    "text = \" \\t This is a string \\t \"\n",
    "print(\"Input: {}\".format(text))\n",
    "print(\"Output: {}\".format(remove_whitespace(text)))"
   ]
  },
  {
   "cell_type": "code",
   "execution_count": 11,
   "metadata": {},
   "outputs": [
    {
     "name": "stdout",
     "output_type": "stream",
     "text": [
      "Input: Here's [an] example? {of} &a string. with.? punctuations!!!!\n",
      "Output: Here's an example of a string with punctuations\n"
     ]
    }
   ],
   "source": [
    "# Removing punctuations\n",
    "def remove_punctuation(text):\n",
    "    punct_str = string.punctuation\n",
    "    punct_str = punct_str.replace(\"'\", \"\") # discarding apostrophe from the string to keep the contractions intact\n",
    "    return text.translate(str.maketrans(\"\", \"\", punct_str))\n",
    "\n",
    "text = \"Here's [an] example? {of} &a string. with.? punctuations!!!!\"\n",
    "print(\"Input: {}\".format(text))\n",
    "print(\"Output: {}\".format(remove_punctuation(text)))"
   ]
  },
  {
   "cell_type": "code",
   "execution_count": 12,
   "metadata": {},
   "outputs": [
    {
     "name": "stdout",
     "output_type": "stream",
     "text": [
      "Input: <a href = \"https://www.kaggle.com/c/nlp-getting-started/overview\"> Natural Language Processing with Disaster Tweets </a>\n",
      "Output:  Natural Language Processing with Disaster Tweets \n"
     ]
    }
   ],
   "source": [
    "# Removing HTML tags\n",
    "def remove_html(text):\n",
    "    html = re.compile(r'<.*?>')\n",
    "    return html.sub(r'', text)\n",
    "\n",
    "text = '<a href = \"https://www.kaggle.com/c/nlp-getting-started/overview\"> Natural Language Processing with Disaster Tweets </a>'\n",
    "\n",
    "print(\"Input: {}\".format(text))\n",
    "print(\"Output: {}\".format(remove_html(text)))"
   ]
  },
  {
   "cell_type": "code",
   "execution_count": 13,
   "metadata": {},
   "outputs": [
    {
     "name": "stdout",
     "output_type": "stream",
     "text": [
      "Input: This innovative hd printing technique results in durable and spectacular looking prints 😊\n",
      "Output: This innovative hd printing technique results in durable and spectacular looking prints \n"
     ]
    }
   ],
   "source": [
    "# Removing emojis\n",
    "def remove_emoji(text):\n",
    "    emoji_pattern = re.compile(\"[\"\n",
    "                           u\"\\U0001F600-\\U0001F64F\"  # emoticons\n",
    "                           u\"\\U0001F300-\\U0001F5FF\"  # symbols & pictographs\n",
    "                           u\"\\U0001F680-\\U0001F6FF\"  # transport & map symbols\n",
    "                           u\"\\U0001F1E0-\\U0001F1FF\"  # flags (iOS)\n",
    "                           u\"\\U00002702-\\U000027B0\"\n",
    "                           u\"\\U000024C2-\\U0001F251\"\n",
    "                           \"]+\", flags = re.UNICODE)\n",
    "    return emoji_pattern.sub(r'', text)\n",
    "\n",
    "text = \"This innovative hd printing technique results in durable and spectacular looking prints 😊\"\n",
    "print(\"Input: {}\".format(text))\n",
    "print(\"Output: {}\".format(remove_emoji(text)))"
   ]
  },
  {
   "cell_type": "code",
   "execution_count": 15,
   "metadata": {},
   "outputs": [
    {
     "data": {
      "text/html": [
       "<div>\n",
       "<style scoped>\n",
       "    .dataframe tbody tr th:only-of-type {\n",
       "        vertical-align: middle;\n",
       "    }\n",
       "\n",
       "    .dataframe tbody tr th {\n",
       "        vertical-align: top;\n",
       "    }\n",
       "\n",
       "    .dataframe thead th {\n",
       "        text-align: right;\n",
       "    }\n",
       "</style>\n",
       "<table border=\"1\" class=\"dataframe\">\n",
       "  <thead>\n",
       "    <tr style=\"text-align: right;\">\n",
       "      <th></th>\n",
       "      <th>acronym</th>\n",
       "      <th>original</th>\n",
       "    </tr>\n",
       "  </thead>\n",
       "  <tbody>\n",
       "    <tr>\n",
       "      <th>0</th>\n",
       "      <td>aka</td>\n",
       "      <td>also known as</td>\n",
       "    </tr>\n",
       "    <tr>\n",
       "      <th>1</th>\n",
       "      <td>asap</td>\n",
       "      <td>as soon as possible</td>\n",
       "    </tr>\n",
       "    <tr>\n",
       "      <th>2</th>\n",
       "      <td>brb</td>\n",
       "      <td>be right back</td>\n",
       "    </tr>\n",
       "    <tr>\n",
       "      <th>3</th>\n",
       "      <td>btw</td>\n",
       "      <td>by the way</td>\n",
       "    </tr>\n",
       "    <tr>\n",
       "      <th>4</th>\n",
       "      <td>dob</td>\n",
       "      <td>date of birth</td>\n",
       "    </tr>\n",
       "  </tbody>\n",
       "</table>\n",
       "</div>"
      ],
      "text/plain": [
       "  acronym             original\n",
       "0     aka        also known as\n",
       "1    asap  as soon as possible\n",
       "2     brb        be right back\n",
       "3     btw           by the way\n",
       "4     dob        date of birth"
      ]
     },
     "execution_count": 15,
     "metadata": {},
     "output_type": "execute_result"
    }
   ],
   "source": [
    "# Substitution of Acronyms\n",
    "\n",
    "acronyms_dict={\"aka\": \"also known as\",\n",
    "\"asap\": \"as soon as possible\",\n",
    "\"brb\": \"be right back\",\n",
    "\"btw\": \"by the way\",\n",
    "\"dob\": \"date of birth\",\n",
    "\"faq\": \"frequently asked questions\",\n",
    "\"fyi\": \"for your information\",\n",
    "\"idk\": \"i don't know\",\n",
    "\"idc\": \"i don't care\",\n",
    "\"iirc\": \"if i recall correctly\",\n",
    "\"imo\": \"in my opinion\",\n",
    "\"irl\": \"in real life\",\n",
    "\"lmk\": \"let me know\",\n",
    "\"lol\": \"laugh out loud\",\n",
    "\"ngl\": \"not gonna lie\",\n",
    "\"noyb\": \"none of your business\",\n",
    "\"nvm\": \"never mind\",\n",
    "\"ofc\": \"of course\",\n",
    "\"omg\": \"oh my god\",\n",
    "\"pfa\": \"please find attached\",\n",
    "\"rofl\": \"rolling on the floor laughing\",\n",
    "\"stfu\": \"shut the fuck up\",\n",
    "\"tba\": \"to be announced\",\n",
    "\"tbc\": \"to be continued\",\n",
    "\"tbd\": \"to be determined\",\n",
    "\"tbh\": \"to be honest\",\n",
    "\"ttyl\": \"talk to you later\",\n",
    "\"wtf\": \"what the fuck\",\n",
    "\"wth\": \"what the heck\"\n",
    "}\n",
    "\n",
    "# Dataframe of acronyms\n",
    "pd.DataFrame(acronyms_dict.items(), columns = ['acronym', 'original']).head()"
   ]
  },
  {
   "cell_type": "code",
   "execution_count": 16,
   "metadata": {},
   "outputs": [],
   "source": [
    "# List of acronyms\n",
    "acronyms_list = list(acronyms_dict.keys())"
   ]
  },
  {
   "cell_type": "code",
   "execution_count": 17,
   "metadata": {},
   "outputs": [
    {
     "name": "stdout",
     "output_type": "stream",
     "text": [
      "Input: btw you've to fill in the details including dob\n",
      "Output: by the way you've to fill in the details including date of birth\n"
     ]
    }
   ],
   "source": [
    "# Function to convert contractions in a text\n",
    "def convert_acronyms(text):\n",
    "    words = []\n",
    "    for word in regexp.tokenize(text):\n",
    "        if word in acronyms_list:\n",
    "            words = words + acronyms_dict[word].split()\n",
    "        else:\n",
    "            words = words + word.split()\n",
    "    \n",
    "    text_converted = \" \".join(words)\n",
    "    return text_converted\n",
    "\n",
    "text = \"btw you've to fill in the details including dob\"\n",
    "print(\"Input: {}\".format(text))\n",
    "print(\"Output: {}\".format(convert_acronyms(text)))"
   ]
  },
  {
   "cell_type": "code",
   "execution_count": 18,
   "metadata": {},
   "outputs": [
    {
     "name": "stdout",
     "output_type": "stream",
     "text": [
      "Example: Original form of the contraction 'aren't' is 'are not'\n"
     ]
    }
   ],
   "source": [
    "# Substitution of Contractions\n",
    "# Dictionary of contractions\n",
    "\n",
    "contractions_url = 'https://raw.githubusercontent.com/kintis/VKR/main/english_contractions.json'\n",
    "contractions_dict = pd.read_json(contractions_url, typ = 'series')\n",
    "\n",
    "print(\"Example: Original form of the contraction 'aren't' is '{}'\".format(contractions_dict[\"aren't\"]))"
   ]
  },
  {
   "cell_type": "code",
   "execution_count": 19,
   "metadata": {},
   "outputs": [
    {
     "data": {
      "text/html": [
       "<div>\n",
       "<style scoped>\n",
       "    .dataframe tbody tr th:only-of-type {\n",
       "        vertical-align: middle;\n",
       "    }\n",
       "\n",
       "    .dataframe tbody tr th {\n",
       "        vertical-align: top;\n",
       "    }\n",
       "\n",
       "    .dataframe thead th {\n",
       "        text-align: right;\n",
       "    }\n",
       "</style>\n",
       "<table border=\"1\" class=\"dataframe\">\n",
       "  <thead>\n",
       "    <tr style=\"text-align: right;\">\n",
       "      <th></th>\n",
       "      <th>contraction</th>\n",
       "      <th>original</th>\n",
       "    </tr>\n",
       "  </thead>\n",
       "  <tbody>\n",
       "    <tr>\n",
       "      <th>0</th>\n",
       "      <td>'aight</td>\n",
       "      <td>alright</td>\n",
       "    </tr>\n",
       "    <tr>\n",
       "      <th>1</th>\n",
       "      <td>ain't</td>\n",
       "      <td>are not</td>\n",
       "    </tr>\n",
       "    <tr>\n",
       "      <th>2</th>\n",
       "      <td>amn't</td>\n",
       "      <td>am not</td>\n",
       "    </tr>\n",
       "    <tr>\n",
       "      <th>3</th>\n",
       "      <td>arencha</td>\n",
       "      <td>are not you</td>\n",
       "    </tr>\n",
       "    <tr>\n",
       "      <th>4</th>\n",
       "      <td>aren't</td>\n",
       "      <td>are not</td>\n",
       "    </tr>\n",
       "  </tbody>\n",
       "</table>\n",
       "</div>"
      ],
      "text/plain": [
       "  contraction     original\n",
       "0      'aight      alright\n",
       "1       ain't      are not\n",
       "2       amn't       am not\n",
       "3     arencha  are not you\n",
       "4      aren't      are not"
      ]
     },
     "execution_count": 19,
     "metadata": {},
     "output_type": "execute_result"
    }
   ],
   "source": [
    "# Dataframe of contractions\n",
    "pd.DataFrame(contractions_dict.items(), columns = ['contraction', 'original']).head()"
   ]
  },
  {
   "cell_type": "code",
   "execution_count": 20,
   "metadata": {},
   "outputs": [],
   "source": [
    "# List of contractions\n",
    "contractions_list = list(contractions_dict.keys())"
   ]
  },
  {
   "cell_type": "code",
   "execution_count": 21,
   "metadata": {},
   "outputs": [
    {
     "name": "stdout",
     "output_type": "stream",
     "text": [
      "Input: he's doin' fine\n",
      "Output: he is doing fine\n"
     ]
    }
   ],
   "source": [
    "# Function to convert contractions in a text\n",
    "def convert_contractions(text):\n",
    "    words = []\n",
    "    for word in regexp.tokenize(text):\n",
    "        if word in contractions_list:\n",
    "            words = words + contractions_dict[word].split()\n",
    "        else:\n",
    "            words = words + word.split()\n",
    "    \n",
    "    text_converted = \" \".join(words)\n",
    "    return text_converted\n",
    "\n",
    "text = \"he's doin' fine\"\n",
    "print(\"Input: {}\".format(text))\n",
    "print(\"Output: {}\".format(convert_contractions(text)))"
   ]
  },
  {
   "cell_type": "code",
   "execution_count": 22,
   "metadata": {},
   "outputs": [
    {
     "name": "stdout",
     "output_type": "stream",
     "text": [
      "Input: It is an ocean of thousands and 1000s of crowd\n",
      "Output: It is an ocean of thousands and of crowd\n"
     ]
    }
   ],
   "source": [
    "# Discardment of non-alphabetic words\n",
    "def discard_non_alpha(text):\n",
    "    word_list_non_alpha = [word for word in regexp.tokenize(text) if word.isalpha()]\n",
    "    text_non_alpha = \" \".join(word_list_non_alpha)\n",
    "    return text_non_alpha\n",
    "\n",
    "text = \"It is an ocean of thousands and 1000s of crowd\"\n",
    "print(\"Input: {}\".format(text))\n",
    "print(\"Output: {}\".format(discard_non_alpha(text)))"
   ]
  },
  {
   "cell_type": "code",
   "execution_count": 32,
   "metadata": {},
   "outputs": [
    {
     "name": "stdout",
     "output_type": "stream",
     "text": [
      "Input: I'm goinng therre\n",
      "Output: I'm going there\n"
     ]
    }
   ],
   "source": [
    "# pyspellchecker\n",
    "spell = SpellChecker()\n",
    "\n",
    "def pyspellchecker(text):\n",
    "    word_list = regexp.tokenize(text)\n",
    "    word_list_corrected = []\n",
    "    for word in word_list:\n",
    "        if word in spell.unknown(word_list):\n",
    "            word_corrected = spell.correction(word)\n",
    "            if word_corrected == None:\n",
    "                word_list_corrected.append(word)\n",
    "            else:\n",
    "                word_list_corrected.append(word_corrected)\n",
    "        else:\n",
    "            word_list_corrected.append(word)\n",
    "    text_corrected = \" \".join(word_list_corrected)\n",
    "    return text_corrected\n",
    "\n",
    "text = \"I'm goinng therre\"\n",
    "print(\"Input: {}\".format(text))\n",
    "print(\"Output: {}\".format(pyspellchecker(text)))"
   ]
  },
  {
   "cell_type": "code",
   "execution_count": 23,
   "metadata": {},
   "outputs": [
    {
     "name": "stdout",
     "output_type": "stream",
     "text": [
      "['i', 'me', 'my', 'myself', 'we', 'our', 'ours', 'ourselves', 'you', \"you're\", \"you've\", \"you'll\", \"you'd\", 'your', 'yours', 'yourself', 'yourselves', 'he', 'him', 'his', 'himself', 'she', \"she's\", 'her', 'hers', 'herself', 'it', \"it's\", 'its', 'itself', 'they', 'them', 'their', 'theirs', 'themselves', 'what', 'which', 'who', 'whom', 'this', 'that', \"that'll\", 'these', 'those', 'am', 'is', 'are', 'was', 'were', 'be', 'been', 'being', 'have', 'has', 'had', 'having', 'do', 'does', 'did', 'doing', 'a', 'an', 'the', 'and', 'but', 'if', 'or', 'because', 'as', 'until', 'while', 'of', 'at', 'by', 'for', 'with', 'about', 'against', 'between', 'into', 'through', 'during', 'before', 'after', 'above', 'below', 'to', 'from', 'up', 'down', 'in', 'out', 'on', 'off', 'over', 'under', 'again', 'further', 'then', 'once', 'here', 'there', 'when', 'where', 'why', 'how', 'all', 'any', 'both', 'each', 'few', 'more', 'most', 'other', 'some', 'such', 'no', 'nor', 'not', 'only', 'own', 'same', 'so', 'than', 'too', 'very', 's', 't', 'can', 'will', 'just', 'don', \"don't\", 'should', \"should've\", 'now', 'd', 'll', 'm', 'o', 're', 've', 'y', 'ain', 'aren', \"aren't\", 'couldn', \"couldn't\", 'didn', \"didn't\", 'doesn', \"doesn't\", 'hadn', \"hadn't\", 'hasn', \"hasn't\", 'haven', \"haven't\", 'isn', \"isn't\", 'ma', 'mightn', \"mightn't\", 'mustn', \"mustn't\", 'needn', \"needn't\", 'shan', \"shan't\", 'shouldn', \"shouldn't\", 'wasn', \"wasn't\", 'weren', \"weren't\", 'won', \"won't\", 'wouldn', \"wouldn't\", 'among', 'onto', 'shall', 'thrice', 'thus', 'twice', 'unto', 'us', 'would']\n"
     ]
    }
   ],
   "source": [
    "# Stopwords\n",
    "stops = stopwords.words(\"english\") # stopwords\n",
    "addstops = [\"among\", \"onto\", \"shall\", \"thrice\", \"thus\", \"twice\", \"unto\", \"us\", \"would\"] # additional stopwords\n",
    "allstops = stops + addstops\n",
    "\n",
    "print(allstops)"
   ]
  },
  {
   "cell_type": "code",
   "execution_count": 24,
   "metadata": {},
   "outputs": [
    {
     "name": "stdout",
     "output_type": "stream",
     "text": [
      "Input: This is a function that removes stopwords in a given text\n",
      "Output: This function removes stopwords given text\n"
     ]
    }
   ],
   "source": [
    "# Function to remove stopwords from a list of texts\n",
    "def remove_stopwords(text):\n",
    "    return \" \".join([word for word in regexp.tokenize(text) if word not in allstops])\n",
    "\n",
    "text = \"This is a function that removes stopwords in a given text\"\n",
    "print(\"Input: {}\".format(text))\n",
    "print(\"Output: {}\".format(remove_stopwords(text)))"
   ]
  },
  {
   "cell_type": "code",
   "execution_count": 25,
   "metadata": {},
   "outputs": [
    {
     "name": "stdout",
     "output_type": "stream",
     "text": [
      "Input: Introducing lemmatization as an improvement over stemming\n",
      "Output: introduc lemmat as an improv over stem\n"
     ]
    }
   ],
   "source": [
    "# Stemming\n",
    "'''Stemming is the process of reducing the words to their root form or stem. \n",
    "    It reduces related words to the same stem even if the stem is not a dictionary word. \n",
    "    For example, the words introducing, introduced, introduction reduce to a common word introduce. \n",
    "    However, the process often produces stems that are not actual words.'''\n",
    "stemmer = PorterStemmer()\n",
    "def text_stemmer(text):\n",
    "    text_stem = \" \".join([stemmer.stem(word) for word in regexp.tokenize(text)])\n",
    "    return text_stem\n",
    "\n",
    "text = \"Introducing lemmatization as an improvement over stemming\"\n",
    "print(\"Input: {}\".format(text))\n",
    "print(\"Output: {}\".format(text_stemmer(text)))"
   ]
  },
  {
   "cell_type": "code",
   "execution_count": 26,
   "metadata": {},
   "outputs": [
    {
     "name": "stdout",
     "output_type": "stream",
     "text": [
      "Input: Introducing lemmatization as an improvement over stemming\n",
      "Output: introduce lemmatization as an improvement over stem\n"
     ]
    }
   ],
   "source": [
    "# Lemmatization\n",
    "import spacy\n",
    "'''The stems introduc, lemmat and improv are not actual words. Lemmatization offers a more \n",
    "    sophisticated approach by utilizing a corpus to match root forms of the words. \n",
    "    Unlike stemming, it uses the context in which a word is being used.'''\n",
    "spacy_lemmatizer = spacy.load(\"en_core_web_sm\", disable = ['parser', 'ner'])\n",
    "#lemmatizer = WordNetLemmatizer()\n",
    "\n",
    "def text_lemmatizer(text):\n",
    "    text_spacy = \" \".join([token.lemma_ for token in spacy_lemmatizer(text)])\n",
    "    #text_wordnet = \" \".join([lemmatizer.lemmatize(word) for word in word_tokenize(text)]) # regexp.tokenize(text)\n",
    "    return text_spacy\n",
    "    #return text_wordnet\n",
    "\n",
    "text = \"Introducing lemmatization as an improvement over stemming\"\n",
    "print(\"Input: {}\".format(text))\n",
    "print(\"Output: {}\".format(text_lemmatizer(text)))"
   ]
  },
  {
   "cell_type": "code",
   "execution_count": 27,
   "metadata": {},
   "outputs": [
    {
     "name": "stdout",
     "output_type": "stream",
     "text": [
      "['i', 'me', 'my', 'myself', 'we', 'our', 'ours', 'ourselves', 'you', \"you're\", \"you've\", \"you'll\", \"you'd\", 'your', 'yours', 'yourself', 'yourselves', 'he', 'him', 'his', 'himself', 'she', \"she's\", 'her', 'hers', 'herself', 'it', \"it's\", 'its', 'itself', 'they', 'them', 'their', 'theirs', 'themselves', 'what', 'which', 'who', 'whom', 'this', 'that', \"that'll\", 'these', 'those', 'am', 'is', 'are', 'was', 'were', 'be', 'been', 'being', 'have', 'has', 'had', 'having', 'do', 'does', 'did', 'doing', 'a', 'an', 'the', 'and', 'but', 'if', 'or', 'because', 'as', 'until', 'while', 'of', 'at', 'by', 'for', 'with', 'about', 'against', 'between', 'into', 'through', 'during', 'before', 'after', 'above', 'below', 'to', 'from', 'up', 'down', 'in', 'out', 'on', 'off', 'over', 'under', 'again', 'further', 'then', 'once', 'here', 'there', 'when', 'where', 'why', 'how', 'all', 'any', 'both', 'each', 'few', 'more', 'most', 'other', 'some', 'such', 'no', 'nor', 'not', 'only', 'own', 'same', 'so', 'than', 'too', 'very', 's', 't', 'can', 'will', 'just', 'don', \"don't\", 'should', \"should've\", 'now', 'd', 'll', 'm', 'o', 're', 've', 'y', 'ain', 'aren', \"aren't\", 'couldn', \"couldn't\", 'didn', \"didn't\", 'doesn', \"doesn't\", 'hadn', \"hadn't\", 'hasn', \"hasn't\", 'haven', \"haven't\", 'isn', \"isn't\", 'ma', 'mightn', \"mightn't\", 'mustn', \"mustn't\", 'needn', \"needn't\", 'shan', \"shan't\", 'shouldn', \"shouldn't\", 'wasn', \"wasn't\", 'weren', \"weren't\", 'won', \"won't\", 'wouldn', \"wouldn't\", 'among', 'onto', 'shall', 'thrice', 'thus', 'twice', 'unto', 'us', 'would']\n"
     ]
    }
   ],
   "source": [
    "# Stopwords\n",
    "stops = stopwords.words(\"english\") # stopwords\n",
    "addstops = [\"among\", \"onto\", \"shall\", \"thrice\", \"thus\", \"twice\", \"unto\", \"us\", \"would\"] # additional stopwords\n",
    "allstops = stops + addstops\n",
    "\n",
    "print(allstops)"
   ]
  },
  {
   "cell_type": "code",
   "execution_count": 28,
   "metadata": {},
   "outputs": [
    {
     "name": "stdout",
     "output_type": "stream",
     "text": [
      "Input: This is a function that removes stopwords in a given text\n",
      "Output: This function removes stopwords given text\n"
     ]
    }
   ],
   "source": [
    "# Function to remove stopwords from a list of texts\n",
    "def remove_stopwords(text):\n",
    "    return \" \".join([word for word in regexp.tokenize(text) if word not in allstops])\n",
    "\n",
    "text = \"This is a function that removes stopwords in a given text\"\n",
    "print(\"Input: {}\".format(text))\n",
    "print(\"Output: {}\".format(remove_stopwords(text)))"
   ]
  },
  {
   "cell_type": "code",
   "execution_count": 29,
   "metadata": {},
   "outputs": [
    {
     "name": "stdout",
     "output_type": "stream",
     "text": [
      "Input: He arrived at seven o'clock on Wednesday evening\n",
      "Tokens: ['He', 'arrived', 'at', 'seven', \"o'clock\", 'on', 'Wednesday', 'evening']\n",
      "Tagged Tokens: [('He', 'PRP'), ('arrived', 'VBD'), ('at', 'IN'), ('seven', 'CD'), (\"o'clock\", 'NN'), ('on', 'IN'), ('Wednesday', 'NNP'), ('evening', 'NN')]\n",
      "Output: He arrived o'clock Wednesday evening\n"
     ]
    }
   ],
   "source": [
    "# Retainment of Relevant Parts of Speech\n",
    "\n",
    "'''The parts of speech provide a great tool to select a subset of words that are more likely to contribute in the classification procedure\n",
    "    and discard the rest to avoid noise. The idea is to select a number of parts of speech that are important to the context of the problem.\n",
    "    Then we partition the words in a given text into several subsets corresponding to each part of speech and keep only those subsets corresponding\n",
    "    to the selected parts of speech.'''\n",
    "def keep_pos(text):\n",
    "    tokens = regexp.tokenize(text)\n",
    "    tokens_tagged = nltk.pos_tag(tokens)\n",
    "    #keep_tags = ['NN', 'NNS', 'NNP', 'NNPS', 'FW']\n",
    "    keep_tags = ['NN', 'NNS', 'NNP', 'NNPS', 'FW', 'PRP', 'PRPS', 'RB', 'RBR', 'RBS', 'VB', 'VBD', 'VBG', 'VBN', 'VBP', 'VBZ', 'WDT', 'WP', 'WPS', 'WRB']\n",
    "    keep_words = [x[0] for x in tokens_tagged if x[1] in keep_tags]\n",
    "    return \" \".join(keep_words)\n",
    "\n",
    "text = \"He arrived at seven o'clock on Wednesday evening\"\n",
    "print(\"Input: {}\".format(text))\n",
    "tokens = regexp.tokenize(text)\n",
    "print(\"Tokens: {}\".format(tokens))\n",
    "tokens_tagged = nltk.pos_tag(tokens)\n",
    "print(\"Tagged Tokens: {}\".format(tokens_tagged))\n",
    "print(\"Output: {}\".format(keep_pos(text)))\n",
    "\n",
    "# For an extensive list of part-of-speech tags, see the https://www.ling.upenn.edu/courses/Fall_2003/ling001/penn_treebank_pos.html\n"
   ]
  },
  {
   "cell_type": "code",
   "execution_count": 30,
   "metadata": {},
   "outputs": [],
   "source": [
    "# Removal of Additional Stop Words¶\n",
    "'''Analyzing the data, we observe that several unnecessary words, which are not included in the ready-made set of stop words,\n",
    " keep appearing in the text corpus. We discard these words to remove noise in the classification procedure.'''\n",
    "\n",
    "# Additional stopwords\n",
    "\n",
    "alphabets = [\"a\", \"b\", \"c\", \"d\", \"e\", \"f\", \"g\", \"h\", \"i\", \"j\", \"k\", \"l\", \"m\", \"n\", \"o\", \"p\", \"q\", \"r\", \"s\", \"t\", \"u\", \"v\", \"w\", \"x\", \"y\", \"z\"]\n",
    "prepositions = [\"about\", \"above\", \"across\", \"after\", \"against\", \"among\", \"around\", \"at\", \"before\", \"behind\", \"below\", \"beside\", \"between\", \"by\", \"down\", \"during\", \"for\", \"from\", \"in\", \"inside\", \"into\", \"near\", \"of\", \"off\", \"on\", \"out\", \"over\", \"through\", \"to\", \"toward\", \"under\", \"up\", \"with\"]\n",
    "prepositions_less_common = [\"aboard\", \"along\", \"amid\", \"as\", \"beneath\", \"beyond\", \"but\", \"concerning\", \"considering\", \"despite\", \"except\", \"following\", \"like\", \"minus\", \"onto\", \"outside\", \"per\", \"plus\", \"regarding\", \"round\", \"since\", \"than\", \"till\", \"underneath\", \"unlike\", \"until\", \"upon\", \"versus\", \"via\", \"within\", \"without\"]\n",
    "coordinating_conjunctions = [\"and\", \"but\", \"for\", \"nor\", \"or\", \"so\", \"and\", \"yet\"]\n",
    "correlative_conjunctions = [\"both\", \"and\", \"either\", \"or\", \"neither\", \"nor\", \"not\", \"only\", \"but\", \"whether\", \"or\"]\n",
    "subordinating_conjunctions = [\"after\", \"although\", \"as\", \"as if\", \"as long as\", \"as much as\", \"as soon as\", \"as though\", \"because\", \"before\", \"by the time\", \"even if\", \"even though\", \"if\", \"in order that\", \"in case\", \"in the event that\", \"lest\", \"now that\", \"once\", \"only\", \"only if\", \"provided that\", \"since\", \"so\", \"supposing\", \"that\", \"than\", \"though\", \"till\", \"unless\", \"until\", \"when\", \"whenever\", \"where\", \"whereas\", \"wherever\", \"whether or not\", \"while\"]\n",
    "others = [\"ã\", \"å\", \"ì\", \"û\", \"ûªm\", \"ûó\", \"ûò\", \"ìñ\", \"ûªre\", \"ûªve\", \"ûª\", \"ûªs\", \"ûówe\"]\n",
    "additional_stops = alphabets + prepositions + prepositions_less_common + coordinating_conjunctions + correlative_conjunctions + subordinating_conjunctions + others\n",
    "\n",
    "def remove_additional_stopwords(text):\n",
    "    return \" \".join([word for word in regexp.tokenize(text) if word not in additional_stops])"
   ]
  },
  {
   "attachments": {},
   "cell_type": "markdown",
   "metadata": {},
   "source": [
    "**Clean of text**"
   ]
  },
  {
   "cell_type": "code",
   "execution_count": 33,
   "metadata": {},
   "outputs": [
    {
     "name": "stdout",
     "output_type": "stream",
     "text": [
      "Input: We'll combine all functions into 1 SINGLE FUNCTION 🙂 & apply on @product #descriptions https://en.wikipedia.org/wiki/Text_normalization\n",
      "Output: combine function function apply product description httpsenwikipediaorgwikitextnormalization\n"
     ]
    }
   ],
   "source": [
    "def text_normalizer(text):\n",
    "    text = convert_to_lowercase(text)\n",
    "    text = remove_whitespace(text)\n",
    "    text = re.sub('\\n' , '', text) # converting text to one line\n",
    "    text = re.sub('\\[.*?\\]', '', text) # removing square brackets\n",
    "    text = remove_html(text)\n",
    "    text = remove_punctuation(text)\n",
    "  \n",
    "    text = remove_emoji(text)\n",
    "    text = convert_acronyms(text)\n",
    "    text = convert_contractions(text)\n",
    "    text = remove_stopwords(text)\n",
    "    text = pyspellchecker(text)\n",
    "    text = text_lemmatizer(text) # text = text_stemmer(text)\n",
    "    text = discard_non_alpha(text)\n",
    "    text = keep_pos(text)\n",
    "    text = remove_additional_stopwords(text)\n",
    "    return text\n",
    "\n",
    "text = \"We'll combine all functions into 1 SINGLE FUNCTION 🙂 & apply on @product #descriptions https://en.wikipedia.org/wiki/Text_normalization\"\n",
    "print(\"Input: {}\".format(text))\n",
    "print(\"Output: {}\".format(text_normalizer(text)))"
   ]
  },
  {
   "attachments": {},
   "cell_type": "markdown",
   "metadata": {},
   "source": [
    "**Preprocess train data**"
   ]
  },
  {
   "cell_type": "code",
   "execution_count": 33,
   "metadata": {},
   "outputs": [
    {
     "name": "stdout",
     "output_type": "stream",
     "text": [
      "Input: We'll combine all functions into 1 SINGLE FUNCTION 🙂 & apply on @product #descriptions https://en.wikipedia.org/wiki/Text_normalization\n",
      "Output: we shall combine all functions into single function apply on product descriptions httpsenwikipediaorgwikitextnormalization\n"
     ]
    }
   ],
   "source": [
    "def text_normalizer(text):\n",
    "    text = convert_to_lowercase(text)\n",
    "    text = remove_whitespace(text)\n",
    "    text = re.sub('\\n' , '', text) # converting text to one line\n",
    "    text = re.sub('\\[.*?\\]', '', text) # removing square brackets\n",
    "    text = remove_html(text)\n",
    "    text = remove_punctuation(text)\n",
    "  \n",
    "    text = remove_emoji(text)\n",
    "    text = convert_acronyms(text)\n",
    "    text = convert_contractions(text)\n",
    "    #text = remove_stopwords(text)\n",
    "    text = pyspellchecker(text)\n",
    "    #text = text_lemmatizer(text) # text = text_stemmer(text)\n",
    "    text = discard_non_alpha(text)\n",
    "    #text = keep_pos(text)\n",
    "    #text = remove_additional_stopwords(text)\n",
    "    return text\n",
    "\n",
    "text = \"We'll combine all functions into 1 SINGLE FUNCTION 🙂 & apply on @product #descriptions https://en.wikipedia.org/wiki/Text_normalization\"\n",
    "print(\"Input: {}\".format(text))\n",
    "print(\"Output: {}\".format(text_normalizer(text)))"
   ]
  },
  {
   "cell_type": "code",
   "execution_count": null,
   "metadata": {},
   "outputs": [],
   "source": [
    "from tqdm.auto import tqdm\n",
    "tqdm.pandas()\n",
    "\n",
    "# Implementing text normalization (partly)\n",
    "train_data_clean, test_data_clean = pd.DataFrame(), pd.DataFrame()\n",
    "\n",
    "train_data_clean['clean_text'] = train_data['text'].progress_apply(text_normalizer)\n",
    "test_data_clean['clean_text'] = test_data['text'].progress_apply(text_normalizer)\n",
    "\n",
    "train_data_clean['target'] = train_data['target']\n",
    "test_data_clean['label'] = test_data['target']\n",
    "\n",
    "train_data_clean.head()"
   ]
  },
  {
   "cell_type": "code",
   "execution_count": null,
   "metadata": {},
   "outputs": [],
   "source": [
    "test_data_clean.rename(columns={'label':'target'}, inplace=True)"
   ]
  },
  {
   "cell_type": "code",
   "execution_count": null,
   "metadata": {},
   "outputs": [],
   "source": [
    "test_data_clean.head()"
   ]
  },
  {
   "cell_type": "code",
   "execution_count": null,
   "metadata": {},
   "outputs": [],
   "source": [
    "train_data_clean.to_csv('train_data_clean.csv', encoding='utf-8')\n"
   ]
  },
  {
   "cell_type": "code",
   "execution_count": 101,
   "metadata": {},
   "outputs": [],
   "source": [
    "test_data_clean.to_csv('test_data_clean.csv', encoding='utf-8')"
   ]
  },
  {
   "cell_type": "code",
   "execution_count": 35,
   "metadata": {},
   "outputs": [
    {
     "data": {
      "text/plain": [
       "4927                                      #TBT to that time my best friend and I panicked at the disco. https://t.co/htpqvoHtUd\n",
       "4750    NWS says thunderstorms with deadly lightning will move across the Black Hills this evening. That assumes there's a s...\n",
       "2744    Obama Declares Disaster for Typhoon-Devastated Saipan: Obama signs disaster declaration for Northern Marians a... ht...\n",
       "4474                                                                         @minhazmerchant Great job done by village hostages\n",
       "2617    Russian authorities to take account of petition against destruction of sanctioned food: Vladimir Putin's press... ht...\n",
       "1540    Bomb Crash Loot Riot Emergency Pipe Bomb Nuclear Chemical Spill Gas Ricin Leak Violence Drugs Cartel Cocaine Marijua...\n",
       "366                                      You da One \\n\\n#MTVSummerStar #VideoVeranoMTV  #MTVHottest Britney Spears Lana Del Rey\n",
       "4536    #WakeUpFlorida... #Floridians more likely to be killed/injured by a #TrophyHunt killer's gun than by ISIS.  https://...\n",
       "6399                  ISIS claims responsibility for Saudi mosque suicide bombing http://t.co/Wpilp4mymf http://t.co/8NHD9iDaJs\n",
       "4370               Remove the http://t.co/9Jxb3rx8mF and Linkury Browser Hijacker http://t.co/B5s5epJ7Um http://t.co/hPA9GQRyWa\n",
       "Name: text, dtype: object"
      ]
     },
     "execution_count": 35,
     "metadata": {},
     "output_type": "execute_result"
    }
   ],
   "source": [
    "# Let's take a look at the updated text\n",
    "train_data['text'][30:40]"
   ]
  },
  {
   "cell_type": "code",
   "execution_count": 34,
   "metadata": {},
   "outputs": [],
   "source": [
    "train_data[\"clean_text\"] = train_data[\"text\"].apply(convert_to_lowercase).apply(convert_contractions)\n",
    "train_data[\"clean_tokens\"] = train_data[\"clean_text\"].apply(regexp.tokenize)\n",
    "\n",
    "\n",
    "test_data[\"clean_text\"] = test_data[\"text\"].apply(convert_to_lowercase).apply(convert_contractions)\n",
    "test_data[\"clean_tokens\"] = test_data[\"clean_text\"].apply(regexp.tokenize)"
   ]
  },
  {
   "cell_type": "code",
   "execution_count": 35,
   "metadata": {},
   "outputs": [
    {
     "data": {
      "text/plain": [
       "4927                                      #TBT to that time my best friend and I panicked at the disco. https://t.co/htpqvoHtUd\n",
       "4750    NWS says thunderstorms with deadly lightning will move across the Black Hills this evening. That assumes there's a s...\n",
       "2744    Obama Declares Disaster for Typhoon-Devastated Saipan: Obama signs disaster declaration for Northern Marians a... ht...\n",
       "4474                                                                         @minhazmerchant Great job done by village hostages\n",
       "2617    Russian authorities to take account of petition against destruction of sanctioned food: Vladimir Putin's press... ht...\n",
       "1540    Bomb Crash Loot Riot Emergency Pipe Bomb Nuclear Chemical Spill Gas Ricin Leak Violence Drugs Cartel Cocaine Marijua...\n",
       "366                                      You da One \\n\\n#MTVSummerStar #VideoVeranoMTV  #MTVHottest Britney Spears Lana Del Rey\n",
       "4536    #WakeUpFlorida... #Floridians more likely to be killed/injured by a #TrophyHunt killer's gun than by ISIS.  https://...\n",
       "6399                  ISIS claims responsibility for Saudi mosque suicide bombing http://t.co/Wpilp4mymf http://t.co/8NHD9iDaJs\n",
       "4370               Remove the http://t.co/9Jxb3rx8mF and Linkury Browser Hijacker http://t.co/B5s5epJ7Um http://t.co/hPA9GQRyWa\n",
       "Name: text, dtype: object"
      ]
     },
     "execution_count": 35,
     "metadata": {},
     "output_type": "execute_result"
    }
   ],
   "source": [
    "train_data['text'][30:40]"
   ]
  },
  {
   "attachments": {},
   "cell_type": "markdown",
   "metadata": {},
   "source": [
    "**Word2VecModel**"
   ]
  },
  {
   "attachments": {},
   "cell_type": "markdown",
   "metadata": {},
   "source": [
    "In the context of natural language processing (NLP), word embeddings are used for representing a word in terms of a real-valued vector that encodes the meaning of the word such that the words that are close in the vector space are expected to be similar in meaning. It can capture the context of a word in a document, as well as identify semantic and syntactic similarity and other contextual relations with other words in the document.\n",
    "\n",
    "Word2Vec is a specific word-embedding technique that uses a neural network model to learn word associations from a reasonably large corpus of text. After training, the model can detect similar words and recommend words to complete a partial sentence. As its name suggests, word2vec maps each distinct word to a vector, which is assigned in such a way that the level of semantic similarity between words is indicated by a simple mathematical operation on the vectors that the words are mapped to (for instance, the cosine similarity between the vectors)."
   ]
  },
  {
   "cell_type": "code",
   "execution_count": 37,
   "metadata": {},
   "outputs": [],
   "source": [
    "# Loading the pre-trained Word2Vec model\n",
    "word2vec_path = \".//GoogleNews-vectors-negative300.bin//GoogleNews-vectors-negative300.bin\"\n",
    "word2vec = gensim.models.KeyedVectors.load_word2vec_format(word2vec_path, binary = True)"
   ]
  },
  {
   "cell_type": "code",
   "execution_count": 38,
   "metadata": {},
   "outputs": [],
   "source": [
    "def get_average_word2vec(tokens_list, vector, generate_missing=False, k=300):\n",
    "    if len(tokens_list) < 1:\n",
    "        return np.zeros(k)\n",
    "    if generate_missing:\n",
    "        vectorized = [vector[word] if word in vector else np.random.rand(k) for word in tokens_list]\n",
    "    else:\n",
    "        vectorized = [vector[word] if word in vector else np.zeros(k) for word in tokens_list]\n",
    "    length = len(vectorized)\n",
    "    summed = np.sum(vectorized, axis=0)\n",
    "    averaged = np.divide(summed, length)\n",
    "    return averaged\n",
    "\n",
    "def get_word2vec_embeddings(vectors, tokens, generate_missing = False):\n",
    "    embeddings = tokens.apply(lambda x: get_average_word2vec(x, vectors, generate_missing = generate_missing))\n",
    "    return list(embeddings)"
   ]
  },
  {
   "cell_type": "code",
   "execution_count": 39,
   "metadata": {},
   "outputs": [],
   "source": [
    "def plot_embedding(X, y):\n",
    "    truncated_SVD = TruncatedSVD(n_components = 2)\n",
    "    truncated_SVD.fit(X)\n",
    "    scores = truncated_SVD.transform(X)\n",
    "    color_mapper = {label:idx for idx, label in enumerate(set(y))}\n",
    "    color_column = [color_mapper[label] for label in y]\n",
    "    colors = ['red', 'blue']\n",
    "        \n",
    "    plt.scatter(scores[:, 0], scores[:, 1], s = 8, alpha = 0.8, c = y, cmap = matplotlib.colors.ListedColormap(colors))\n",
    "    red_patch = mpatches.Patch(color = 'red', label = 'Disaster')\n",
    "    blue_patch = mpatches.Patch(color = 'blue', label = 'Non disaster')\n",
    "  \n",
    "    plt.legend(handles = [red_patch, blue_patch], prop = {\"size\": 12})"
   ]
  },
  {
   "cell_type": "code",
   "execution_count": 40,
   "metadata": {},
   "outputs": [
    {
     "data": {
      "image/png": "[encoded data removed]",
      "text/plain": [
       "<Figure size 800x700 with 1 Axes>"
      ]
     },
     "metadata": {},
     "output_type": "display_data"
    }
   ],
   "source": [
    "X_train_embed = get_word2vec_embeddings(word2vec, train_data[\"clean_tokens\"])\n",
    "X_test_embed = get_word2vec_embeddings(word2vec, test_data[\"clean_tokens\"])\n",
    "\n",
    "y_train = train_data['target'].tolist()\n",
    "y_test = test_data['target'].tolist()\n",
    "\n",
    "fig = plt.figure(figsize=(8, 7))          \n",
    "plot_embedding(X_train_embed, y_train)\n",
    "plt.show()"
   ]
  },
  {
   "cell_type": "code",
   "execution_count": 41,
   "metadata": {},
   "outputs": [
    {
     "data": {
      "image/png": "[encoded data removed]",
      "text/plain": [
       "<Figure size 800x700 with 1 Axes>"
      ]
     },
     "metadata": {},
     "output_type": "display_data"
    }
   ],
   "source": [
    "fig = plt.figure(figsize=(8, 7))          \n",
    "plot_embedding(X_test_embed, y_test)\n",
    "plt.show()"
   ]
  },
  {
   "cell_type": "code",
   "execution_count": 42,
   "metadata": {},
   "outputs": [],
   "source": [
    "# Converting to Compressed Sparse Row matrix\n",
    "X_train_w2v = scipy.sparse.csr_matrix(X_train_embed)\n",
    "X_test_w2v = scipy.sparse.csr_matrix(X_test_embed)"
   ]
  },
  {
   "attachments": {},
   "cell_type": "markdown",
   "metadata": {},
   "source": [
    "**Machine learning models**"
   ]
  },
  {
   "cell_type": "code",
   "execution_count": 43,
   "metadata": {},
   "outputs": [],
   "source": [
    "from sklearn.linear_model import LogisticRegression\n",
    "from sklearn.pipeline import Pipeline\n",
    "from sklearn.preprocessing import MinMaxScaler\n",
    "from sklearn.metrics import f1_score, accuracy_score\n",
    "from sklearn.metrics import confusion_matrix, ConfusionMatrixDisplay\n",
    "\n",
    "from sklearn.metrics import classification_report\n",
    "from sklearn.model_selection import cross_val_score\n",
    "from sklearn.model_selection import ShuffleSplit\n",
    "from sklearn.feature_selection import RFECV\n",
    "from sklearn.model_selection import StratifiedKFold\n",
    "from sklearn.model_selection import GridSearchCV\n",
    "from sklearn.naive_bayes import GaussianNB\n",
    "from sklearn.naive_bayes import MultinomialNB\n",
    "from sklearn.tree import DecisionTreeClassifier\n",
    "from sklearn.ensemble import RandomForestClassifier\n",
    "from xgboost import XGBClassifier\n",
    "from sklearn.linear_model import PassiveAggressiveClassifier\n",
    "from sklearn.neighbors import KNeighborsClassifier\n",
    "from sklearn.svm import SVC\n",
    "from sklearn.model_selection import KFold\n",
    "import optuna\n",
    "from sklearn.preprocessing import MaxAbsScaler"
   ]
  },
  {
   "cell_type": "code",
   "execution_count": 44,
   "metadata": {},
   "outputs": [],
   "source": [
    "#Initialize a scaler to normalize the features\n",
    "scaler = MaxAbsScaler()\n",
    "\n",
    "#Test options and evaluation metric\n",
    "num_folds = 5\n",
    "seed = 13\n",
    "scoring = 'accuracy'"
   ]
  },
  {
   "cell_type": "code",
   "execution_count": 48,
   "metadata": {},
   "outputs": [],
   "source": [
    "#Spot-Check Algorithms\n",
    "models = []\n",
    "models.append(('LR', LogisticRegression(n_jobs=-1)))\n",
    "models.append(('KN', KNeighborsClassifier(n_jobs=-1)))\n",
    "#models.append(('GNB', GaussianNB()))\n",
    "models.append(('SVM', SVC()))\n",
    "models.append(('DT', DecisionTreeClassifier()))\n",
    "models.append(('RF', RandomForestClassifier(n_jobs=-1)))\n",
    "models.append(('XGB', XGBClassifier(n_jobs=-1)))\n",
    "models.append(('PA', PassiveAggressiveClassifier(n_jobs=-1)))\n"
   ]
  },
  {
   "cell_type": "code",
   "execution_count": 47,
   "metadata": {},
   "outputs": [
    {
     "name": "stdout",
     "output_type": "stream",
     "text": [
      "LR: 0.798358 (0.004173)\n",
      "KN: 0.777504 (0.010202)\n",
      "SVM: 0.822167 (0.005843)\n",
      "DT: 0.674713 (0.008633)\n",
      "RF: 0.793760 (0.004509)\n",
      "XGB: 0.802299 (0.009885)\n",
      "PA: 0.755501 (0.021836)\n"
     ]
    }
   ],
   "source": [
    "#w2v\n",
    "results_w2v = []\n",
    "names = []\n",
    "for name, model in models:\n",
    "    kfold = KFold(n_splits=num_folds, random_state=seed, shuffle=True)\n",
    "    cv_results = cross_val_score(model, X_train_w2v, y_train, cv=kfold, scoring=scoring, error_score='raise')\n",
    "    results_w2v.append(cv_results)\n",
    "    names.append(name)\n",
    "    msg = \"%s: %f (%f)\" % (name, cv_results.mean(), cv_results.std())\n",
    "    print(msg)"
   ]
  },
  {
   "cell_type": "code",
   "execution_count": 56,
   "metadata": {},
   "outputs": [
    {
     "data": {
      "image/png": "[encoded data removed]",
      "text/plain": [
       "<Figure size 1000x500 with 1 Axes>"
      ]
     },
     "metadata": {},
     "output_type": "display_data"
    }
   ],
   "source": [
    "#Compare Algorithms\n",
    "fig = plt.figure(figsize=(10,5))\n",
    "fig.suptitle('Сравнение алгоритмов. Word2Vec model', fontsize=13)\n",
    "ax = fig.add_subplot(111)\n",
    "plt.boxplot(results_w2v)\n",
    "ax.set_xticklabels(names)\n",
    "plt.show()"
   ]
  },
  {
   "cell_type": "code",
   "execution_count": 53,
   "metadata": {},
   "outputs": [
    {
     "name": "stdout",
     "output_type": "stream",
     "text": [
      "ScaledLR: 0.793432 (0.007936)\n",
      "ScaledKN: 0.770608 (0.012683)\n",
      "ScaledSVM: 0.819376 (0.008028)\n",
      "ScaledDT: 0.680788 (0.005930)\n",
      "ScaledRF: 0.791626 (0.003499)\n",
      "ScaledXGB: 0.802299 (0.009885)\n",
      "ScaledPA: 0.718391 (0.035313)\n"
     ]
    }
   ],
   "source": [
    "#Standardize the dataset\n",
    "#w2v\n",
    "pipelines = []\n",
    "pipelines.append(('ScaledLR', Pipeline([('Scaler', MaxAbsScaler()),('LR', LogisticRegression(n_jobs=-1))])))\n",
    "pipelines.append(('ScaledKN', Pipeline([('Scaler', MaxAbsScaler()),('KN', KNeighborsClassifier(n_jobs=-1))])))\n",
    "#pipelines.append(('ScaledGNB', Pipeline([('Scaler', MinMaxScaler()),('GNB', GaussianNB())])))\n",
    "pipelines.append(('ScaledSVM', Pipeline([('Scaler', MaxAbsScaler()),('SVM', SVC())])))\n",
    "pipelines.append(('ScaledDT', Pipeline([('Scaler', MaxAbsScaler()),('DT', DecisionTreeClassifier())])))\n",
    "pipelines.append(('ScaledRF', Pipeline([('Scaler', MaxAbsScaler()),('RF', RandomForestClassifier(n_jobs=-1))])))\n",
    "pipelines.append(('ScaledXGB', Pipeline([('Scaler', MaxAbsScaler()),('XGB', XGBClassifier(n_jobs=-1))])))\n",
    "pipelines.append(('ScaledPA', Pipeline([('Scaler', MaxAbsScaler()),('PA', PassiveAggressiveClassifier(n_jobs=-1))])))\n",
    "results_w2v_s = []\n",
    "names = []\n",
    "for name, model in pipelines:\n",
    "    kfold = KFold(n_splits=num_folds, random_state=seed, shuffle=True)\n",
    "    cv_results = cross_val_score(model, X_train_w2v, y_train, cv=kfold, scoring=scoring)\n",
    "    results_w2v_s.append(cv_results)\n",
    "    names.append(name)\n",
    "    msg = \"%s: %f (%f)\" % (name, cv_results.mean(), cv_results.std())\n",
    "    print(msg)\n"
   ]
  },
  {
   "cell_type": "code",
   "execution_count": 58,
   "metadata": {},
   "outputs": [
    {
     "data": {
      "image/png": "[encoded data removed]",
      "text/plain": [
       "<Figure size 1000x500 with 1 Axes>"
      ]
     },
     "metadata": {},
     "output_type": "display_data"
    }
   ],
   "source": [
    "#Compare Algorithms\n",
    "fig = plt.figure(figsize=(10,5))\n",
    "fig.suptitle('Сравнение алгоритмов на стандартизованных данных. Word2Vec model', fontsize=13)\n",
    "ax = fig.add_subplot(111)\n",
    "plt.boxplot(results_w2v_s)\n",
    "ax.set_xticklabels(names)\n",
    "plt.show()"
   ]
  },
  {
   "cell_type": "code",
   "execution_count": 54,
   "metadata": {},
   "outputs": [
    {
     "name": "stdout",
     "output_type": "stream",
     "text": [
      "Optuna Version : 3.1.1\n"
     ]
    }
   ],
   "source": [
    "print(\"Optuna Version : {}\".format(optuna.__version__))"
   ]
  },
  {
   "attachments": {},
   "cell_type": "markdown",
   "metadata": {},
   "source": [
    "**LogisticRegression (Word2Vec)**"
   ]
  },
  {
   "cell_type": "code",
   "execution_count": 59,
   "metadata": {},
   "outputs": [
    {
     "name": "stderr",
     "output_type": "stream",
     "text": [
      "\u001b[32m[I 2023-06-01 14:54:31,272]\u001b[0m A new study created in memory with name: LR_W2V\u001b[0m\n"
     ]
    },
    {
     "name": "stdout",
     "output_type": "stream",
     "text": [
      "CPU times: total: 0 ns\n",
      "Wall time: 0 ns\n"
     ]
    },
    {
     "name": "stderr",
     "output_type": "stream",
     "text": [
      "c:\\Users\\Iuliia\\miniconda3\\lib\\site-packages\\optuna\\progress_bar.py:56: ExperimentalWarning:\n",
      "\n",
      "Progress bar is experimental (supported from v1.2.0). The interface can change in the future.\n",
      "\n"
     ]
    },
    {
     "data": {
      "application/vnd.jupyter.widget-view+json": {
       "model_id": "2667e463e7ff44e78f380b5862ff12b0",
       "version_major": 2,
       "version_minor": 0
      },
      "text/plain": [
       "  0%|          | 0/50 [00:00<?, ?it/s]"
      ]
     },
     "metadata": {},
     "output_type": "display_data"
    },
    {
     "name": "stdout",
     "output_type": "stream",
     "text": [
      "\u001b[32m[I 2023-06-01 14:54:33,580]\u001b[0m Trial 3 finished with value: 0.7981937602627257 and parameters: {'penalty': 'l2', 'C': 1.4762929071328932, 'solver': 'liblinear'}. Best is trial 3 with value: 0.7981937602627257.\u001b[0m\n"
     ]
    },
    {
     "name": "stderr",
     "output_type": "stream",
     "text": [
      "c:\\Users\\Iuliia\\miniconda3\\lib\\site-packages\\sklearn\\linear_model\\_sag.py:350: ConvergenceWarning:\n",
      "\n",
      "The max_iter was reached which means the coef_ did not converge\n",
      "\n",
      "c:\\Users\\Iuliia\\miniconda3\\lib\\site-packages\\sklearn\\linear_model\\_sag.py:350: ConvergenceWarning:\n",
      "\n",
      "The max_iter was reached which means the coef_ did not converge\n",
      "\n"
     ]
    },
    {
     "name": "stdout",
     "output_type": "stream",
     "text": [
      "\u001b[32m[I 2023-06-01 14:54:34,126]\u001b[0m Trial 8 finished with value: 0.7950738916256157 and parameters: {'penalty': 'l2', 'C': 3.509962360140444, 'solver': 'liblinear'}. Best is trial 3 with value: 0.7981937602627257.\u001b[0m\n"
     ]
    },
    {
     "name": "stderr",
     "output_type": "stream",
     "text": [
      "c:\\Users\\Iuliia\\miniconda3\\lib\\site-packages\\sklearn\\linear_model\\_sag.py:350: ConvergenceWarning:\n",
      "\n",
      "The max_iter was reached which means the coef_ did not converge\n",
      "\n",
      "c:\\Users\\Iuliia\\miniconda3\\lib\\site-packages\\sklearn\\linear_model\\_sag.py:350: ConvergenceWarning:\n",
      "\n",
      "The max_iter was reached which means the coef_ did not converge\n",
      "\n"
     ]
    },
    {
     "name": "stdout",
     "output_type": "stream",
     "text": [
      "\u001b[32m[I 2023-06-01 14:54:34,585]\u001b[0m Trial 7 finished with value: 0.7958949096880132 and parameters: {'penalty': 'l2', 'C': 7.719995065579729, 'solver': 'liblinear'}. Best is trial 3 with value: 0.7981937602627257.\u001b[0m\n"
     ]
    },
    {
     "name": "stderr",
     "output_type": "stream",
     "text": [
      "c:\\Users\\Iuliia\\miniconda3\\lib\\site-packages\\sklearn\\linear_model\\_sag.py:350: ConvergenceWarning:\n",
      "\n",
      "The max_iter was reached which means the coef_ did not converge\n",
      "\n",
      "c:\\Users\\Iuliia\\miniconda3\\lib\\site-packages\\sklearn\\linear_model\\_sag.py:350: ConvergenceWarning:\n",
      "\n",
      "The max_iter was reached which means the coef_ did not converge\n",
      "\n",
      "c:\\Users\\Iuliia\\miniconda3\\lib\\site-packages\\sklearn\\linear_model\\_sag.py:350: ConvergenceWarning:\n",
      "\n",
      "The max_iter was reached which means the coef_ did not converge\n",
      "\n",
      "c:\\Users\\Iuliia\\miniconda3\\lib\\site-packages\\sklearn\\linear_model\\_sag.py:350: ConvergenceWarning:\n",
      "\n",
      "The max_iter was reached which means the coef_ did not converge\n",
      "\n",
      "c:\\Users\\Iuliia\\miniconda3\\lib\\site-packages\\sklearn\\linear_model\\_sag.py:350: ConvergenceWarning:\n",
      "\n",
      "The max_iter was reached which means the coef_ did not converge\n",
      "\n",
      "c:\\Users\\Iuliia\\miniconda3\\lib\\site-packages\\sklearn\\linear_model\\_sag.py:350: ConvergenceWarning:\n",
      "\n",
      "The max_iter was reached which means the coef_ did not converge\n",
      "\n",
      "c:\\Users\\Iuliia\\miniconda3\\lib\\site-packages\\sklearn\\linear_model\\_sag.py:350: ConvergenceWarning:\n",
      "\n",
      "The max_iter was reached which means the coef_ did not converge\n",
      "\n"
     ]
    },
    {
     "name": "stdout",
     "output_type": "stream",
     "text": [
      "\u001b[32m[I 2023-06-01 14:54:36,245]\u001b[0m Trial 18 finished with value: 0.7970443349753695 and parameters: {'penalty': 'l2', 'C': 1.3435033535076197, 'solver': 'liblinear'}. Best is trial 3 with value: 0.7981937602627257.\u001b[0m\n",
      "\u001b[32m[I 2023-06-01 14:54:36,565]\u001b[0m Trial 12 finished with value: 0.7916256157635468 and parameters: {'penalty': 'l1', 'C': 1.1268803679042307, 'solver': 'liblinear'}. Best is trial 3 with value: 0.7981937602627257.\u001b[0m\n"
     ]
    },
    {
     "name": "stderr",
     "output_type": "stream",
     "text": [
      "c:\\Users\\Iuliia\\miniconda3\\lib\\site-packages\\sklearn\\linear_model\\_sag.py:350: ConvergenceWarning:\n",
      "\n",
      "The max_iter was reached which means the coef_ did not converge\n",
      "\n",
      "c:\\Users\\Iuliia\\miniconda3\\lib\\site-packages\\sklearn\\linear_model\\_sag.py:350: ConvergenceWarning:\n",
      "\n",
      "The max_iter was reached which means the coef_ did not converge\n",
      "\n",
      "c:\\Users\\Iuliia\\miniconda3\\lib\\site-packages\\sklearn\\linear_model\\_sag.py:350: ConvergenceWarning:\n",
      "\n",
      "The max_iter was reached which means the coef_ did not converge\n",
      "\n",
      "c:\\Users\\Iuliia\\miniconda3\\lib\\site-packages\\sklearn\\linear_model\\_sag.py:350: ConvergenceWarning:\n",
      "\n",
      "The max_iter was reached which means the coef_ did not converge\n",
      "\n"
     ]
    },
    {
     "name": "stdout",
     "output_type": "stream",
     "text": [
      "\u001b[32m[I 2023-06-01 14:54:38,038]\u001b[0m Trial 19 finished with value: 0.7981937602627258 and parameters: {'penalty': 'l2', 'C': 1.447511476076564, 'solver': 'liblinear'}. Best is trial 19 with value: 0.7981937602627258.\u001b[0m\n"
     ]
    },
    {
     "name": "stderr",
     "output_type": "stream",
     "text": [
      "c:\\Users\\Iuliia\\miniconda3\\lib\\site-packages\\sklearn\\linear_model\\_sag.py:350: ConvergenceWarning:\n",
      "\n",
      "The max_iter was reached which means the coef_ did not converge\n",
      "\n",
      "c:\\Users\\Iuliia\\miniconda3\\lib\\site-packages\\sklearn\\linear_model\\_sag.py:350: ConvergenceWarning:\n",
      "\n",
      "The max_iter was reached which means the coef_ did not converge\n",
      "\n",
      "c:\\Users\\Iuliia\\miniconda3\\lib\\site-packages\\sklearn\\linear_model\\_sag.py:350: ConvergenceWarning:\n",
      "\n",
      "The max_iter was reached which means the coef_ did not converge\n",
      "\n"
     ]
    },
    {
     "name": "stdout",
     "output_type": "stream",
     "text": [
      "\u001b[32m[I 2023-06-01 14:54:38,269]\u001b[0m Trial 20 finished with value: 0.7962233169129721 and parameters: {'penalty': 'l2', 'C': 2.0882203739298766, 'solver': 'liblinear'}. Best is trial 19 with value: 0.7981937602627258.\u001b[0m\n"
     ]
    },
    {
     "name": "stderr",
     "output_type": "stream",
     "text": [
      "c:\\Users\\Iuliia\\miniconda3\\lib\\site-packages\\sklearn\\linear_model\\_sag.py:350: ConvergenceWarning:\n",
      "\n",
      "The max_iter was reached which means the coef_ did not converge\n",
      "\n",
      "c:\\Users\\Iuliia\\miniconda3\\lib\\site-packages\\sklearn\\linear_model\\_sag.py:350: ConvergenceWarning:\n",
      "\n",
      "The max_iter was reached which means the coef_ did not converge\n",
      "\n",
      "c:\\Users\\Iuliia\\miniconda3\\lib\\site-packages\\sklearn\\linear_model\\_sag.py:350: ConvergenceWarning:\n",
      "\n",
      "The max_iter was reached which means the coef_ did not converge\n",
      "\n",
      "c:\\Users\\Iuliia\\miniconda3\\lib\\site-packages\\sklearn\\linear_model\\_sag.py:350: ConvergenceWarning:\n",
      "\n",
      "The max_iter was reached which means the coef_ did not converge\n",
      "\n",
      "c:\\Users\\Iuliia\\miniconda3\\lib\\site-packages\\sklearn\\linear_model\\_sag.py:350: ConvergenceWarning:\n",
      "\n",
      "The max_iter was reached which means the coef_ did not converge\n",
      "\n",
      "c:\\Users\\Iuliia\\miniconda3\\lib\\site-packages\\sklearn\\linear_model\\_sag.py:350: ConvergenceWarning:\n",
      "\n",
      "The max_iter was reached which means the coef_ did not converge\n",
      "\n",
      "c:\\Users\\Iuliia\\miniconda3\\lib\\site-packages\\sklearn\\linear_model\\_sag.py:350: ConvergenceWarning:\n",
      "\n",
      "The max_iter was reached which means the coef_ did not converge\n",
      "\n"
     ]
    },
    {
     "name": "stdout",
     "output_type": "stream",
     "text": [
      "\u001b[32m[I 2023-06-01 14:54:39,187]\u001b[0m Trial 2 finished with value: 0.7929392446633826 and parameters: {'penalty': 'l1', 'C': 2.970884350842069, 'solver': 'liblinear'}. Best is trial 19 with value: 0.7981937602627258.\u001b[0m\n"
     ]
    },
    {
     "name": "stderr",
     "output_type": "stream",
     "text": [
      "c:\\Users\\Iuliia\\miniconda3\\lib\\site-packages\\sklearn\\linear_model\\_sag.py:350: ConvergenceWarning:\n",
      "\n",
      "The max_iter was reached which means the coef_ did not converge\n",
      "\n",
      "c:\\Users\\Iuliia\\miniconda3\\lib\\site-packages\\sklearn\\linear_model\\_sag.py:350: ConvergenceWarning:\n",
      "\n",
      "The max_iter was reached which means the coef_ did not converge\n",
      "\n",
      "c:\\Users\\Iuliia\\miniconda3\\lib\\site-packages\\sklearn\\linear_model\\_sag.py:350: ConvergenceWarning:\n",
      "\n",
      "The max_iter was reached which means the coef_ did not converge\n",
      "\n",
      "c:\\Users\\Iuliia\\miniconda3\\lib\\site-packages\\sklearn\\linear_model\\_sag.py:350: ConvergenceWarning:\n",
      "\n",
      "The max_iter was reached which means the coef_ did not converge\n",
      "\n",
      "c:\\Users\\Iuliia\\miniconda3\\lib\\site-packages\\sklearn\\linear_model\\_sag.py:350: ConvergenceWarning:\n",
      "\n",
      "The max_iter was reached which means the coef_ did not converge\n",
      "\n",
      "c:\\Users\\Iuliia\\miniconda3\\lib\\site-packages\\sklearn\\linear_model\\_sag.py:350: ConvergenceWarning:\n",
      "\n",
      "The max_iter was reached which means the coef_ did not converge\n",
      "\n",
      "c:\\Users\\Iuliia\\miniconda3\\lib\\site-packages\\sklearn\\linear_model\\_sag.py:350: ConvergenceWarning:\n",
      "\n",
      "The max_iter was reached which means the coef_ did not converge\n",
      "\n",
      "c:\\Users\\Iuliia\\miniconda3\\lib\\site-packages\\sklearn\\linear_model\\_sag.py:350: ConvergenceWarning:\n",
      "\n",
      "The max_iter was reached which means the coef_ did not converge\n",
      "\n",
      "c:\\Users\\Iuliia\\miniconda3\\lib\\site-packages\\sklearn\\linear_model\\_sag.py:350: ConvergenceWarning:\n",
      "\n",
      "The max_iter was reached which means the coef_ did not converge\n",
      "\n",
      "c:\\Users\\Iuliia\\miniconda3\\lib\\site-packages\\sklearn\\linear_model\\_sag.py:350: ConvergenceWarning:\n",
      "\n",
      "The max_iter was reached which means the coef_ did not converge\n",
      "\n",
      "c:\\Users\\Iuliia\\miniconda3\\lib\\site-packages\\sklearn\\linear_model\\_sag.py:350: ConvergenceWarning:\n",
      "\n",
      "The max_iter was reached which means the coef_ did not converge\n",
      "\n",
      "c:\\Users\\Iuliia\\miniconda3\\lib\\site-packages\\sklearn\\linear_model\\_sag.py:350: ConvergenceWarning:\n",
      "\n",
      "The max_iter was reached which means the coef_ did not converge\n",
      "\n"
     ]
    },
    {
     "name": "stdout",
     "output_type": "stream",
     "text": [
      "\u001b[32m[I 2023-06-01 14:54:43,707]\u001b[0m Trial 0 finished with value: 0.7958949096880132 and parameters: {'penalty': 'l2', 'C': 2.770381245219947, 'solver': 'saga'}. Best is trial 19 with value: 0.7981937602627258.\u001b[0m\n"
     ]
    },
    {
     "name": "stderr",
     "output_type": "stream",
     "text": [
      "c:\\Users\\Iuliia\\miniconda3\\lib\\site-packages\\sklearn\\linear_model\\_sag.py:350: ConvergenceWarning:\n",
      "\n",
      "The max_iter was reached which means the coef_ did not converge\n",
      "\n",
      "c:\\Users\\Iuliia\\miniconda3\\lib\\site-packages\\sklearn\\linear_model\\_sag.py:350: ConvergenceWarning:\n",
      "\n",
      "The max_iter was reached which means the coef_ did not converge\n",
      "\n",
      "c:\\Users\\Iuliia\\miniconda3\\lib\\site-packages\\sklearn\\linear_model\\_sag.py:350: ConvergenceWarning:\n",
      "\n",
      "The max_iter was reached which means the coef_ did not converge\n",
      "\n"
     ]
    },
    {
     "name": "stdout",
     "output_type": "stream",
     "text": [
      "\u001b[32m[I 2023-06-01 14:54:44,190]\u001b[0m Trial 13 finished with value: 0.7962233169129721 and parameters: {'penalty': 'l2', 'C': 3.2813099777006154, 'solver': 'saga'}. Best is trial 19 with value: 0.7981937602627258.\u001b[0m\n",
      "\u001b[32m[I 2023-06-01 14:54:44,298]\u001b[0m Trial 1 finished with value: 0.7957307060755336 and parameters: {'penalty': 'l2', 'C': 4.324810096354699, 'solver': 'saga'}. Best is trial 19 with value: 0.7981937602627258.\u001b[0m\n"
     ]
    },
    {
     "name": "stderr",
     "output_type": "stream",
     "text": [
      "c:\\Users\\Iuliia\\miniconda3\\lib\\site-packages\\sklearn\\linear_model\\_sag.py:350: ConvergenceWarning:\n",
      "\n",
      "The max_iter was reached which means the coef_ did not converge\n",
      "\n",
      "c:\\Users\\Iuliia\\miniconda3\\lib\\site-packages\\sklearn\\linear_model\\_sag.py:350: ConvergenceWarning:\n",
      "\n",
      "The max_iter was reached which means the coef_ did not converge\n",
      "\n"
     ]
    },
    {
     "name": "stdout",
     "output_type": "stream",
     "text": [
      "\u001b[32m[I 2023-06-01 14:54:44,387]\u001b[0m Trial 17 finished with value: 0.797208538587849 and parameters: {'penalty': 'l2', 'C': 1.8707715756177832, 'solver': 'saga'}. Best is trial 19 with value: 0.7981937602627258.\u001b[0m\n",
      "\u001b[32m[I 2023-06-01 14:54:44,448]\u001b[0m Trial 10 finished with value: 0.7958949096880132 and parameters: {'penalty': 'l2', 'C': 3.744501379172408, 'solver': 'saga'}. Best is trial 19 with value: 0.7981937602627258.\u001b[0m\n"
     ]
    },
    {
     "name": "stderr",
     "output_type": "stream",
     "text": [
      "c:\\Users\\Iuliia\\miniconda3\\lib\\site-packages\\sklearn\\linear_model\\_sag.py:350: ConvergenceWarning:\n",
      "\n",
      "The max_iter was reached which means the coef_ did not converge\n",
      "\n"
     ]
    },
    {
     "name": "stdout",
     "output_type": "stream",
     "text": [
      "\u001b[32m[I 2023-06-01 14:54:44,671]\u001b[0m Trial 5 finished with value: 0.7963875205254516 and parameters: {'penalty': 'l2', 'C': 2.460722551270243, 'solver': 'saga'}. Best is trial 19 with value: 0.7981937602627258.\u001b[0m\n"
     ]
    },
    {
     "name": "stderr",
     "output_type": "stream",
     "text": [
      "c:\\Users\\Iuliia\\miniconda3\\lib\\site-packages\\sklearn\\linear_model\\_sag.py:350: ConvergenceWarning:\n",
      "\n",
      "The max_iter was reached which means the coef_ did not converge\n",
      "\n",
      "c:\\Users\\Iuliia\\miniconda3\\lib\\site-packages\\sklearn\\linear_model\\_sag.py:350: ConvergenceWarning:\n",
      "\n",
      "The max_iter was reached which means the coef_ did not converge\n",
      "\n",
      "c:\\Users\\Iuliia\\miniconda3\\lib\\site-packages\\sklearn\\linear_model\\_sag.py:350: ConvergenceWarning:\n",
      "\n",
      "The max_iter was reached which means the coef_ did not converge\n",
      "\n",
      "c:\\Users\\Iuliia\\miniconda3\\lib\\site-packages\\sklearn\\linear_model\\_sag.py:350: ConvergenceWarning:\n",
      "\n",
      "The max_iter was reached which means the coef_ did not converge\n",
      "\n",
      "c:\\Users\\Iuliia\\miniconda3\\lib\\site-packages\\sklearn\\linear_model\\_sag.py:350: ConvergenceWarning:\n",
      "\n",
      "The max_iter was reached which means the coef_ did not converge\n",
      "\n",
      "c:\\Users\\Iuliia\\miniconda3\\lib\\site-packages\\sklearn\\linear_model\\_sag.py:350: ConvergenceWarning:\n",
      "\n",
      "The max_iter was reached which means the coef_ did not converge\n",
      "\n",
      "c:\\Users\\Iuliia\\miniconda3\\lib\\site-packages\\sklearn\\linear_model\\_sag.py:350: ConvergenceWarning:\n",
      "\n",
      "The max_iter was reached which means the coef_ did not converge\n",
      "\n"
     ]
    },
    {
     "name": "stdout",
     "output_type": "stream",
     "text": [
      "\u001b[32m[I 2023-06-01 14:54:46,595]\u001b[0m Trial 16 finished with value: 0.7955665024630543 and parameters: {'penalty': 'l2', 'C': 3.9858970782270187, 'solver': 'saga'}. Best is trial 19 with value: 0.7981937602627258.\u001b[0m\n"
     ]
    },
    {
     "name": "stderr",
     "output_type": "stream",
     "text": [
      "c:\\Users\\Iuliia\\miniconda3\\lib\\site-packages\\sklearn\\linear_model\\_sag.py:350: ConvergenceWarning:\n",
      "\n",
      "The max_iter was reached which means the coef_ did not converge\n",
      "\n",
      "c:\\Users\\Iuliia\\miniconda3\\lib\\site-packages\\sklearn\\linear_model\\_sag.py:350: ConvergenceWarning:\n",
      "\n",
      "The max_iter was reached which means the coef_ did not converge\n",
      "\n",
      "c:\\Users\\Iuliia\\miniconda3\\lib\\site-packages\\sklearn\\linear_model\\_sag.py:350: ConvergenceWarning:\n",
      "\n",
      "The max_iter was reached which means the coef_ did not converge\n",
      "\n",
      "c:\\Users\\Iuliia\\miniconda3\\lib\\site-packages\\sklearn\\linear_model\\_sag.py:350: ConvergenceWarning:\n",
      "\n",
      "The max_iter was reached which means the coef_ did not converge\n",
      "\n"
     ]
    },
    {
     "name": "stdout",
     "output_type": "stream",
     "text": [
      "\u001b[32m[I 2023-06-01 14:54:48,372]\u001b[0m Trial 14 finished with value: 0.7929392446633825 and parameters: {'penalty': 'l1', 'C': 2.271210731539993, 'solver': 'saga'}. Best is trial 19 with value: 0.7981937602627258.\u001b[0m\n"
     ]
    },
    {
     "name": "stderr",
     "output_type": "stream",
     "text": [
      "c:\\Users\\Iuliia\\miniconda3\\lib\\site-packages\\sklearn\\linear_model\\_sag.py:350: ConvergenceWarning:\n",
      "\n",
      "The max_iter was reached which means the coef_ did not converge\n",
      "\n",
      "c:\\Users\\Iuliia\\miniconda3\\lib\\site-packages\\sklearn\\linear_model\\_sag.py:350: ConvergenceWarning:\n",
      "\n",
      "The max_iter was reached which means the coef_ did not converge\n",
      "\n"
     ]
    },
    {
     "name": "stdout",
     "output_type": "stream",
     "text": [
      "\u001b[32m[I 2023-06-01 14:54:48,633]\u001b[0m Trial 4 finished with value: 0.7932676518883415 and parameters: {'penalty': 'l1', 'C': 2.0607748003568016, 'solver': 'saga'}. Best is trial 19 with value: 0.7981937602627258.\u001b[0m\n",
      "\u001b[32m[I 2023-06-01 14:54:48,665]\u001b[0m Trial 15 finished with value: 0.7932676518883415 and parameters: {'penalty': 'l1', 'C': 9.136452480932418, 'solver': 'saga'}. Best is trial 19 with value: 0.7981937602627258.\u001b[0m\n"
     ]
    },
    {
     "name": "stderr",
     "output_type": "stream",
     "text": [
      "c:\\Users\\Iuliia\\miniconda3\\lib\\site-packages\\sklearn\\linear_model\\_sag.py:350: ConvergenceWarning:\n",
      "\n",
      "The max_iter was reached which means the coef_ did not converge\n",
      "\n",
      "c:\\Users\\Iuliia\\miniconda3\\lib\\site-packages\\sklearn\\linear_model\\_sag.py:350: ConvergenceWarning:\n",
      "\n",
      "The max_iter was reached which means the coef_ did not converge\n",
      "\n",
      "c:\\Users\\Iuliia\\miniconda3\\lib\\site-packages\\sklearn\\linear_model\\_sag.py:350: ConvergenceWarning:\n",
      "\n",
      "The max_iter was reached which means the coef_ did not converge\n",
      "\n"
     ]
    },
    {
     "name": "stdout",
     "output_type": "stream",
     "text": [
      "\u001b[32m[I 2023-06-01 14:54:49,058]\u001b[0m Trial 6 finished with value: 0.79376026272578 and parameters: {'penalty': 'l1', 'C': 1.9393917941608447, 'solver': 'saga'}. Best is trial 19 with value: 0.7981937602627258.\u001b[0m\n",
      "\u001b[32m[I 2023-06-01 14:54:49,134]\u001b[0m Trial 9 finished with value: 0.7931034482758621 and parameters: {'penalty': 'l1', 'C': 9.671571243437194, 'solver': 'saga'}. Best is trial 19 with value: 0.7981937602627258.\u001b[0m\n"
     ]
    },
    {
     "name": "stderr",
     "output_type": "stream",
     "text": [
      "c:\\Users\\Iuliia\\miniconda3\\lib\\site-packages\\sklearn\\linear_model\\_sag.py:350: ConvergenceWarning:\n",
      "\n",
      "The max_iter was reached which means the coef_ did not converge\n",
      "\n"
     ]
    },
    {
     "name": "stdout",
     "output_type": "stream",
     "text": [
      "\u001b[32m[I 2023-06-01 14:54:49,320]\u001b[0m Trial 27 finished with value: 0.7919540229885058 and parameters: {'penalty': 'l1', 'C': 1.0195497921365504, 'solver': 'liblinear'}. Best is trial 19 with value: 0.7981937602627258.\u001b[0m\n",
      "\u001b[32m[I 2023-06-01 14:54:49,409]\u001b[0m Trial 11 finished with value: 0.7937602627257799 and parameters: {'penalty': 'l1', 'C': 7.955846906400176, 'solver': 'saga'}. Best is trial 19 with value: 0.7981937602627258.\u001b[0m\n",
      "\u001b[32m[I 2023-06-01 14:54:49,801]\u001b[0m Trial 28 finished with value: 0.7919540229885056 and parameters: {'penalty': 'l1', 'C': 1.0425068237593533, 'solver': 'liblinear'}. Best is trial 19 with value: 0.7981937602627258.\u001b[0m\n",
      "\u001b[32m[I 2023-06-01 14:54:49,947]\u001b[0m Trial 22 finished with value: 0.7962233169129721 and parameters: {'penalty': 'l2', 'C': 2.0421919397369668, 'solver': 'saga'}. Best is trial 19 with value: 0.7981937602627258.\u001b[0m\n"
     ]
    },
    {
     "name": "stderr",
     "output_type": "stream",
     "text": [
      "c:\\Users\\Iuliia\\miniconda3\\lib\\site-packages\\sklearn\\linear_model\\_sag.py:350: ConvergenceWarning:\n",
      "\n",
      "The max_iter was reached which means the coef_ did not converge\n",
      "\n"
     ]
    },
    {
     "name": "stdout",
     "output_type": "stream",
     "text": [
      "\u001b[32m[I 2023-06-01 14:54:51,404]\u001b[0m Trial 32 finished with value: 0.7980295566502462 and parameters: {'penalty': 'l2', 'C': 1.014594260585946, 'solver': 'liblinear'}. Best is trial 19 with value: 0.7981937602627258.\u001b[0m\n",
      "\u001b[32m[I 2023-06-01 14:54:51,434]\u001b[0m Trial 33 finished with value: 0.7980295566502462 and parameters: {'penalty': 'l2', 'C': 1.018585890796899, 'solver': 'liblinear'}. Best is trial 19 with value: 0.7981937602627258.\u001b[0m\n"
     ]
    },
    {
     "name": "stderr",
     "output_type": "stream",
     "text": [
      "c:\\Users\\Iuliia\\miniconda3\\lib\\site-packages\\sklearn\\linear_model\\_sag.py:350: ConvergenceWarning:\n",
      "\n",
      "The max_iter was reached which means the coef_ did not converge\n",
      "\n"
     ]
    },
    {
     "name": "stdout",
     "output_type": "stream",
     "text": [
      "\u001b[32m[I 2023-06-01 14:54:51,859]\u001b[0m Trial 26 finished with value: 0.7929392446633826 and parameters: {'penalty': 'l1', 'C': 1.5946118864005523, 'solver': 'liblinear'}. Best is trial 19 with value: 0.7981937602627258.\u001b[0m\n"
     ]
    },
    {
     "name": "stderr",
     "output_type": "stream",
     "text": [
      "c:\\Users\\Iuliia\\miniconda3\\lib\\site-packages\\sklearn\\linear_model\\_sag.py:350: ConvergenceWarning:\n",
      "\n",
      "The max_iter was reached which means the coef_ did not converge\n",
      "\n"
     ]
    },
    {
     "name": "stdout",
     "output_type": "stream",
     "text": [
      "\u001b[32m[I 2023-06-01 14:54:52,214]\u001b[0m Trial 35 finished with value: 0.7981937602627258 and parameters: {'penalty': 'l2', 'C': 1.0248916538547703, 'solver': 'liblinear'}. Best is trial 19 with value: 0.7981937602627258.\u001b[0m\n",
      "\u001b[32m[I 2023-06-01 14:54:52,231]\u001b[0m Trial 34 finished with value: 0.7980295566502462 and parameters: {'penalty': 'l2', 'C': 1.387459042191235, 'solver': 'liblinear'}. Best is trial 19 with value: 0.7981937602627258.\u001b[0m\n"
     ]
    },
    {
     "name": "stderr",
     "output_type": "stream",
     "text": [
      "c:\\Users\\Iuliia\\miniconda3\\lib\\site-packages\\sklearn\\linear_model\\_sag.py:350: ConvergenceWarning:\n",
      "\n",
      "The max_iter was reached which means the coef_ did not converge\n",
      "\n"
     ]
    },
    {
     "name": "stdout",
     "output_type": "stream",
     "text": [
      "\u001b[32m[I 2023-06-01 14:54:52,411]\u001b[0m Trial 21 finished with value: 0.7957307060755336 and parameters: {'penalty': 'l2', 'C': 4.458712354450153, 'solver': 'saga'}. Best is trial 19 with value: 0.7981937602627258.\u001b[0m\n",
      "\u001b[32m[I 2023-06-01 14:54:52,561]\u001b[0m Trial 29 finished with value: 0.7929392446633826 and parameters: {'penalty': 'l1', 'C': 1.5888538241390264, 'solver': 'liblinear'}. Best is trial 19 with value: 0.7981937602627258.\u001b[0m\n",
      "\u001b[32m[I 2023-06-01 14:54:52,644]\u001b[0m Trial 36 finished with value: 0.7980295566502462 and parameters: {'penalty': 'l2', 'C': 1.5783469525392873, 'solver': 'liblinear'}. Best is trial 19 with value: 0.7981937602627258.\u001b[0m\n",
      "\u001b[32m[I 2023-06-01 14:54:52,722]\u001b[0m Trial 37 finished with value: 0.7980295566502462 and parameters: {'penalty': 'l2', 'C': 1.5605480406142074, 'solver': 'liblinear'}. Best is trial 19 with value: 0.7981937602627258.\u001b[0m\n",
      "\u001b[32m[I 2023-06-01 14:54:53,048]\u001b[0m Trial 38 finished with value: 0.797536945812808 and parameters: {'penalty': 'l2', 'C': 1.6002603894620047, 'solver': 'liblinear'}. Best is trial 19 with value: 0.7981937602627258.\u001b[0m\n",
      "\u001b[32m[I 2023-06-01 14:54:53,092]\u001b[0m Trial 39 finished with value: 0.7980295566502462 and parameters: {'penalty': 'l2', 'C': 1.5516378602272394, 'solver': 'liblinear'}. Best is trial 19 with value: 0.7981937602627258.\u001b[0m\n",
      "\u001b[32m[I 2023-06-01 14:54:53,128]\u001b[0m Trial 30 finished with value: 0.7917898193760264 and parameters: {'penalty': 'l1', 'C': 1.0637518868239286, 'solver': 'liblinear'}. Best is trial 19 with value: 0.7981937602627258.\u001b[0m\n"
     ]
    },
    {
     "name": "stderr",
     "output_type": "stream",
     "text": [
      "c:\\Users\\Iuliia\\miniconda3\\lib\\site-packages\\sklearn\\linear_model\\_sag.py:350: ConvergenceWarning:\n",
      "\n",
      "The max_iter was reached which means the coef_ did not converge\n",
      "\n"
     ]
    },
    {
     "name": "stdout",
     "output_type": "stream",
     "text": [
      "\u001b[32m[I 2023-06-01 14:54:53,382]\u001b[0m Trial 23 finished with value: 0.7958949096880131 and parameters: {'penalty': 'l2', 'C': 4.414547993641121, 'solver': 'saga'}. Best is trial 19 with value: 0.7981937602627258.\u001b[0m\n",
      "\u001b[32m[I 2023-06-01 14:54:54,346]\u001b[0m Trial 41 finished with value: 0.7978653530377667 and parameters: {'penalty': 'l2', 'C': 1.5173903572046932, 'solver': 'liblinear'}. Best is trial 19 with value: 0.7981937602627258.\u001b[0m\n",
      "\u001b[32m[I 2023-06-01 14:54:54,379]\u001b[0m Trial 40 finished with value: 0.7980295566502462 and parameters: {'penalty': 'l2', 'C': 1.490219861492415, 'solver': 'liblinear'}. Best is trial 19 with value: 0.7981937602627258.\u001b[0m\n",
      "\u001b[32m[I 2023-06-01 14:54:54,742]\u001b[0m Trial 42 finished with value: 0.7973727422003283 and parameters: {'penalty': 'l2', 'C': 1.3638760210929795, 'solver': 'liblinear'}. Best is trial 19 with value: 0.7981937602627258.\u001b[0m\n",
      "\u001b[32m[I 2023-06-01 14:54:54,970]\u001b[0m Trial 44 finished with value: 0.7968801313628899 and parameters: {'penalty': 'l2', 'C': 1.2703337659252898, 'solver': 'liblinear'}. Best is trial 19 with value: 0.7981937602627258.\u001b[0m\n",
      "\u001b[32m[I 2023-06-01 14:54:54,985]\u001b[0m Trial 43 finished with value: 0.7970443349753694 and parameters: {'penalty': 'l2', 'C': 1.3239932791353217, 'solver': 'liblinear'}. Best is trial 19 with value: 0.7981937602627258.\u001b[0m\n",
      "\u001b[32m[I 2023-06-01 14:54:55,070]\u001b[0m Trial 45 finished with value: 0.7967159277504106 and parameters: {'penalty': 'l2', 'C': 1.2465489393946518, 'solver': 'liblinear'}. Best is trial 19 with value: 0.7981937602627258.\u001b[0m\n",
      "\u001b[32m[I 2023-06-01 14:54:55,111]\u001b[0m Trial 46 finished with value: 0.7973727422003284 and parameters: {'penalty': 'l2', 'C': 1.198631537382988, 'solver': 'liblinear'}. Best is trial 19 with value: 0.7981937602627258.\u001b[0m\n",
      "\u001b[32m[I 2023-06-01 14:54:55,174]\u001b[0m Trial 47 finished with value: 0.7967159277504106 and parameters: {'penalty': 'l2', 'C': 1.2384181987615706, 'solver': 'liblinear'}. Best is trial 19 with value: 0.7981937602627258.\u001b[0m\n",
      "\u001b[32m[I 2023-06-01 14:54:55,207]\u001b[0m Trial 48 finished with value: 0.7967159277504106 and parameters: {'penalty': 'l2', 'C': 1.2436240311386613, 'solver': 'liblinear'}. Best is trial 19 with value: 0.7981937602627258.\u001b[0m\n",
      "\u001b[32m[I 2023-06-01 14:54:55,329]\u001b[0m Trial 49 finished with value: 0.7973727422003284 and parameters: {'penalty': 'l2', 'C': 1.2166244479238781, 'solver': 'liblinear'}. Best is trial 19 with value: 0.7981937602627258.\u001b[0m\n"
     ]
    },
    {
     "name": "stderr",
     "output_type": "stream",
     "text": [
      "c:\\Users\\Iuliia\\miniconda3\\lib\\site-packages\\sklearn\\linear_model\\_sag.py:350: ConvergenceWarning:\n",
      "\n",
      "The max_iter was reached which means the coef_ did not converge\n",
      "\n",
      "c:\\Users\\Iuliia\\miniconda3\\lib\\site-packages\\sklearn\\linear_model\\_sag.py:350: ConvergenceWarning:\n",
      "\n",
      "The max_iter was reached which means the coef_ did not converge\n",
      "\n"
     ]
    },
    {
     "name": "stdout",
     "output_type": "stream",
     "text": [
      "\u001b[32m[I 2023-06-01 14:54:55,985]\u001b[0m Trial 31 finished with value: 0.7935960591133006 and parameters: {'penalty': 'l1', 'C': 1.566365601805199, 'solver': 'liblinear'}. Best is trial 19 with value: 0.7981937602627258.\u001b[0m\n"
     ]
    },
    {
     "name": "stderr",
     "output_type": "stream",
     "text": [
      "c:\\Users\\Iuliia\\miniconda3\\lib\\site-packages\\sklearn\\linear_model\\_sag.py:350: ConvergenceWarning:\n",
      "\n",
      "The max_iter was reached which means the coef_ did not converge\n",
      "\n",
      "c:\\Users\\Iuliia\\miniconda3\\lib\\site-packages\\sklearn\\linear_model\\_sag.py:350: ConvergenceWarning:\n",
      "\n",
      "The max_iter was reached which means the coef_ did not converge\n",
      "\n",
      "c:\\Users\\Iuliia\\miniconda3\\lib\\site-packages\\sklearn\\linear_model\\_sag.py:350: ConvergenceWarning:\n",
      "\n",
      "The max_iter was reached which means the coef_ did not converge\n",
      "\n",
      "c:\\Users\\Iuliia\\miniconda3\\lib\\site-packages\\sklearn\\linear_model\\_sag.py:350: ConvergenceWarning:\n",
      "\n",
      "The max_iter was reached which means the coef_ did not converge\n",
      "\n"
     ]
    },
    {
     "name": "stdout",
     "output_type": "stream",
     "text": [
      "\u001b[32m[I 2023-06-01 14:54:58,848]\u001b[0m Trial 24 finished with value: 0.7929392446633825 and parameters: {'penalty': 'l1', 'C': 9.779167123369831, 'solver': 'saga'}. Best is trial 19 with value: 0.7981937602627258.\u001b[0m\n"
     ]
    },
    {
     "name": "stderr",
     "output_type": "stream",
     "text": [
      "c:\\Users\\Iuliia\\miniconda3\\lib\\site-packages\\sklearn\\linear_model\\_logistic.py:1211: UserWarning:\n",
      "\n",
      "'n_jobs' > 1 does not have any effect when 'solver' is set to 'liblinear'. Got 'n_jobs' = 16.\n",
      "\n"
     ]
    },
    {
     "name": "stdout",
     "output_type": "stream",
     "text": [
      "\u001b[32m[I 2023-06-01 14:54:59,050]\u001b[0m Trial 25 finished with value: 0.7926108374384236 and parameters: {'penalty': 'l1', 'C': 1.026431869343353, 'solver': 'saga'}. Best is trial 19 with value: 0.7981937602627258.\u001b[0m\n",
      "Best Params LR_W2V: {'penalty': 'l2', 'C': 1.447511476076564, 'solver': 'liblinear'}\n",
      "\n",
      "Best Accuracy LR_W2V: 0.7981937602627258\n"
     ]
    }
   ],
   "source": [
    "#w2v model\n",
    "#LogisticRegression\n",
    "\n",
    "kfold = KFold(n_splits=num_folds, random_state=seed, shuffle=True)\n",
    "\n",
    "#Define the hyperparameters to be optimized\n",
    "def objective(trial):\n",
    "    penalty = trial.suggest_categorical(\"penalty\", [\"l1\", \"l2\"])\n",
    "    C = trial.suggest_float(\"C\", 1.0, 10.0, log=True)\n",
    "    solver = trial.suggest_categorical(\"solver\", [\"liblinear\", \"saga\"])\n",
    "\n",
    "    #Define the logistic regression model with the hyperparameters\n",
    "    lr_w2v = LogisticRegression(penalty=penalty, C=C, solver=solver)\n",
    "\n",
    "\n",
    "    # Perform kFold cross-validation and return the mean validation score\n",
    "    scores = cross_val_score(lr_w2v, X_train_w2v, y_train, cv=kfold, scoring=scoring).mean()\n",
    "    return scores\n",
    "\n",
    "%time\n",
    "#Run the optimization\n",
    "study_lr = optuna.create_study(direction=\"maximize\", study_name=\"LR_W2V\")\n",
    "study_lr.optimize(objective, n_trials=50, n_jobs=-1,show_progress_bar=True)\n",
    "\n",
    "#Print best parametrs\n",
    "print(\"Best Params LR_W2V: {}\".format(study_lr.best_params))\n",
    "print(\"\\nBest Accuracy LR_W2V: {}\".format(study_lr.best_value))\n",
    "\n",
    "\n",
    "#Train the logistic regression model with the optimized hyperparameters\n",
    "best_params_lr = study_lr.best_params\n",
    "lr_w2v = LogisticRegression(**best_params_lr, n_jobs=-1)\n",
    "lr_w2v.fit(X_train_w2v, y_train)\n",
    "\n",
    "\n",
    "#Evaluate the performance of the model on the testing set\n",
    "predictions_lr = lr_w2v.predict(X_test_w2v)"
   ]
  },
  {
   "cell_type": "code",
   "execution_count": 62,
   "metadata": {},
   "outputs": [
    {
     "data": {
      "image/png": "[encoded data removed]",
      "text/plain": [
       "<Figure size 640x480 with 2 Axes>"
      ]
     },
     "metadata": {},
     "output_type": "display_data"
    },
    {
     "name": "stdout",
     "output_type": "stream",
     "text": [
      "              precision    recall  f1-score   support\n",
      "\n",
      "           0      0.796     0.868     0.831       851\n",
      "           1      0.812     0.719     0.762       672\n",
      "\n",
      "    accuracy                          0.802      1523\n",
      "   macro avg      0.804     0.794     0.797      1523\n",
      "weighted avg      0.803     0.802     0.801      1523\n",
      "\n"
     ]
    }
   ],
   "source": [
    "#Confusion matrix\n",
    "cm=confusion_matrix(y_test, predictions_lr)\n",
    "disp = ConfusionMatrixDisplay(confusion_matrix=cm, display_labels=None)\n",
    "disp.plot()\n",
    "plt.show()\n",
    "print(classification_report(y_test, predictions_lr, digits=3))"
   ]
  },
  {
   "attachments": {},
   "cell_type": "markdown",
   "metadata": {},
   "source": [
    "**KNeighborsClassifier (Word2Vec)**"
   ]
  },
  {
   "cell_type": "code",
   "execution_count": 112,
   "metadata": {},
   "outputs": [
    {
     "name": "stdout",
     "output_type": "stream",
     "text": [
      "0.7927750410509031\n"
     ]
    }
   ],
   "source": [
    "\n",
    "#w2v\n",
    "kfold = KFold(n_splits=num_folds, random_state=seed, shuffle=True)\n",
    "\n",
    "\n",
    "#Define the KNN model with the hyperparameters\n",
    "knn_w2v = KNeighborsClassifier(n_neighbors=21, weights='uniform', metric='manhattan', algorithm='auto')\n",
    "\n",
    "# Perform kFold cross-validation and return the mean validation score\n",
    "scores = cross_val_score(knn_w2v, X_train_w2v, y_train, cv=kfold, scoring=scoring, n_jobs=-1).mean()\n",
    "\n",
    "#Train the KNN model \n",
    "knn_w2v.fit(X_train_w2v, y_train)\n",
    "\n",
    "#Evaluate the performance of the model on the testing set\n",
    "predictions_knn = knn_w2v.predict(X_test_w2v)\n",
    "\n",
    "print(scores)\n",
    "\n",
    "\n",
    "\n",
    "\n",
    "\n",
    "\n",
    "\n",
    "\n"
   ]
  },
  {
   "cell_type": "code",
   "execution_count": 110,
   "metadata": {},
   "outputs": [
    {
     "data": {
      "image/png": "[encoded data removed]",
      "text/plain": [
       "<Figure size 640x480 with 2 Axes>"
      ]
     },
     "metadata": {},
     "output_type": "display_data"
    },
    {
     "name": "stdout",
     "output_type": "stream",
     "text": [
      "              precision    recall  f1-score   support\n",
      "\n",
      "           0      0.771     0.875     0.820       851\n",
      "           1      0.810     0.671     0.734       672\n",
      "\n",
      "    accuracy                          0.785      1523\n",
      "   macro avg      0.790     0.773     0.777      1523\n",
      "weighted avg      0.788     0.785     0.782      1523\n",
      "\n"
     ]
    }
   ],
   "source": [
    "#Confusion matrix KN_W2V\n",
    "cm=confusion_matrix(y_test, predictions_knn)\n",
    "disp = ConfusionMatrixDisplay(confusion_matrix=cm, display_labels=None)\n",
    "disp.plot()\n",
    "plt.show()\n",
    "print(classification_report(y_test, predictions_knn, digits=3))"
   ]
  },
  {
   "attachments": {},
   "cell_type": "markdown",
   "metadata": {},
   "source": [
    "**Support Vector Classification (w2v)**"
   ]
  },
  {
   "cell_type": "code",
   "execution_count": 46,
   "metadata": {},
   "outputs": [
    {
     "name": "stderr",
     "output_type": "stream",
     "text": [
      "\u001b[32m[I 2023-06-01 16:25:45,796]\u001b[0m A new study created in memory with name: SVC_W2V\u001b[0m\n"
     ]
    },
    {
     "name": "stdout",
     "output_type": "stream",
     "text": [
      "CPU times: total: 0 ns\n",
      "Wall time: 2 ms\n"
     ]
    },
    {
     "name": "stderr",
     "output_type": "stream",
     "text": [
      "c:\\Users\\Iuliia\\miniconda3\\lib\\site-packages\\optuna\\progress_bar.py:56: ExperimentalWarning:\n",
      "\n",
      "Progress bar is experimental (supported from v1.2.0). The interface can change in the future.\n",
      "\n"
     ]
    },
    {
     "data": {
      "application/vnd.jupyter.widget-view+json": {
       "model_id": "cd4c1e6d27024553b988bc8a154ad244",
       "version_major": 2,
       "version_minor": 0
      },
      "text/plain": [
       "  0%|          | 0/20 [00:00<?, ?it/s]"
      ]
     },
     "metadata": {},
     "output_type": "display_data"
    },
    {
     "name": "stdout",
     "output_type": "stream",
     "text": [
      "\u001b[32m[I 2023-06-01 16:27:50,048]\u001b[0m Trial 11 finished with value: 0.6852216748768474 and parameters: {'C': 1.7000000000000002, 'kernel': 'sigmoid'}. Best is trial 11 with value: 0.6852216748768474.\u001b[0m\n",
      "\u001b[32m[I 2023-06-01 16:28:05,619]\u001b[0m Trial 10 finished with value: 0.6865353037766831 and parameters: {'C': 1.1, 'kernel': 'sigmoid'}. Best is trial 10 with value: 0.6865353037766831.\u001b[0m\n",
      "\u001b[32m[I 2023-06-01 16:28:24,831]\u001b[0m Trial 15 finished with value: 0.7978653530377668 and parameters: {'C': 2.1, 'kernel': 'linear'}. Best is trial 15 with value: 0.7978653530377668.\u001b[0m\n",
      "\u001b[32m[I 2023-06-01 16:28:25,736]\u001b[0m Trial 3 finished with value: 0.7978653530377668 and parameters: {'C': 2.1, 'kernel': 'linear'}. Best is trial 15 with value: 0.7978653530377668.\u001b[0m\n",
      "\u001b[32m[I 2023-06-01 16:28:30,703]\u001b[0m Trial 14 finished with value: 0.8236453201970443 and parameters: {'C': 1.3000000000000003, 'kernel': 'rbf'}. Best is trial 14 with value: 0.8236453201970443.\u001b[0m\n",
      "\u001b[32m[I 2023-06-01 16:28:39,308]\u001b[0m Trial 2 finished with value: 0.8073891625615763 and parameters: {'C': 2.3000000000000003, 'kernel': 'poly'}. Best is trial 14 with value: 0.8236453201970443.\u001b[0m\n",
      "\u001b[32m[I 2023-06-01 16:28:41,871]\u001b[0m Trial 1 finished with value: 0.8073891625615763 and parameters: {'C': 2.3000000000000003, 'kernel': 'poly'}. Best is trial 14 with value: 0.8236453201970443.\u001b[0m\n",
      "\u001b[32m[I 2023-06-01 16:28:42,056]\u001b[0m Trial 8 finished with value: 0.796551724137931 and parameters: {'C': 1.7000000000000002, 'kernel': 'linear'}. Best is trial 14 with value: 0.8236453201970443.\u001b[0m\n",
      "\u001b[32m[I 2023-06-01 16:28:42,512]\u001b[0m Trial 5 finished with value: 0.8085385878489326 and parameters: {'C': 1.7000000000000002, 'kernel': 'poly'}. Best is trial 14 with value: 0.8236453201970443.\u001b[0m\n",
      "\u001b[32m[I 2023-06-01 16:28:43,252]\u001b[0m Trial 7 finished with value: 0.8 and parameters: {'C': 1.1, 'kernel': 'linear'}. Best is trial 14 with value: 0.8236453201970443.\u001b[0m\n",
      "\u001b[32m[I 2023-06-01 16:28:43,497]\u001b[0m Trial 9 finished with value: 0.8236453201970443 and parameters: {'C': 1.3000000000000003, 'kernel': 'rbf'}. Best is trial 14 with value: 0.8236453201970443.\u001b[0m\n",
      "\u001b[32m[I 2023-06-01 16:28:43,743]\u001b[0m Trial 0 finished with value: 0.8067323481116583 and parameters: {'C': 2.5, 'kernel': 'poly'}. Best is trial 14 with value: 0.8236453201970443.\u001b[0m\n",
      "\u001b[32m[I 2023-06-01 16:28:43,759]\u001b[0m Trial 4 finished with value: 0.8085385878489326 and parameters: {'C': 2.1, 'kernel': 'poly'}. Best is trial 14 with value: 0.8236453201970443.\u001b[0m\n",
      "\u001b[32m[I 2023-06-01 16:28:44,988]\u001b[0m Trial 12 finished with value: 0.8073891625615763 and parameters: {'C': 2.3000000000000003, 'kernel': 'poly'}. Best is trial 14 with value: 0.8236453201970443.\u001b[0m\n",
      "\u001b[32m[I 2023-06-01 16:28:48,197]\u001b[0m Trial 6 finished with value: 0.7990147783251231 and parameters: {'C': 0.30000000000000004, 'kernel': 'linear'}. Best is trial 14 with value: 0.8236453201970443.\u001b[0m\n",
      "\u001b[32m[I 2023-06-01 16:28:56,261]\u001b[0m Trial 13 finished with value: 0.7793103448275863 and parameters: {'C': 0.1, 'kernel': 'sigmoid'}. Best is trial 14 with value: 0.8236453201970443.\u001b[0m\n",
      "\u001b[32m[I 2023-06-01 16:29:10,394]\u001b[0m Trial 16 finished with value: 0.6848932676518883 and parameters: {'C': 1.9000000000000001, 'kernel': 'sigmoid'}. Best is trial 14 with value: 0.8236453201970443.\u001b[0m\n",
      "\u001b[32m[I 2023-06-01 16:29:32,141]\u001b[0m Trial 17 finished with value: 0.8016420361247947 and parameters: {'C': 0.9, 'kernel': 'linear'}. Best is trial 14 with value: 0.8236453201970443.\u001b[0m\n",
      "\u001b[32m[I 2023-06-01 16:29:38,498]\u001b[0m Trial 18 finished with value: 0.8220032840722495 and parameters: {'C': 2.5, 'kernel': 'rbf'}. Best is trial 14 with value: 0.8236453201970443.\u001b[0m\n",
      "\u001b[32m[I 2023-06-01 16:29:40,398]\u001b[0m Trial 19 finished with value: 0.8095238095238095 and parameters: {'C': 1.9000000000000001, 'kernel': 'poly'}. Best is trial 14 with value: 0.8236453201970443.\u001b[0m\n",
      "Best Params SVC_W2V: {'C': 1.3000000000000003, 'kernel': 'rbf'}\n",
      "\n",
      "Best Accuracy SVC_W2V: 0.8236453201970443\n"
     ]
    }
   ],
   "source": [
    "#w2v\n",
    "kfold = KFold(n_splits=num_folds, random_state=seed, shuffle=True)\n",
    "\n",
    "#Define the hyperparameters to be optimized\n",
    "def objective(trial):\n",
    "    C = trial.suggest_float('C', 0.1, 2.5, step=0.2)\n",
    "    #gamma = trial.suggest_float('gamma', 0.01, 10, log=True)\n",
    "    kernel = trial.suggest_categorical('kernel', ['linear', 'rbf', 'poly', 'sigmoid'])\n",
    "\n",
    "    #Define the SVM model with the hyperparameters\n",
    "    svc_w2v = SVC(C=C, kernel=kernel) # gamma=gamma\n",
    "\n",
    "\n",
    "    # Perform kFold cross-validation and return the mean validation score\n",
    "    scores = cross_val_score(svc_w2v, X_train_w2v, y_train, cv=kfold, scoring=scoring).mean()\n",
    "    return scores\n",
    "\n",
    "%time\n",
    "#Run the optimization\n",
    "study_svc = optuna.create_study(direction=\"maximize\", study_name=\"SVC_W2V\")\n",
    "study_svc.optimize(objective, n_trials=20, n_jobs=-1,show_progress_bar=True)\n",
    "\n",
    "#Print best parametrs\n",
    "print(\"Best Params SVC_W2V: {}\".format(study_svc.best_params))\n",
    "print(\"\\nBest Accuracy SVC_W2V: {}\".format(study_svc.best_value))\n",
    "\n",
    "\n",
    "\n",
    "\n",
    "#Train the SVM model with the optimized hyperparameters\n",
    "best_params_svc = study_svc.best_params\n",
    "svc_w2v = SVC(**best_params_svc)\n",
    "\n",
    "svc_w2v.fit(X_train_w2v, y_train)\n",
    "\n",
    "\n",
    "#Evaluate the performance of the model on the testing set\n",
    "predictions_svc = svc_w2v.predict(X_test_w2v)"
   ]
  },
  {
   "cell_type": "code",
   "execution_count": 47,
   "metadata": {},
   "outputs": [
    {
     "data": {
      "image/png": "[encoded data removed]",
      "text/plain": [
       "<Figure size 640x480 with 2 Axes>"
      ]
     },
     "metadata": {},
     "output_type": "display_data"
    },
    {
     "name": "stdout",
     "output_type": "stream",
     "text": [
      "              precision    recall  f1-score   support\n",
      "\n",
      "           0      0.799     0.899     0.846       851\n",
      "           1      0.848     0.713     0.774       672\n",
      "\n",
      "    accuracy                          0.817      1523\n",
      "   macro avg      0.823     0.806     0.810      1523\n",
      "weighted avg      0.820     0.817     0.814      1523\n",
      "\n"
     ]
    }
   ],
   "source": [
    "#Confusion matrix SVC_W2V\n",
    "cm=confusion_matrix(y_test, predictions_svc)\n",
    "disp = ConfusionMatrixDisplay(confusion_matrix=cm, display_labels=None)\n",
    "disp.plot()\n",
    "plt.show()\n",
    "print(classification_report(y_test, predictions_svc, digits=3))"
   ]
  },
  {
   "attachments": {},
   "cell_type": "markdown",
   "metadata": {},
   "source": [
    "**RandomForestClassifier (Word2Vec)**"
   ]
  },
  {
   "cell_type": "code",
   "execution_count": 48,
   "metadata": {},
   "outputs": [
    {
     "name": "stderr",
     "output_type": "stream",
     "text": [
      "\u001b[32m[I 2023-06-01 16:35:33,961]\u001b[0m A new study created in memory with name: RF_W2V\u001b[0m\n"
     ]
    },
    {
     "name": "stdout",
     "output_type": "stream",
     "text": [
      "CPU times: total: 0 ns\n",
      "Wall time: 0 ns\n"
     ]
    },
    {
     "name": "stderr",
     "output_type": "stream",
     "text": [
      "c:\\Users\\Iuliia\\miniconda3\\lib\\site-packages\\optuna\\progress_bar.py:56: ExperimentalWarning:\n",
      "\n",
      "Progress bar is experimental (supported from v1.2.0). The interface can change in the future.\n",
      "\n"
     ]
    },
    {
     "data": {
      "application/vnd.jupyter.widget-view+json": {
       "model_id": "78c550cab6324f2290e0ed85c0f9f9d7",
       "version_major": 2,
       "version_minor": 0
      },
      "text/plain": [
       "  0%|          | 0/20 [00:00<?, ?it/s]"
      ]
     },
     "metadata": {},
     "output_type": "display_data"
    },
    {
     "name": "stdout",
     "output_type": "stream",
     "text": [
      "\u001b[32m[I 2023-06-01 16:36:28,971]\u001b[0m Trial 4 finished with value: 0.7870279146141215 and parameters: {'n_estimators': 50, 'max_depth': 10, 'min_samples_split': 10, 'min_samples_leaf': 10}. Best is trial 4 with value: 0.7870279146141215.\u001b[0m\n",
      "\u001b[32m[I 2023-06-01 16:36:32,317]\u001b[0m Trial 11 finished with value: 0.7779967159277504 and parameters: {'n_estimators': 100, 'max_depth': 5, 'min_samples_split': 7, 'min_samples_leaf': 3}. Best is trial 4 with value: 0.7870279146141215.\u001b[0m\n",
      "\u001b[32m[I 2023-06-01 16:37:36,617]\u001b[0m Trial 0 finished with value: 0.7954022988505747 and parameters: {'n_estimators': 100, 'max_depth': 10, 'min_samples_split': 10, 'min_samples_leaf': 6}. Best is trial 0 with value: 0.7954022988505747.\u001b[0m\n",
      "\u001b[32m[I 2023-06-01 16:39:16,682]\u001b[0m Trial 15 finished with value: 0.797208538587849 and parameters: {'n_estimators': 150, 'max_depth': 30, 'min_samples_split': 2, 'min_samples_leaf': 6}. Best is trial 15 with value: 0.797208538587849.\u001b[0m\n",
      "\u001b[32m[I 2023-06-01 16:39:21,716]\u001b[0m Trial 8 finished with value: 0.7965517241379311 and parameters: {'n_estimators': 150, 'max_depth': 45, 'min_samples_split': 5, 'min_samples_leaf': 8}. Best is trial 15 with value: 0.797208538587849.\u001b[0m\n",
      "\u001b[32m[I 2023-06-01 16:41:05,951]\u001b[0m Trial 7 finished with value: 0.7955665024630543 and parameters: {'n_estimators': 200, 'max_depth': 20, 'min_samples_split': 4, 'min_samples_leaf': 5}. Best is trial 15 with value: 0.797208538587849.\u001b[0m\n",
      "\u001b[32m[I 2023-06-01 16:41:37,906]\u001b[0m Trial 5 finished with value: 0.7950738916256157 and parameters: {'n_estimators': 200, 'max_depth': 45, 'min_samples_split': 10, 'min_samples_leaf': 2}. Best is trial 15 with value: 0.797208538587849.\u001b[0m\n",
      "\u001b[32m[I 2023-06-01 16:41:57,940]\u001b[0m Trial 17 finished with value: 0.7950738916256157 and parameters: {'n_estimators': 150, 'max_depth': 25, 'min_samples_split': 6, 'min_samples_leaf': 1}. Best is trial 15 with value: 0.797208538587849.\u001b[0m\n",
      "\u001b[32m[I 2023-06-01 16:43:49,285]\u001b[0m Trial 18 finished with value: 0.7958949096880131 and parameters: {'n_estimators': 250, 'max_depth': 30, 'min_samples_split': 10, 'min_samples_leaf': 10}. Best is trial 15 with value: 0.797208538587849.\u001b[0m\n",
      "\u001b[32m[I 2023-06-01 16:44:36,305]\u001b[0m Trial 10 finished with value: 0.7955665024630543 and parameters: {'n_estimators': 400, 'max_depth': 10, 'min_samples_split': 8, 'min_samples_leaf': 9}. Best is trial 15 with value: 0.797208538587849.\u001b[0m\n",
      "\u001b[32m[I 2023-06-01 16:44:41,096]\u001b[0m Trial 13 finished with value: 0.8009852216748768 and parameters: {'n_estimators': 300, 'max_depth': 45, 'min_samples_split': 8, 'min_samples_leaf': 3}. Best is trial 13 with value: 0.8009852216748768.\u001b[0m\n",
      "\u001b[32m[I 2023-06-01 16:44:51,625]\u001b[0m Trial 19 finished with value: 0.7977011494252874 and parameters: {'n_estimators': 200, 'max_depth': 40, 'min_samples_split': 6, 'min_samples_leaf': 4}. Best is trial 13 with value: 0.8009852216748768.\u001b[0m\n",
      "\u001b[32m[I 2023-06-01 16:45:05,866]\u001b[0m Trial 12 finished with value: 0.7958949096880131 and parameters: {'n_estimators': 350, 'max_depth': 25, 'min_samples_split': 4, 'min_samples_leaf': 5}. Best is trial 13 with value: 0.8009852216748768.\u001b[0m\n",
      "\u001b[32m[I 2023-06-01 16:45:56,749]\u001b[0m Trial 14 finished with value: 0.7954022988505747 and parameters: {'n_estimators': 450, 'max_depth': 15, 'min_samples_split': 7, 'min_samples_leaf': 7}. Best is trial 13 with value: 0.8009852216748768.\u001b[0m\n",
      "\u001b[32m[I 2023-06-01 16:46:03,210]\u001b[0m Trial 6 finished with value: 0.8004926108374384 and parameters: {'n_estimators': 450, 'max_depth': 25, 'min_samples_split': 3, 'min_samples_leaf': 8}. Best is trial 13 with value: 0.8009852216748768.\u001b[0m\n",
      "\u001b[32m[I 2023-06-01 16:46:06,216]\u001b[0m Trial 3 finished with value: 0.7963875205254516 and parameters: {'n_estimators': 500, 'max_depth': 15, 'min_samples_split': 5, 'min_samples_leaf': 10}. Best is trial 13 with value: 0.8009852216748768.\u001b[0m\n",
      "\u001b[32m[I 2023-06-01 16:46:20,017]\u001b[0m Trial 9 finished with value: 0.7960591133004926 and parameters: {'n_estimators': 500, 'max_depth': 20, 'min_samples_split': 5, 'min_samples_leaf': 10}. Best is trial 13 with value: 0.8009852216748768.\u001b[0m\n",
      "\u001b[32m[I 2023-06-01 16:46:59,479]\u001b[0m Trial 16 finished with value: 0.7957307060755336 and parameters: {'n_estimators': 500, 'max_depth': 45, 'min_samples_split': 8, 'min_samples_leaf': 8}. Best is trial 13 with value: 0.8009852216748768.\u001b[0m\n",
      "\u001b[32m[I 2023-06-01 16:47:31,932]\u001b[0m Trial 2 finished with value: 0.7975369458128079 and parameters: {'n_estimators': 450, 'max_depth': 40, 'min_samples_split': 4, 'min_samples_leaf': 2}. Best is trial 13 with value: 0.8009852216748768.\u001b[0m\n",
      "\u001b[32m[I 2023-06-01 16:47:37,582]\u001b[0m Trial 1 finished with value: 0.8008210180623975 and parameters: {'n_estimators': 500, 'max_depth': 25, 'min_samples_split': 7, 'min_samples_leaf': 3}. Best is trial 13 with value: 0.8009852216748768.\u001b[0m\n",
      "Best Params RF_W2V: {'n_estimators': 300, 'max_depth': 45, 'min_samples_split': 8, 'min_samples_leaf': 3}\n",
      "\n",
      "Best Accuracy RF_W2V: 0.8009852216748768\n"
     ]
    }
   ],
   "source": [
    "#w2v\n",
    "kfold = KFold(n_splits=num_folds, random_state=seed, shuffle=True)\n",
    "\n",
    "#Define the hyperparameters to be optimized\n",
    "def objective(trial):\n",
    "    n_estimators = trial.suggest_int('n_estimators', 50, 500, step=50)\n",
    "    max_depth = trial.suggest_int('max_depth', 5, 50, step=5)\n",
    "    min_samples_split = trial.suggest_int('min_samples_split', 2, 10)\n",
    "    min_samples_leaf = trial.suggest_int('min_samples_leaf', 1, 10)\n",
    "\n",
    "    #Define the RF model with the hyperparameters\n",
    "    rf_w2v = RandomForestClassifier(n_estimators=n_estimators, max_depth=max_depth,\n",
    "                                   min_samples_split=min_samples_split, min_samples_leaf=min_samples_leaf) \n",
    "\n",
    "\n",
    "\n",
    "    # Perform kFold cross-validation and return the mean validation score\n",
    "    scores = cross_val_score(rf_w2v, X_train_w2v, y_train, cv=kfold, scoring=scoring).mean()\n",
    "    return scores\n",
    "\n",
    "%time\n",
    "#Run the optimization\n",
    "study_RF = optuna.create_study(direction=\"maximize\", study_name=\"RF_W2V\")\n",
    "study_RF.optimize(objective, n_trials=20, n_jobs=-1,show_progress_bar=True)\n",
    "\n",
    "#Print best parametrs\n",
    "print(\"Best Params RF_W2V: {}\".format(study_RF.best_params))\n",
    "print(\"\\nBest Accuracy RF_W2V: {}\".format(study_RF.best_value))\n",
    "\n",
    "\n",
    "\n",
    "\n",
    "#Train the RF model with the optimized hyperparameters\n",
    "best_params_rf = study_RF.best_params\n",
    "rf_w2v = RandomForestClassifier(**best_params_rf, n_jobs=-1)\n",
    "rf_w2v.fit(X_train_w2v, y_train)\n",
    "\n",
    "\n",
    "#Evaluate the performance of the model on the testing set\n",
    "predictions_rf = rf_w2v.predict(X_test_w2v)"
   ]
  },
  {
   "cell_type": "code",
   "execution_count": 49,
   "metadata": {},
   "outputs": [
    {
     "data": {
      "image/png": "[encoded data removed]",
      "text/plain": [
       "<Figure size 640x480 with 2 Axes>"
      ]
     },
     "metadata": {},
     "output_type": "display_data"
    },
    {
     "name": "stdout",
     "output_type": "stream",
     "text": [
      "              precision    recall  f1-score   support\n",
      "\n",
      "           0      0.769     0.898     0.829       851\n",
      "           1      0.836     0.659     0.737       672\n",
      "\n",
      "    accuracy                          0.793      1523\n",
      "   macro avg      0.803     0.778     0.783      1523\n",
      "weighted avg      0.799     0.793     0.788      1523\n",
      "\n"
     ]
    }
   ],
   "source": [
    "#Confusion matrix RF_W2V\n",
    "cm=confusion_matrix(y_test, predictions_rf)\n",
    "disp = ConfusionMatrixDisplay(confusion_matrix=cm, display_labels=None)\n",
    "disp.plot()\n",
    "plt.show()\n",
    "print(classification_report(y_test, predictions_rf, digits=3))"
   ]
  },
  {
   "attachments": {},
   "cell_type": "markdown",
   "metadata": {},
   "source": [
    "**PassiveAggressiveClassifier (Word2Vec)**"
   ]
  },
  {
   "cell_type": "code",
   "execution_count": 50,
   "metadata": {},
   "outputs": [
    {
     "name": "stderr",
     "output_type": "stream",
     "text": [
      "\u001b[32m[I 2023-06-01 16:47:46,327]\u001b[0m A new study created in memory with name: PA_W2V\u001b[0m\n"
     ]
    },
    {
     "name": "stdout",
     "output_type": "stream",
     "text": [
      "CPU times: total: 0 ns\n",
      "Wall time: 1.24 ms\n"
     ]
    },
    {
     "name": "stderr",
     "output_type": "stream",
     "text": [
      "c:\\Users\\Iuliia\\miniconda3\\lib\\site-packages\\optuna\\progress_bar.py:56: ExperimentalWarning:\n",
      "\n",
      "Progress bar is experimental (supported from v1.2.0). The interface can change in the future.\n",
      "\n"
     ]
    },
    {
     "data": {
      "application/vnd.jupyter.widget-view+json": {
       "model_id": "77e3672bde484e9eb4d5d2a62edca28e",
       "version_major": 2,
       "version_minor": 0
      },
      "text/plain": [
       "  0%|          | 0/50 [00:00<?, ?it/s]"
      ]
     },
     "metadata": {},
     "output_type": "display_data"
    },
    {
     "name": "stderr",
     "output_type": "stream",
     "text": [
      "C:\\Users\\Iuliia\\AppData\\Local\\Temp\\ipykernel_42760\\56710310.py:6: FutureWarning:\n",
      "\n",
      "suggest_loguniform has been deprecated in v3.0.0. This feature will be removed in v6.0.0. See https://github.com/optuna/optuna/releases/tag/v3.0.0. Use :func:`~optuna.trial.Trial.suggest_float` instead.\n",
      "\n",
      "C:\\Users\\Iuliia\\AppData\\Local\\Temp\\ipykernel_42760\\56710310.py:9: FutureWarning:\n",
      "\n",
      "suggest_loguniform has been deprecated in v3.0.0. This feature will be removed in v6.0.0. See https://github.com/optuna/optuna/releases/tag/v3.0.0. Use :func:`~optuna.trial.Trial.suggest_float` instead.\n",
      "\n",
      "C:\\Users\\Iuliia\\AppData\\Local\\Temp\\ipykernel_42760\\56710310.py:6: FutureWarning:\n",
      "\n",
      "suggest_loguniform has been deprecated in v3.0.0. This feature will be removed in v6.0.0. See https://github.com/optuna/optuna/releases/tag/v3.0.0. Use :func:`~optuna.trial.Trial.suggest_float` instead.\n",
      "\n",
      "C:\\Users\\Iuliia\\AppData\\Local\\Temp\\ipykernel_42760\\56710310.py:6: FutureWarning:\n",
      "\n",
      "suggest_loguniform has been deprecated in v3.0.0. This feature will be removed in v6.0.0. See https://github.com/optuna/optuna/releases/tag/v3.0.0. Use :func:`~optuna.trial.Trial.suggest_float` instead.\n",
      "\n",
      "C:\\Users\\Iuliia\\AppData\\Local\\Temp\\ipykernel_42760\\56710310.py:9: FutureWarning:\n",
      "\n",
      "suggest_loguniform has been deprecated in v3.0.0. This feature will be removed in v6.0.0. See https://github.com/optuna/optuna/releases/tag/v3.0.0. Use :func:`~optuna.trial.Trial.suggest_float` instead.\n",
      "\n",
      "C:\\Users\\Iuliia\\AppData\\Local\\Temp\\ipykernel_42760\\56710310.py:6: FutureWarning:\n",
      "\n",
      "suggest_loguniform has been deprecated in v3.0.0. This feature will be removed in v6.0.0. See https://github.com/optuna/optuna/releases/tag/v3.0.0. Use :func:`~optuna.trial.Trial.suggest_float` instead.\n",
      "\n",
      "C:\\Users\\Iuliia\\AppData\\Local\\Temp\\ipykernel_42760\\56710310.py:6: FutureWarning:\n",
      "\n",
      "suggest_loguniform has been deprecated in v3.0.0. This feature will be removed in v6.0.0. See https://github.com/optuna/optuna/releases/tag/v3.0.0. Use :func:`~optuna.trial.Trial.suggest_float` instead.\n",
      "\n",
      "C:\\Users\\Iuliia\\AppData\\Local\\Temp\\ipykernel_42760\\56710310.py:9: FutureWarning:\n",
      "\n",
      "suggest_loguniform has been deprecated in v3.0.0. This feature will be removed in v6.0.0. See https://github.com/optuna/optuna/releases/tag/v3.0.0. Use :func:`~optuna.trial.Trial.suggest_float` instead.\n",
      "\n",
      "C:\\Users\\Iuliia\\AppData\\Local\\Temp\\ipykernel_42760\\56710310.py:9: FutureWarning:\n",
      "\n",
      "suggest_loguniform has been deprecated in v3.0.0. This feature will be removed in v6.0.0. See https://github.com/optuna/optuna/releases/tag/v3.0.0. Use :func:`~optuna.trial.Trial.suggest_float` instead.\n",
      "\n",
      "C:\\Users\\Iuliia\\AppData\\Local\\Temp\\ipykernel_42760\\56710310.py:9: FutureWarning:\n",
      "\n",
      "suggest_loguniform has been deprecated in v3.0.0. This feature will be removed in v6.0.0. See https://github.com/optuna/optuna/releases/tag/v3.0.0. Use :func:`~optuna.trial.Trial.suggest_float` instead.\n",
      "\n",
      "C:\\Users\\Iuliia\\AppData\\Local\\Temp\\ipykernel_42760\\56710310.py:9: FutureWarning:\n",
      "\n",
      "suggest_loguniform has been deprecated in v3.0.0. This feature will be removed in v6.0.0. See https://github.com/optuna/optuna/releases/tag/v3.0.0. Use :func:`~optuna.trial.Trial.suggest_float` instead.\n",
      "\n"
     ]
    },
    {
     "name": "stdout",
     "output_type": "stream",
     "text": [
      "\u001b[32m[I 2023-06-01 16:47:47,022]\u001b[0m Trial 0 finished with value: 0.7193760262725781 and parameters: {'C': 2.5189529800216433e-05, 'fit_intercept': True, 'max_iter': 700, 'tol': 0.0032986083354127073, 'loss': 'squared_hinge', 'average': False, 'class_weight': 'balanced'}. Best is trial 0 with value: 0.7193760262725781.\u001b[0m\n"
     ]
    },
    {
     "name": "stderr",
     "output_type": "stream",
     "text": [
      "C:\\Users\\Iuliia\\AppData\\Local\\Temp\\ipykernel_42760\\56710310.py:6: FutureWarning:\n",
      "\n",
      "suggest_loguniform has been deprecated in v3.0.0. This feature will be removed in v6.0.0. See https://github.com/optuna/optuna/releases/tag/v3.0.0. Use :func:`~optuna.trial.Trial.suggest_float` instead.\n",
      "\n",
      "C:\\Users\\Iuliia\\AppData\\Local\\Temp\\ipykernel_42760\\56710310.py:9: FutureWarning:\n",
      "\n",
      "suggest_loguniform has been deprecated in v3.0.0. This feature will be removed in v6.0.0. See https://github.com/optuna/optuna/releases/tag/v3.0.0. Use :func:`~optuna.trial.Trial.suggest_float` instead.\n",
      "\n",
      "C:\\Users\\Iuliia\\AppData\\Local\\Temp\\ipykernel_42760\\56710310.py:6: FutureWarning:\n",
      "\n",
      "suggest_loguniform has been deprecated in v3.0.0. This feature will be removed in v6.0.0. See https://github.com/optuna/optuna/releases/tag/v3.0.0. Use :func:`~optuna.trial.Trial.suggest_float` instead.\n",
      "\n",
      "C:\\Users\\Iuliia\\AppData\\Local\\Temp\\ipykernel_42760\\56710310.py:9: FutureWarning:\n",
      "\n",
      "suggest_loguniform has been deprecated in v3.0.0. This feature will be removed in v6.0.0. See https://github.com/optuna/optuna/releases/tag/v3.0.0. Use :func:`~optuna.trial.Trial.suggest_float` instead.\n",
      "\n"
     ]
    },
    {
     "name": "stdout",
     "output_type": "stream",
     "text": [
      "\u001b[32m[I 2023-06-01 16:47:47,319]\u001b[0m Trial 2 finished with value: 0.6307060755336618 and parameters: {'C': 1129.2650058297368, 'fit_intercept': False, 'max_iter': 1000, 'tol': 0.0007910159848103023, 'loss': 'hinge', 'average': False, 'class_weight': None}. Best is trial 0 with value: 0.7193760262725781.\u001b[0m\n",
      "\u001b[32m[I 2023-06-01 16:47:47,363]\u001b[0m Trial 9 finished with value: 0.6791461412151067 and parameters: {'C': 314.3744684155697, 'fit_intercept': False, 'max_iter': 200, 'tol': 0.0010380102234023422, 'loss': 'squared_hinge', 'average': False, 'class_weight': None}. Best is trial 0 with value: 0.7193760262725781.\u001b[0m\n"
     ]
    },
    {
     "name": "stderr",
     "output_type": "stream",
     "text": [
      "C:\\Users\\Iuliia\\AppData\\Local\\Temp\\ipykernel_42760\\56710310.py:6: FutureWarning:\n",
      "\n",
      "suggest_loguniform has been deprecated in v3.0.0. This feature will be removed in v6.0.0. See https://github.com/optuna/optuna/releases/tag/v3.0.0. Use :func:`~optuna.trial.Trial.suggest_float` instead.\n",
      "\n",
      "C:\\Users\\Iuliia\\AppData\\Local\\Temp\\ipykernel_42760\\56710310.py:9: FutureWarning:\n",
      "\n",
      "suggest_loguniform has been deprecated in v3.0.0. This feature will be removed in v6.0.0. See https://github.com/optuna/optuna/releases/tag/v3.0.0. Use :func:`~optuna.trial.Trial.suggest_float` instead.\n",
      "\n",
      "C:\\Users\\Iuliia\\AppData\\Local\\Temp\\ipykernel_42760\\56710310.py:6: FutureWarning:\n",
      "\n",
      "suggest_loguniform has been deprecated in v3.0.0. This feature will be removed in v6.0.0. See https://github.com/optuna/optuna/releases/tag/v3.0.0. Use :func:`~optuna.trial.Trial.suggest_float` instead.\n",
      "\n",
      "C:\\Users\\Iuliia\\AppData\\Local\\Temp\\ipykernel_42760\\56710310.py:9: FutureWarning:\n",
      "\n",
      "suggest_loguniform has been deprecated in v3.0.0. This feature will be removed in v6.0.0. See https://github.com/optuna/optuna/releases/tag/v3.0.0. Use :func:`~optuna.trial.Trial.suggest_float` instead.\n",
      "\n",
      "C:\\Users\\Iuliia\\AppData\\Local\\Temp\\ipykernel_42760\\56710310.py:6: FutureWarning:\n",
      "\n",
      "suggest_loguniform has been deprecated in v3.0.0. This feature will be removed in v6.0.0. See https://github.com/optuna/optuna/releases/tag/v3.0.0. Use :func:`~optuna.trial.Trial.suggest_float` instead.\n",
      "\n",
      "C:\\Users\\Iuliia\\AppData\\Local\\Temp\\ipykernel_42760\\56710310.py:9: FutureWarning:\n",
      "\n",
      "suggest_loguniform has been deprecated in v3.0.0. This feature will be removed in v6.0.0. See https://github.com/optuna/optuna/releases/tag/v3.0.0. Use :func:`~optuna.trial.Trial.suggest_float` instead.\n",
      "\n",
      "C:\\Users\\Iuliia\\AppData\\Local\\Temp\\ipykernel_42760\\56710310.py:6: FutureWarning:\n",
      "\n",
      "suggest_loguniform has been deprecated in v3.0.0. This feature will be removed in v6.0.0. See https://github.com/optuna/optuna/releases/tag/v3.0.0. Use :func:`~optuna.trial.Trial.suggest_float` instead.\n",
      "\n",
      "C:\\Users\\Iuliia\\AppData\\Local\\Temp\\ipykernel_42760\\56710310.py:9: FutureWarning:\n",
      "\n",
      "suggest_loguniform has been deprecated in v3.0.0. This feature will be removed in v6.0.0. See https://github.com/optuna/optuna/releases/tag/v3.0.0. Use :func:`~optuna.trial.Trial.suggest_float` instead.\n",
      "\n"
     ]
    },
    {
     "name": "stdout",
     "output_type": "stream",
     "text": [
      "\u001b[32m[I 2023-06-01 16:47:47,642]\u001b[0m Trial 4 finished with value: 0.7821018062397374 and parameters: {'C': 3.1827559227114883, 'fit_intercept': True, 'max_iter': 500, 'tol': 0.0014683156635301258, 'loss': 'squared_hinge', 'average': True, 'class_weight': 'balanced'}. Best is trial 4 with value: 0.7821018062397374.\u001b[0m\n",
      "\u001b[32m[I 2023-06-01 16:47:47,710]\u001b[0m Trial 14 finished with value: 0.7479474548440066 and parameters: {'C': 25536.809511032567, 'fit_intercept': False, 'max_iter': 500, 'tol': 2.2497127165644846e-06, 'loss': 'hinge', 'average': False, 'class_weight': None}. Best is trial 4 with value: 0.7821018062397374.\u001b[0m\n",
      "\u001b[32m[I 2023-06-01 16:47:47,722]\u001b[0m Trial 15 finished with value: 0.7912972085385879 and parameters: {'C': 1529.7104321618472, 'fit_intercept': False, 'max_iter': 200, 'tol': 1.8810756684715308e-05, 'loss': 'hinge', 'average': True, 'class_weight': None}. Best is trial 15 with value: 0.7912972085385879.\u001b[0m\n",
      "\u001b[32m[I 2023-06-01 16:47:47,778]\u001b[0m Trial 8 finished with value: 0.7909688013136289 and parameters: {'C': 4.771554699517904, 'fit_intercept': False, 'max_iter': 500, 'tol': 3.4884056122897864e-06, 'loss': 'squared_hinge', 'average': True, 'class_weight': None}. Best is trial 15 with value: 0.7912972085385879.\u001b[0m\n"
     ]
    },
    {
     "name": "stderr",
     "output_type": "stream",
     "text": [
      "C:\\Users\\Iuliia\\AppData\\Local\\Temp\\ipykernel_42760\\56710310.py:6: FutureWarning:\n",
      "\n",
      "suggest_loguniform has been deprecated in v3.0.0. This feature will be removed in v6.0.0. See https://github.com/optuna/optuna/releases/tag/v3.0.0. Use :func:`~optuna.trial.Trial.suggest_float` instead.\n",
      "\n",
      "C:\\Users\\Iuliia\\AppData\\Local\\Temp\\ipykernel_42760\\56710310.py:9: FutureWarning:\n",
      "\n",
      "suggest_loguniform has been deprecated in v3.0.0. This feature will be removed in v6.0.0. See https://github.com/optuna/optuna/releases/tag/v3.0.0. Use :func:`~optuna.trial.Trial.suggest_float` instead.\n",
      "\n",
      "C:\\Users\\Iuliia\\AppData\\Local\\Temp\\ipykernel_42760\\56710310.py:6: FutureWarning:\n",
      "\n",
      "suggest_loguniform has been deprecated in v3.0.0. This feature will be removed in v6.0.0. See https://github.com/optuna/optuna/releases/tag/v3.0.0. Use :func:`~optuna.trial.Trial.suggest_float` instead.\n",
      "\n",
      "C:\\Users\\Iuliia\\AppData\\Local\\Temp\\ipykernel_42760\\56710310.py:9: FutureWarning:\n",
      "\n",
      "suggest_loguniform has been deprecated in v3.0.0. This feature will be removed in v6.0.0. See https://github.com/optuna/optuna/releases/tag/v3.0.0. Use :func:`~optuna.trial.Trial.suggest_float` instead.\n",
      "\n"
     ]
    },
    {
     "name": "stdout",
     "output_type": "stream",
     "text": [
      "\u001b[32m[I 2023-06-01 16:47:47,817]\u001b[0m Trial 13 finished with value: 0.7839080459770116 and parameters: {'C': 7379.979529499195, 'fit_intercept': False, 'max_iter': 300, 'tol': 9.465110876796207e-06, 'loss': 'hinge', 'average': True, 'class_weight': 'balanced'}. Best is trial 15 with value: 0.7912972085385879.\u001b[0m\n",
      "\u001b[32m[I 2023-06-01 16:47:48,259]\u001b[0m Trial 16 finished with value: 0.7187192118226601 and parameters: {'C': 418.5161614092421, 'fit_intercept': False, 'max_iter': 900, 'tol': 5.637968750397914e-05, 'loss': 'squared_hinge', 'average': False, 'class_weight': None}. Best is trial 15 with value: 0.7912972085385879.\u001b[0m\n"
     ]
    },
    {
     "name": "stderr",
     "output_type": "stream",
     "text": [
      "C:\\Users\\Iuliia\\AppData\\Local\\Temp\\ipykernel_42760\\56710310.py:6: FutureWarning:\n",
      "\n",
      "suggest_loguniform has been deprecated in v3.0.0. This feature will be removed in v6.0.0. See https://github.com/optuna/optuna/releases/tag/v3.0.0. Use :func:`~optuna.trial.Trial.suggest_float` instead.\n",
      "\n",
      "C:\\Users\\Iuliia\\AppData\\Local\\Temp\\ipykernel_42760\\56710310.py:9: FutureWarning:\n",
      "\n",
      "suggest_loguniform has been deprecated in v3.0.0. This feature will be removed in v6.0.0. See https://github.com/optuna/optuna/releases/tag/v3.0.0. Use :func:`~optuna.trial.Trial.suggest_float` instead.\n",
      "\n",
      "C:\\Users\\Iuliia\\AppData\\Local\\Temp\\ipykernel_42760\\56710310.py:6: FutureWarning:\n",
      "\n",
      "suggest_loguniform has been deprecated in v3.0.0. This feature will be removed in v6.0.0. See https://github.com/optuna/optuna/releases/tag/v3.0.0. Use :func:`~optuna.trial.Trial.suggest_float` instead.\n",
      "\n",
      "C:\\Users\\Iuliia\\AppData\\Local\\Temp\\ipykernel_42760\\56710310.py:6: FutureWarning:\n",
      "\n",
      "suggest_loguniform has been deprecated in v3.0.0. This feature will be removed in v6.0.0. See https://github.com/optuna/optuna/releases/tag/v3.0.0. Use :func:`~optuna.trial.Trial.suggest_float` instead.\n",
      "\n",
      "C:\\Users\\Iuliia\\AppData\\Local\\Temp\\ipykernel_42760\\56710310.py:9: FutureWarning:\n",
      "\n",
      "suggest_loguniform has been deprecated in v3.0.0. This feature will be removed in v6.0.0. See https://github.com/optuna/optuna/releases/tag/v3.0.0. Use :func:`~optuna.trial.Trial.suggest_float` instead.\n",
      "\n",
      "C:\\Users\\Iuliia\\AppData\\Local\\Temp\\ipykernel_42760\\56710310.py:9: FutureWarning:\n",
      "\n",
      "suggest_loguniform has been deprecated in v3.0.0. This feature will be removed in v6.0.0. See https://github.com/optuna/optuna/releases/tag/v3.0.0. Use :func:`~optuna.trial.Trial.suggest_float` instead.\n",
      "\n"
     ]
    },
    {
     "name": "stdout",
     "output_type": "stream",
     "text": [
      "\u001b[32m[I 2023-06-01 16:47:48,585]\u001b[0m Trial 18 finished with value: 0.7208538587848933 and parameters: {'C': 1.4705110726487187, 'fit_intercept': True, 'max_iter': 300, 'tol': 2.490490980233966e-05, 'loss': 'squared_hinge', 'average': False, 'class_weight': 'balanced'}. Best is trial 15 with value: 0.7912972085385879.\u001b[0m\n",
      "\u001b[32m[I 2023-06-01 16:47:48,644]\u001b[0m Trial 17 finished with value: 0.7037766830870279 and parameters: {'C': 3699.3566935702697, 'fit_intercept': True, 'max_iter': 300, 'tol': 4.9448680456823115e-05, 'loss': 'squared_hinge', 'average': False, 'class_weight': 'balanced'}. Best is trial 15 with value: 0.7912972085385879.\u001b[0m\n",
      "\u001b[32m[I 2023-06-01 16:47:48,703]\u001b[0m Trial 19 finished with value: 0.7142857142857142 and parameters: {'C': 1.7751316626289613, 'fit_intercept': True, 'max_iter': 100, 'tol': 0.0016358051521849196, 'loss': 'squared_hinge', 'average': False, 'class_weight': None}. Best is trial 15 with value: 0.7912972085385879.\u001b[0m\n"
     ]
    },
    {
     "name": "stderr",
     "output_type": "stream",
     "text": [
      "C:\\Users\\Iuliia\\AppData\\Local\\Temp\\ipykernel_42760\\56710310.py:6: FutureWarning:\n",
      "\n",
      "suggest_loguniform has been deprecated in v3.0.0. This feature will be removed in v6.0.0. See https://github.com/optuna/optuna/releases/tag/v3.0.0. Use :func:`~optuna.trial.Trial.suggest_float` instead.\n",
      "\n",
      "C:\\Users\\Iuliia\\AppData\\Local\\Temp\\ipykernel_42760\\56710310.py:9: FutureWarning:\n",
      "\n",
      "suggest_loguniform has been deprecated in v3.0.0. This feature will be removed in v6.0.0. See https://github.com/optuna/optuna/releases/tag/v3.0.0. Use :func:`~optuna.trial.Trial.suggest_float` instead.\n",
      "\n",
      "C:\\Users\\Iuliia\\AppData\\Local\\Temp\\ipykernel_42760\\56710310.py:6: FutureWarning:\n",
      "\n",
      "suggest_loguniform has been deprecated in v3.0.0. This feature will be removed in v6.0.0. See https://github.com/optuna/optuna/releases/tag/v3.0.0. Use :func:`~optuna.trial.Trial.suggest_float` instead.\n",
      "\n",
      "C:\\Users\\Iuliia\\AppData\\Local\\Temp\\ipykernel_42760\\56710310.py:9: FutureWarning:\n",
      "\n",
      "suggest_loguniform has been deprecated in v3.0.0. This feature will be removed in v6.0.0. See https://github.com/optuna/optuna/releases/tag/v3.0.0. Use :func:`~optuna.trial.Trial.suggest_float` instead.\n",
      "\n"
     ]
    },
    {
     "name": "stdout",
     "output_type": "stream",
     "text": [
      "\u001b[32m[I 2023-06-01 16:47:48,795]\u001b[0m Trial 11 finished with value: 0.7362889983579639 and parameters: {'C': 26124.438744175808, 'fit_intercept': True, 'max_iter': 800, 'tol': 4.259115533851265e-05, 'loss': 'squared_hinge', 'average': True, 'class_weight': 'balanced'}. Best is trial 15 with value: 0.7912972085385879.\u001b[0m\n",
      "\u001b[32m[I 2023-06-01 16:47:48,829]\u001b[0m Trial 3 finished with value: 0.7988505747126436 and parameters: {'C': 0.02348580469771648, 'fit_intercept': True, 'max_iter': 700, 'tol': 0.0012933120942604608, 'loss': 'hinge', 'average': False, 'class_weight': 'balanced'}. Best is trial 3 with value: 0.7988505747126436.\u001b[0m\n"
     ]
    },
    {
     "name": "stderr",
     "output_type": "stream",
     "text": [
      "C:\\Users\\Iuliia\\AppData\\Local\\Temp\\ipykernel_42760\\56710310.py:6: FutureWarning:\n",
      "\n",
      "suggest_loguniform has been deprecated in v3.0.0. This feature will be removed in v6.0.0. See https://github.com/optuna/optuna/releases/tag/v3.0.0. Use :func:`~optuna.trial.Trial.suggest_float` instead.\n",
      "\n",
      "C:\\Users\\Iuliia\\AppData\\Local\\Temp\\ipykernel_42760\\56710310.py:9: FutureWarning:\n",
      "\n",
      "suggest_loguniform has been deprecated in v3.0.0. This feature will be removed in v6.0.0. See https://github.com/optuna/optuna/releases/tag/v3.0.0. Use :func:`~optuna.trial.Trial.suggest_float` instead.\n",
      "\n",
      "C:\\Users\\Iuliia\\AppData\\Local\\Temp\\ipykernel_42760\\56710310.py:6: FutureWarning:\n",
      "\n",
      "suggest_loguniform has been deprecated in v3.0.0. This feature will be removed in v6.0.0. See https://github.com/optuna/optuna/releases/tag/v3.0.0. Use :func:`~optuna.trial.Trial.suggest_float` instead.\n",
      "\n",
      "C:\\Users\\Iuliia\\AppData\\Local\\Temp\\ipykernel_42760\\56710310.py:9: FutureWarning:\n",
      "\n",
      "suggest_loguniform has been deprecated in v3.0.0. This feature will be removed in v6.0.0. See https://github.com/optuna/optuna/releases/tag/v3.0.0. Use :func:`~optuna.trial.Trial.suggest_float` instead.\n",
      "\n"
     ]
    },
    {
     "name": "stdout",
     "output_type": "stream",
     "text": [
      "\u001b[32m[I 2023-06-01 16:47:49,148]\u001b[0m Trial 22 finished with value: 0.7441707717569787 and parameters: {'C': 1.0453744313208844, 'fit_intercept': True, 'max_iter': 300, 'tol': 0.00010786863892148804, 'loss': 'squared_hinge', 'average': False, 'class_weight': 'balanced'}. Best is trial 3 with value: 0.7988505747126436.\u001b[0m\n",
      "\u001b[32m[I 2023-06-01 16:47:49,259]\u001b[0m Trial 23 finished with value: 0.7686371100164204 and parameters: {'C': 2.137075176732445, 'fit_intercept': False, 'max_iter': 500, 'tol': 0.0001099365511286569, 'loss': 'squared_hinge', 'average': False, 'class_weight': 'balanced'}. Best is trial 3 with value: 0.7988505747126436.\u001b[0m\n"
     ]
    },
    {
     "name": "stderr",
     "output_type": "stream",
     "text": [
      "C:\\Users\\Iuliia\\AppData\\Local\\Temp\\ipykernel_42760\\56710310.py:6: FutureWarning:\n",
      "\n",
      "suggest_loguniform has been deprecated in v3.0.0. This feature will be removed in v6.0.0. See https://github.com/optuna/optuna/releases/tag/v3.0.0. Use :func:`~optuna.trial.Trial.suggest_float` instead.\n",
      "\n",
      "C:\\Users\\Iuliia\\AppData\\Local\\Temp\\ipykernel_42760\\56710310.py:9: FutureWarning:\n",
      "\n",
      "suggest_loguniform has been deprecated in v3.0.0. This feature will be removed in v6.0.0. See https://github.com/optuna/optuna/releases/tag/v3.0.0. Use :func:`~optuna.trial.Trial.suggest_float` instead.\n",
      "\n"
     ]
    },
    {
     "name": "stdout",
     "output_type": "stream",
     "text": [
      "\u001b[32m[I 2023-06-01 16:47:49,467]\u001b[0m Trial 24 finished with value: 0.7835796387520525 and parameters: {'C': 256.1958711738338, 'fit_intercept': False, 'max_iter': 400, 'tol': 0.00831753516456782, 'loss': 'squared_hinge', 'average': True, 'class_weight': 'balanced'}. Best is trial 3 with value: 0.7988505747126436.\u001b[0m\n"
     ]
    },
    {
     "name": "stderr",
     "output_type": "stream",
     "text": [
      "C:\\Users\\Iuliia\\AppData\\Local\\Temp\\ipykernel_42760\\56710310.py:6: FutureWarning:\n",
      "\n",
      "suggest_loguniform has been deprecated in v3.0.0. This feature will be removed in v6.0.0. See https://github.com/optuna/optuna/releases/tag/v3.0.0. Use :func:`~optuna.trial.Trial.suggest_float` instead.\n",
      "\n",
      "C:\\Users\\Iuliia\\AppData\\Local\\Temp\\ipykernel_42760\\56710310.py:9: FutureWarning:\n",
      "\n",
      "suggest_loguniform has been deprecated in v3.0.0. This feature will be removed in v6.0.0. See https://github.com/optuna/optuna/releases/tag/v3.0.0. Use :func:`~optuna.trial.Trial.suggest_float` instead.\n",
      "\n",
      "C:\\Users\\Iuliia\\AppData\\Local\\Temp\\ipykernel_42760\\56710310.py:6: FutureWarning:\n",
      "\n",
      "suggest_loguniform has been deprecated in v3.0.0. This feature will be removed in v6.0.0. See https://github.com/optuna/optuna/releases/tag/v3.0.0. Use :func:`~optuna.trial.Trial.suggest_float` instead.\n",
      "\n",
      "C:\\Users\\Iuliia\\AppData\\Local\\Temp\\ipykernel_42760\\56710310.py:9: FutureWarning:\n",
      "\n",
      "suggest_loguniform has been deprecated in v3.0.0. This feature will be removed in v6.0.0. See https://github.com/optuna/optuna/releases/tag/v3.0.0. Use :func:`~optuna.trial.Trial.suggest_float` instead.\n",
      "\n"
     ]
    },
    {
     "name": "stdout",
     "output_type": "stream",
     "text": [
      "\u001b[32m[I 2023-06-01 16:47:49,722]\u001b[0m Trial 21 finished with value: 0.7829228243021347 and parameters: {'C': 88.139031517773, 'fit_intercept': False, 'max_iter': 700, 'tol': 2.0609058637094185e-05, 'loss': 'hinge', 'average': True, 'class_weight': 'balanced'}. Best is trial 3 with value: 0.7988505747126436.\u001b[0m\n",
      "\u001b[32m[I 2023-06-01 16:47:49,798]\u001b[0m Trial 5 finished with value: 0.7908045977011493 and parameters: {'C': 0.016772551656799743, 'fit_intercept': True, 'max_iter': 100, 'tol': 0.00016751706229135852, 'loss': 'squared_hinge', 'average': True, 'class_weight': 'balanced'}. Best is trial 3 with value: 0.7988505747126436.\u001b[0m\n"
     ]
    },
    {
     "name": "stderr",
     "output_type": "stream",
     "text": [
      "C:\\Users\\Iuliia\\AppData\\Local\\Temp\\ipykernel_42760\\56710310.py:6: FutureWarning:\n",
      "\n",
      "suggest_loguniform has been deprecated in v3.0.0. This feature will be removed in v6.0.0. See https://github.com/optuna/optuna/releases/tag/v3.0.0. Use :func:`~optuna.trial.Trial.suggest_float` instead.\n",
      "\n",
      "C:\\Users\\Iuliia\\AppData\\Local\\Temp\\ipykernel_42760\\56710310.py:9: FutureWarning:\n",
      "\n",
      "suggest_loguniform has been deprecated in v3.0.0. This feature will be removed in v6.0.0. See https://github.com/optuna/optuna/releases/tag/v3.0.0. Use :func:`~optuna.trial.Trial.suggest_float` instead.\n",
      "\n",
      "C:\\Users\\Iuliia\\AppData\\Local\\Temp\\ipykernel_42760\\56710310.py:6: FutureWarning:\n",
      "\n",
      "suggest_loguniform has been deprecated in v3.0.0. This feature will be removed in v6.0.0. See https://github.com/optuna/optuna/releases/tag/v3.0.0. Use :func:`~optuna.trial.Trial.suggest_float` instead.\n",
      "\n",
      "C:\\Users\\Iuliia\\AppData\\Local\\Temp\\ipykernel_42760\\56710310.py:9: FutureWarning:\n",
      "\n",
      "suggest_loguniform has been deprecated in v3.0.0. This feature will be removed in v6.0.0. See https://github.com/optuna/optuna/releases/tag/v3.0.0. Use :func:`~optuna.trial.Trial.suggest_float` instead.\n",
      "\n"
     ]
    },
    {
     "name": "stdout",
     "output_type": "stream",
     "text": [
      "\u001b[32m[I 2023-06-01 16:47:50,061]\u001b[0m Trial 25 finished with value: 0.7906403940886699 and parameters: {'C': 41871.99068492848, 'fit_intercept': False, 'max_iter': 100, 'tol': 1.8082438791487434e-06, 'loss': 'hinge', 'average': True, 'class_weight': None}. Best is trial 3 with value: 0.7988505747126436.\u001b[0m\n",
      "\u001b[32m[I 2023-06-01 16:47:50,148]\u001b[0m Trial 26 finished with value: 0.7883415435139574 and parameters: {'C': 33.109959985870404, 'fit_intercept': False, 'max_iter': 700, 'tol': 1.2187463672695465e-06, 'loss': 'hinge', 'average': True, 'class_weight': None}. Best is trial 3 with value: 0.7988505747126436.\u001b[0m\n"
     ]
    },
    {
     "name": "stderr",
     "output_type": "stream",
     "text": [
      "C:\\Users\\Iuliia\\AppData\\Local\\Temp\\ipykernel_42760\\56710310.py:6: FutureWarning:\n",
      "\n",
      "suggest_loguniform has been deprecated in v3.0.0. This feature will be removed in v6.0.0. See https://github.com/optuna/optuna/releases/tag/v3.0.0. Use :func:`~optuna.trial.Trial.suggest_float` instead.\n",
      "\n",
      "c:\\Users\\Iuliia\\miniconda3\\lib\\site-packages\\sklearn\\linear_model\\_stochastic_gradient.py:702: ConvergenceWarning:\n",
      "\n",
      "Maximum number of iteration reached before convergence. Consider increasing max_iter to improve the fit.\n",
      "\n",
      "C:\\Users\\Iuliia\\AppData\\Local\\Temp\\ipykernel_42760\\56710310.py:9: FutureWarning:\n",
      "\n",
      "suggest_loguniform has been deprecated in v3.0.0. This feature will be removed in v6.0.0. See https://github.com/optuna/optuna/releases/tag/v3.0.0. Use :func:`~optuna.trial.Trial.suggest_float` instead.\n",
      "\n",
      "C:\\Users\\Iuliia\\AppData\\Local\\Temp\\ipykernel_42760\\56710310.py:6: FutureWarning:\n",
      "\n",
      "suggest_loguniform has been deprecated in v3.0.0. This feature will be removed in v6.0.0. See https://github.com/optuna/optuna/releases/tag/v3.0.0. Use :func:`~optuna.trial.Trial.suggest_float` instead.\n",
      "\n"
     ]
    },
    {
     "name": "stdout",
     "output_type": "stream",
     "text": [
      "\u001b[32m[I 2023-06-01 16:47:50,702]\u001b[0m Trial 30 finished with value: 0.7927750410509031 and parameters: {'C': 0.012420591488430242, 'fit_intercept': False, 'max_iter': 700, 'tol': 0.0070411834114662425, 'loss': 'hinge', 'average': True, 'class_weight': None}. Best is trial 3 with value: 0.7988505747126436.\u001b[0m\n",
      "\u001b[32m[I 2023-06-01 16:47:50,739]\u001b[0m Trial 31 finished with value: 0.7886699507389163 and parameters: {'C': 0.009697096046396365, 'fit_intercept': True, 'max_iter': 700, 'tol': 0.006968833634454973, 'loss': 'hinge', 'average': True, 'class_weight': None}. Best is trial 3 with value: 0.7988505747126436.\u001b[0m\n"
     ]
    },
    {
     "name": "stderr",
     "output_type": "stream",
     "text": [
      "C:\\Users\\Iuliia\\AppData\\Local\\Temp\\ipykernel_42760\\56710310.py:9: FutureWarning:\n",
      "\n",
      "suggest_loguniform has been deprecated in v3.0.0. This feature will be removed in v6.0.0. See https://github.com/optuna/optuna/releases/tag/v3.0.0. Use :func:`~optuna.trial.Trial.suggest_float` instead.\n",
      "\n",
      "C:\\Users\\Iuliia\\AppData\\Local\\Temp\\ipykernel_42760\\56710310.py:6: FutureWarning:\n",
      "\n",
      "suggest_loguniform has been deprecated in v3.0.0. This feature will be removed in v6.0.0. See https://github.com/optuna/optuna/releases/tag/v3.0.0. Use :func:`~optuna.trial.Trial.suggest_float` instead.\n",
      "\n",
      "C:\\Users\\Iuliia\\AppData\\Local\\Temp\\ipykernel_42760\\56710310.py:9: FutureWarning:\n",
      "\n",
      "suggest_loguniform has been deprecated in v3.0.0. This feature will be removed in v6.0.0. See https://github.com/optuna/optuna/releases/tag/v3.0.0. Use :func:`~optuna.trial.Trial.suggest_float` instead.\n",
      "\n",
      "c:\\Users\\Iuliia\\miniconda3\\lib\\site-packages\\sklearn\\linear_model\\_stochastic_gradient.py:702: ConvergenceWarning:\n",
      "\n",
      "Maximum number of iteration reached before convergence. Consider increasing max_iter to improve the fit.\n",
      "\n",
      "c:\\Users\\Iuliia\\miniconda3\\lib\\site-packages\\sklearn\\linear_model\\_stochastic_gradient.py:702: ConvergenceWarning:\n",
      "\n",
      "Maximum number of iteration reached before convergence. Consider increasing max_iter to improve the fit.\n",
      "\n"
     ]
    },
    {
     "name": "stdout",
     "output_type": "stream",
     "text": [
      "\u001b[32m[I 2023-06-01 16:47:51,852]\u001b[0m Trial 37 finished with value: 0.7863711001642036 and parameters: {'C': 0.009556962991018578, 'fit_intercept': False, 'max_iter': 600, 'tol': 0.009750382758822998, 'loss': 'hinge', 'average': True, 'class_weight': None}. Best is trial 3 with value: 0.7988505747126436.\u001b[0m\n"
     ]
    },
    {
     "name": "stderr",
     "output_type": "stream",
     "text": [
      "C:\\Users\\Iuliia\\AppData\\Local\\Temp\\ipykernel_42760\\56710310.py:6: FutureWarning:\n",
      "\n",
      "suggest_loguniform has been deprecated in v3.0.0. This feature will be removed in v6.0.0. See https://github.com/optuna/optuna/releases/tag/v3.0.0. Use :func:`~optuna.trial.Trial.suggest_float` instead.\n",
      "\n",
      "C:\\Users\\Iuliia\\AppData\\Local\\Temp\\ipykernel_42760\\56710310.py:9: FutureWarning:\n",
      "\n",
      "suggest_loguniform has been deprecated in v3.0.0. This feature will be removed in v6.0.0. See https://github.com/optuna/optuna/releases/tag/v3.0.0. Use :func:`~optuna.trial.Trial.suggest_float` instead.\n",
      "\n"
     ]
    },
    {
     "name": "stdout",
     "output_type": "stream",
     "text": [
      "\u001b[32m[I 2023-06-01 16:47:52,759]\u001b[0m Trial 27 finished with value: 0.8014778325123153 and parameters: {'C': 0.06552044786453472, 'fit_intercept': False, 'max_iter': 700, 'tol': 0.00019347127187769025, 'loss': 'hinge', 'average': True, 'class_weight': None}. Best is trial 27 with value: 0.8014778325123153.\u001b[0m\n"
     ]
    },
    {
     "name": "stderr",
     "output_type": "stream",
     "text": [
      "C:\\Users\\Iuliia\\AppData\\Local\\Temp\\ipykernel_42760\\56710310.py:6: FutureWarning:\n",
      "\n",
      "suggest_loguniform has been deprecated in v3.0.0. This feature will be removed in v6.0.0. See https://github.com/optuna/optuna/releases/tag/v3.0.0. Use :func:`~optuna.trial.Trial.suggest_float` instead.\n",
      "\n",
      "C:\\Users\\Iuliia\\AppData\\Local\\Temp\\ipykernel_42760\\56710310.py:9: FutureWarning:\n",
      "\n",
      "suggest_loguniform has been deprecated in v3.0.0. This feature will be removed in v6.0.0. See https://github.com/optuna/optuna/releases/tag/v3.0.0. Use :func:`~optuna.trial.Trial.suggest_float` instead.\n",
      "\n",
      "c:\\Users\\Iuliia\\miniconda3\\lib\\site-packages\\sklearn\\linear_model\\_stochastic_gradient.py:702: ConvergenceWarning:\n",
      "\n",
      "Maximum number of iteration reached before convergence. Consider increasing max_iter to improve the fit.\n",
      "\n",
      "C:\\Users\\Iuliia\\AppData\\Local\\Temp\\ipykernel_42760\\56710310.py:6: FutureWarning:\n",
      "\n",
      "suggest_loguniform has been deprecated in v3.0.0. This feature will be removed in v6.0.0. See https://github.com/optuna/optuna/releases/tag/v3.0.0. Use :func:`~optuna.trial.Trial.suggest_float` instead.\n",
      "\n",
      "C:\\Users\\Iuliia\\AppData\\Local\\Temp\\ipykernel_42760\\56710310.py:9: FutureWarning:\n",
      "\n",
      "suggest_loguniform has been deprecated in v3.0.0. This feature will be removed in v6.0.0. See https://github.com/optuna/optuna/releases/tag/v3.0.0. Use :func:`~optuna.trial.Trial.suggest_float` instead.\n",
      "\n"
     ]
    },
    {
     "name": "stdout",
     "output_type": "stream",
     "text": [
      "\u001b[32m[I 2023-06-01 16:47:53,454]\u001b[0m Trial 34 finished with value: 0.8011494252873563 and parameters: {'C': 0.06758905432877942, 'fit_intercept': True, 'max_iter': 700, 'tol': 0.0003556037843811279, 'loss': 'hinge', 'average': True, 'class_weight': None}. Best is trial 27 with value: 0.8014778325123153.\u001b[0m\n"
     ]
    },
    {
     "name": "stderr",
     "output_type": "stream",
     "text": [
      "C:\\Users\\Iuliia\\AppData\\Local\\Temp\\ipykernel_42760\\56710310.py:6: FutureWarning:\n",
      "\n",
      "suggest_loguniform has been deprecated in v3.0.0. This feature will be removed in v6.0.0. See https://github.com/optuna/optuna/releases/tag/v3.0.0. Use :func:`~optuna.trial.Trial.suggest_float` instead.\n",
      "\n",
      "C:\\Users\\Iuliia\\AppData\\Local\\Temp\\ipykernel_42760\\56710310.py:9: FutureWarning:\n",
      "\n",
      "suggest_loguniform has been deprecated in v3.0.0. This feature will be removed in v6.0.0. See https://github.com/optuna/optuna/releases/tag/v3.0.0. Use :func:`~optuna.trial.Trial.suggest_float` instead.\n",
      "\n"
     ]
    },
    {
     "name": "stdout",
     "output_type": "stream",
     "text": [
      "\u001b[32m[I 2023-06-01 16:47:53,701]\u001b[0m Trial 38 finished with value: 0.8009852216748768 and parameters: {'C': 0.05340438747137014, 'fit_intercept': False, 'max_iter': 600, 'tol': 0.0004307161654873582, 'loss': 'hinge', 'average': True, 'class_weight': None}. Best is trial 27 with value: 0.8014778325123153.\u001b[0m\n",
      "\u001b[32m[I 2023-06-01 16:47:53,814]\u001b[0m Trial 35 finished with value: 0.8011494252873563 and parameters: {'C': 0.05399843581665783, 'fit_intercept': True, 'max_iter': 700, 'tol': 0.0002321279848935763, 'loss': 'hinge', 'average': True, 'class_weight': None}. Best is trial 27 with value: 0.8014778325123153.\u001b[0m\n"
     ]
    },
    {
     "name": "stderr",
     "output_type": "stream",
     "text": [
      "C:\\Users\\Iuliia\\AppData\\Local\\Temp\\ipykernel_42760\\56710310.py:6: FutureWarning:\n",
      "\n",
      "suggest_loguniform has been deprecated in v3.0.0. This feature will be removed in v6.0.0. See https://github.com/optuna/optuna/releases/tag/v3.0.0. Use :func:`~optuna.trial.Trial.suggest_float` instead.\n",
      "\n",
      "C:\\Users\\Iuliia\\AppData\\Local\\Temp\\ipykernel_42760\\56710310.py:9: FutureWarning:\n",
      "\n",
      "suggest_loguniform has been deprecated in v3.0.0. This feature will be removed in v6.0.0. See https://github.com/optuna/optuna/releases/tag/v3.0.0. Use :func:`~optuna.trial.Trial.suggest_float` instead.\n",
      "\n",
      "C:\\Users\\Iuliia\\AppData\\Local\\Temp\\ipykernel_42760\\56710310.py:6: FutureWarning:\n",
      "\n",
      "suggest_loguniform has been deprecated in v3.0.0. This feature will be removed in v6.0.0. See https://github.com/optuna/optuna/releases/tag/v3.0.0. Use :func:`~optuna.trial.Trial.suggest_float` instead.\n",
      "\n",
      "C:\\Users\\Iuliia\\AppData\\Local\\Temp\\ipykernel_42760\\56710310.py:9: FutureWarning:\n",
      "\n",
      "suggest_loguniform has been deprecated in v3.0.0. This feature will be removed in v6.0.0. See https://github.com/optuna/optuna/releases/tag/v3.0.0. Use :func:`~optuna.trial.Trial.suggest_float` instead.\n",
      "\n"
     ]
    },
    {
     "name": "stdout",
     "output_type": "stream",
     "text": [
      "\u001b[32m[I 2023-06-01 16:47:53,968]\u001b[0m Trial 32 finished with value: 0.8018062397372742 and parameters: {'C': 0.026636003284800504, 'fit_intercept': True, 'max_iter': 700, 'tol': 0.0003839757227992393, 'loss': 'hinge', 'average': True, 'class_weight': None}. Best is trial 32 with value: 0.8018062397372742.\u001b[0m\n",
      "\u001b[32m[I 2023-06-01 16:47:54,440]\u001b[0m Trial 33 finished with value: 0.8022988505747126 and parameters: {'C': 0.025418180825830413, 'fit_intercept': True, 'max_iter': 700, 'tol': 0.0002994821711886301, 'loss': 'hinge', 'average': True, 'class_weight': None}. Best is trial 33 with value: 0.8022988505747126.\u001b[0m\n"
     ]
    },
    {
     "name": "stderr",
     "output_type": "stream",
     "text": [
      "C:\\Users\\Iuliia\\AppData\\Local\\Temp\\ipykernel_42760\\56710310.py:6: FutureWarning:\n",
      "\n",
      "suggest_loguniform has been deprecated in v3.0.0. This feature will be removed in v6.0.0. See https://github.com/optuna/optuna/releases/tag/v3.0.0. Use :func:`~optuna.trial.Trial.suggest_float` instead.\n",
      "\n",
      "c:\\Users\\Iuliia\\miniconda3\\lib\\site-packages\\sklearn\\linear_model\\_stochastic_gradient.py:702: ConvergenceWarning:\n",
      "\n",
      "Maximum number of iteration reached before convergence. Consider increasing max_iter to improve the fit.\n",
      "\n",
      "C:\\Users\\Iuliia\\AppData\\Local\\Temp\\ipykernel_42760\\56710310.py:9: FutureWarning:\n",
      "\n",
      "suggest_loguniform has been deprecated in v3.0.0. This feature will be removed in v6.0.0. See https://github.com/optuna/optuna/releases/tag/v3.0.0. Use :func:`~optuna.trial.Trial.suggest_float` instead.\n",
      "\n",
      "c:\\Users\\Iuliia\\miniconda3\\lib\\site-packages\\sklearn\\linear_model\\_stochastic_gradient.py:702: ConvergenceWarning:\n",
      "\n",
      "Maximum number of iteration reached before convergence. Consider increasing max_iter to improve the fit.\n",
      "\n"
     ]
    },
    {
     "name": "stdout",
     "output_type": "stream",
     "text": [
      "\u001b[32m[I 2023-06-01 16:47:54,783]\u001b[0m Trial 28 finished with value: 0.8022988505747126 and parameters: {'C': 0.014139272989556202, 'fit_intercept': False, 'max_iter': 700, 'tol': 0.0003435120340390387, 'loss': 'hinge', 'average': True, 'class_weight': None}. Best is trial 33 with value: 0.8022988505747126.\u001b[0m\n"
     ]
    },
    {
     "name": "stderr",
     "output_type": "stream",
     "text": [
      "C:\\Users\\Iuliia\\AppData\\Local\\Temp\\ipykernel_42760\\56710310.py:6: FutureWarning:\n",
      "\n",
      "suggest_loguniform has been deprecated in v3.0.0. This feature will be removed in v6.0.0. See https://github.com/optuna/optuna/releases/tag/v3.0.0. Use :func:`~optuna.trial.Trial.suggest_float` instead.\n",
      "\n",
      "C:\\Users\\Iuliia\\AppData\\Local\\Temp\\ipykernel_42760\\56710310.py:9: FutureWarning:\n",
      "\n",
      "suggest_loguniform has been deprecated in v3.0.0. This feature will be removed in v6.0.0. See https://github.com/optuna/optuna/releases/tag/v3.0.0. Use :func:`~optuna.trial.Trial.suggest_float` instead.\n",
      "\n"
     ]
    },
    {
     "name": "stdout",
     "output_type": "stream",
     "text": [
      "\u001b[32m[I 2023-06-01 16:47:55,074]\u001b[0m Trial 39 finished with value: 0.8018062397372743 and parameters: {'C': 0.06874017221830181, 'fit_intercept': False, 'max_iter': 800, 'tol': 0.0003016331320812072, 'loss': 'hinge', 'average': True, 'class_weight': None}. Best is trial 33 with value: 0.8022988505747126.\u001b[0m\n"
     ]
    },
    {
     "name": "stderr",
     "output_type": "stream",
     "text": [
      "C:\\Users\\Iuliia\\AppData\\Local\\Temp\\ipykernel_42760\\56710310.py:6: FutureWarning:\n",
      "\n",
      "suggest_loguniform has been deprecated in v3.0.0. This feature will be removed in v6.0.0. See https://github.com/optuna/optuna/releases/tag/v3.0.0. Use :func:`~optuna.trial.Trial.suggest_float` instead.\n",
      "\n",
      "C:\\Users\\Iuliia\\AppData\\Local\\Temp\\ipykernel_42760\\56710310.py:9: FutureWarning:\n",
      "\n",
      "suggest_loguniform has been deprecated in v3.0.0. This feature will be removed in v6.0.0. See https://github.com/optuna/optuna/releases/tag/v3.0.0. Use :func:`~optuna.trial.Trial.suggest_float` instead.\n",
      "\n",
      "C:\\Users\\Iuliia\\AppData\\Local\\Temp\\ipykernel_42760\\56710310.py:6: FutureWarning:\n",
      "\n",
      "suggest_loguniform has been deprecated in v3.0.0. This feature will be removed in v6.0.0. See https://github.com/optuna/optuna/releases/tag/v3.0.0. Use :func:`~optuna.trial.Trial.suggest_float` instead.\n",
      "\n",
      "C:\\Users\\Iuliia\\AppData\\Local\\Temp\\ipykernel_42760\\56710310.py:9: FutureWarning:\n",
      "\n",
      "suggest_loguniform has been deprecated in v3.0.0. This feature will be removed in v6.0.0. See https://github.com/optuna/optuna/releases/tag/v3.0.0. Use :func:`~optuna.trial.Trial.suggest_float` instead.\n",
      "\n"
     ]
    },
    {
     "name": "stdout",
     "output_type": "stream",
     "text": [
      "\u001b[32m[I 2023-06-01 16:47:55,590]\u001b[0m Trial 42 finished with value: 0.7968801313628899 and parameters: {'C': 0.2298537721841546, 'fit_intercept': False, 'max_iter': 900, 'tol': 0.0003003956564636591, 'loss': 'hinge', 'average': True, 'class_weight': None}. Best is trial 33 with value: 0.8022988505747126.\u001b[0m\n",
      "\u001b[32m[I 2023-06-01 16:47:55,761]\u001b[0m Trial 29 finished with value: 0.8014778325123153 and parameters: {'C': 0.01816437867552372, 'fit_intercept': True, 'max_iter': 700, 'tol': 0.0002493914901987693, 'loss': 'hinge', 'average': True, 'class_weight': None}. Best is trial 33 with value: 0.8022988505747126.\u001b[0m\n"
     ]
    },
    {
     "name": "stderr",
     "output_type": "stream",
     "text": [
      "C:\\Users\\Iuliia\\AppData\\Local\\Temp\\ipykernel_42760\\56710310.py:6: FutureWarning:\n",
      "\n",
      "suggest_loguniform has been deprecated in v3.0.0. This feature will be removed in v6.0.0. See https://github.com/optuna/optuna/releases/tag/v3.0.0. Use :func:`~optuna.trial.Trial.suggest_float` instead.\n",
      "\n",
      "C:\\Users\\Iuliia\\AppData\\Local\\Temp\\ipykernel_42760\\56710310.py:9: FutureWarning:\n",
      "\n",
      "suggest_loguniform has been deprecated in v3.0.0. This feature will be removed in v6.0.0. See https://github.com/optuna/optuna/releases/tag/v3.0.0. Use :func:`~optuna.trial.Trial.suggest_float` instead.\n",
      "\n"
     ]
    },
    {
     "name": "stdout",
     "output_type": "stream",
     "text": [
      "\u001b[32m[I 2023-06-01 16:47:55,853]\u001b[0m Trial 40 finished with value: 0.8009852216748768 and parameters: {'C': 0.07820921363164281, 'fit_intercept': False, 'max_iter': 800, 'tol': 0.0004643571361383551, 'loss': 'hinge', 'average': True, 'class_weight': None}. Best is trial 33 with value: 0.8022988505747126.\u001b[0m\n",
      "\u001b[32m[I 2023-06-01 16:47:55,919]\u001b[0m Trial 36 finished with value: 0.8001642036124796 and parameters: {'C': 0.043221927163750035, 'fit_intercept': False, 'max_iter': 600, 'tol': 6.010767112098886e-06, 'loss': 'hinge', 'average': True, 'class_weight': None}. Best is trial 33 with value: 0.8022988505747126.\u001b[0m\n"
     ]
    },
    {
     "name": "stderr",
     "output_type": "stream",
     "text": [
      "c:\\Users\\Iuliia\\miniconda3\\lib\\site-packages\\sklearn\\linear_model\\_stochastic_gradient.py:702: ConvergenceWarning:\n",
      "\n",
      "Maximum number of iteration reached before convergence. Consider increasing max_iter to improve the fit.\n",
      "\n"
     ]
    },
    {
     "name": "stdout",
     "output_type": "stream",
     "text": [
      "\u001b[32m[I 2023-06-01 16:47:56,235]\u001b[0m Trial 43 finished with value: 0.7990147783251232 and parameters: {'C': 0.12792842429782975, 'fit_intercept': True, 'max_iter': 900, 'tol': 0.0002629266903297474, 'loss': 'hinge', 'average': True, 'class_weight': None}. Best is trial 33 with value: 0.8022988505747126.\u001b[0m\n",
      "\u001b[32m[I 2023-06-01 16:47:56,837]\u001b[0m Trial 41 finished with value: 0.7978653530377668 and parameters: {'C': 0.10842354292708122, 'fit_intercept': True, 'max_iter': 900, 'tol': 0.00036861622433002753, 'loss': 'hinge', 'average': True, 'class_weight': None}. Best is trial 33 with value: 0.8022988505747126.\u001b[0m\n"
     ]
    },
    {
     "name": "stderr",
     "output_type": "stream",
     "text": [
      "c:\\Users\\Iuliia\\miniconda3\\lib\\site-packages\\sklearn\\linear_model\\_stochastic_gradient.py:702: ConvergenceWarning:\n",
      "\n",
      "Maximum number of iteration reached before convergence. Consider increasing max_iter to improve the fit.\n",
      "\n",
      "c:\\Users\\Iuliia\\miniconda3\\lib\\site-packages\\sklearn\\linear_model\\_stochastic_gradient.py:702: ConvergenceWarning:\n",
      "\n",
      "Maximum number of iteration reached before convergence. Consider increasing max_iter to improve the fit.\n",
      "\n",
      "c:\\Users\\Iuliia\\miniconda3\\lib\\site-packages\\sklearn\\linear_model\\_stochastic_gradient.py:702: ConvergenceWarning:\n",
      "\n",
      "Maximum number of iteration reached before convergence. Consider increasing max_iter to improve the fit.\n",
      "\n"
     ]
    },
    {
     "name": "stdout",
     "output_type": "stream",
     "text": [
      "\u001b[32m[I 2023-06-01 16:48:00,109]\u001b[0m Trial 47 finished with value: 0.783415435139573 and parameters: {'C': 0.0011875038986262037, 'fit_intercept': True, 'max_iter': 900, 'tol': 0.0007279872787197106, 'loss': 'hinge', 'average': True, 'class_weight': None}. Best is trial 33 with value: 0.8022988505747126.\u001b[0m\n"
     ]
    },
    {
     "name": "stderr",
     "output_type": "stream",
     "text": [
      "c:\\Users\\Iuliia\\miniconda3\\lib\\site-packages\\sklearn\\linear_model\\_stochastic_gradient.py:702: ConvergenceWarning:\n",
      "\n",
      "Maximum number of iteration reached before convergence. Consider increasing max_iter to improve the fit.\n",
      "\n",
      "c:\\Users\\Iuliia\\miniconda3\\lib\\site-packages\\sklearn\\linear_model\\_stochastic_gradient.py:702: ConvergenceWarning:\n",
      "\n",
      "Maximum number of iteration reached before convergence. Consider increasing max_iter to improve the fit.\n",
      "\n"
     ]
    },
    {
     "name": "stdout",
     "output_type": "stream",
     "text": [
      "\u001b[32m[I 2023-06-01 16:48:00,501]\u001b[0m Trial 45 finished with value: 0.787192118226601 and parameters: {'C': 0.001341018758403494, 'fit_intercept': True, 'max_iter': 900, 'tol': 0.0005530956408325946, 'loss': 'hinge', 'average': True, 'class_weight': None}. Best is trial 33 with value: 0.8022988505747126.\u001b[0m\n"
     ]
    },
    {
     "name": "stderr",
     "output_type": "stream",
     "text": [
      "c:\\Users\\Iuliia\\miniconda3\\lib\\site-packages\\sklearn\\linear_model\\_stochastic_gradient.py:702: ConvergenceWarning:\n",
      "\n",
      "Maximum number of iteration reached before convergence. Consider increasing max_iter to improve the fit.\n",
      "\n"
     ]
    },
    {
     "name": "stdout",
     "output_type": "stream",
     "text": [
      "\u001b[32m[I 2023-06-01 16:48:00,998]\u001b[0m Trial 49 finished with value: 0.7919540229885057 and parameters: {'C': 0.0020469393718562058, 'fit_intercept': True, 'max_iter': 800, 'tol': 0.0006057029469317141, 'loss': 'hinge', 'average': True, 'class_weight': None}. Best is trial 33 with value: 0.8022988505747126.\u001b[0m\n",
      "\u001b[32m[I 2023-06-01 16:48:01,261]\u001b[0m Trial 48 finished with value: 0.7866995073891626 and parameters: {'C': 0.0014125500164528944, 'fit_intercept': True, 'max_iter': 800, 'tol': 0.0006018225992654286, 'loss': 'hinge', 'average': True, 'class_weight': None}. Best is trial 33 with value: 0.8022988505747126.\u001b[0m\n"
     ]
    },
    {
     "name": "stderr",
     "output_type": "stream",
     "text": [
      "c:\\Users\\Iuliia\\miniconda3\\lib\\site-packages\\sklearn\\linear_model\\_stochastic_gradient.py:702: ConvergenceWarning:\n",
      "\n",
      "Maximum number of iteration reached before convergence. Consider increasing max_iter to improve the fit.\n",
      "\n"
     ]
    },
    {
     "name": "stdout",
     "output_type": "stream",
     "text": [
      "\u001b[32m[I 2023-06-01 16:48:02,273]\u001b[0m Trial 44 finished with value: 0.7908045977011494 and parameters: {'C': 0.0012350562236270702, 'fit_intercept': True, 'max_iter': 800, 'tol': 0.0003522934183418193, 'loss': 'hinge', 'average': True, 'class_weight': None}. Best is trial 33 with value: 0.8022988505747126.\u001b[0m\n",
      "\u001b[32m[I 2023-06-01 16:48:02,573]\u001b[0m Trial 46 finished with value: 0.7935960591133006 and parameters: {'C': 0.0013429825627671009, 'fit_intercept': True, 'max_iter': 800, 'tol': 0.000333877417792181, 'loss': 'hinge', 'average': True, 'class_weight': None}. Best is trial 33 with value: 0.8022988505747126.\u001b[0m\n"
     ]
    },
    {
     "name": "stderr",
     "output_type": "stream",
     "text": [
      "c:\\Users\\Iuliia\\miniconda3\\lib\\site-packages\\sklearn\\linear_model\\_stochastic_gradient.py:702: ConvergenceWarning:\n",
      "\n",
      "Maximum number of iteration reached before convergence. Consider increasing max_iter to improve the fit.\n",
      "\n"
     ]
    },
    {
     "name": "stdout",
     "output_type": "stream",
     "text": [
      "\u001b[32m[I 2023-06-01 16:48:03,002]\u001b[0m Trial 20 finished with value: 0.7201970443349753 and parameters: {'C': 1.4198817187869365e-05, 'fit_intercept': True, 'max_iter': 200, 'tol': 1.2226496852859446e-06, 'loss': 'hinge', 'average': True, 'class_weight': 'balanced'}. Best is trial 33 with value: 0.8022988505747126.\u001b[0m\n"
     ]
    },
    {
     "name": "stderr",
     "output_type": "stream",
     "text": [
      "c:\\Users\\Iuliia\\miniconda3\\lib\\site-packages\\sklearn\\linear_model\\_stochastic_gradient.py:702: ConvergenceWarning:\n",
      "\n",
      "Maximum number of iteration reached before convergence. Consider increasing max_iter to improve the fit.\n",
      "\n",
      "c:\\Users\\Iuliia\\miniconda3\\lib\\site-packages\\sklearn\\linear_model\\_stochastic_gradient.py:702: ConvergenceWarning:\n",
      "\n",
      "Maximum number of iteration reached before convergence. Consider increasing max_iter to improve the fit.\n",
      "\n",
      "c:\\Users\\Iuliia\\miniconda3\\lib\\site-packages\\sklearn\\linear_model\\_stochastic_gradient.py:702: ConvergenceWarning:\n",
      "\n",
      "Maximum number of iteration reached before convergence. Consider increasing max_iter to improve the fit.\n",
      "\n"
     ]
    },
    {
     "name": "stdout",
     "output_type": "stream",
     "text": [
      "\u001b[32m[I 2023-06-01 16:48:04,287]\u001b[0m Trial 1 finished with value: 0.7711001642036125 and parameters: {'C': 1.8055795045363836e-05, 'fit_intercept': True, 'max_iter': 300, 'tol': 0.00018631596481012317, 'loss': 'squared_hinge', 'average': False, 'class_weight': None}. Best is trial 33 with value: 0.8022988505747126.\u001b[0m\n",
      "\u001b[32m[I 2023-06-01 16:48:04,844]\u001b[0m Trial 10 finished with value: 0.7727422003284072 and parameters: {'C': 6.339550892646557e-05, 'fit_intercept': False, 'max_iter': 400, 'tol': 0.00032084772793337056, 'loss': 'squared_hinge', 'average': True, 'class_weight': 'balanced'}. Best is trial 33 with value: 0.8022988505747126.\u001b[0m\n"
     ]
    },
    {
     "name": "stderr",
     "output_type": "stream",
     "text": [
      "c:\\Users\\Iuliia\\miniconda3\\lib\\site-packages\\sklearn\\linear_model\\_stochastic_gradient.py:702: ConvergenceWarning:\n",
      "\n",
      "Maximum number of iteration reached before convergence. Consider increasing max_iter to improve the fit.\n",
      "\n"
     ]
    },
    {
     "name": "stdout",
     "output_type": "stream",
     "text": [
      "\u001b[32m[I 2023-06-01 16:48:05,764]\u001b[0m Trial 6 finished with value: 0.774384236453202 and parameters: {'C': 0.00016577003322350043, 'fit_intercept': True, 'max_iter': 300, 'tol': 8.161203294929444e-06, 'loss': 'hinge', 'average': True, 'class_weight': None}. Best is trial 33 with value: 0.8022988505747126.\u001b[0m\n"
     ]
    },
    {
     "name": "stderr",
     "output_type": "stream",
     "text": [
      "c:\\Users\\Iuliia\\miniconda3\\lib\\site-packages\\sklearn\\linear_model\\_stochastic_gradient.py:702: ConvergenceWarning:\n",
      "\n",
      "Maximum number of iteration reached before convergence. Consider increasing max_iter to improve the fit.\n",
      "\n",
      "c:\\Users\\Iuliia\\miniconda3\\lib\\site-packages\\sklearn\\linear_model\\_stochastic_gradient.py:702: ConvergenceWarning:\n",
      "\n",
      "Maximum number of iteration reached before convergence. Consider increasing max_iter to improve the fit.\n",
      "\n",
      "c:\\Users\\Iuliia\\miniconda3\\lib\\site-packages\\sklearn\\linear_model\\_stochastic_gradient.py:702: ConvergenceWarning:\n",
      "\n",
      "Maximum number of iteration reached before convergence. Consider increasing max_iter to improve the fit.\n",
      "\n"
     ]
    },
    {
     "name": "stdout",
     "output_type": "stream",
     "text": [
      "\u001b[32m[I 2023-06-01 16:48:09,339]\u001b[0m Trial 12 finished with value: 0.7216748768472906 and parameters: {'C': 1.1180468102311163e-05, 'fit_intercept': False, 'max_iter': 400, 'tol': 3.0841976527276254e-06, 'loss': 'hinge', 'average': True, 'class_weight': 'balanced'}. Best is trial 33 with value: 0.8022988505747126.\u001b[0m\n"
     ]
    },
    {
     "name": "stderr",
     "output_type": "stream",
     "text": [
      "c:\\Users\\Iuliia\\miniconda3\\lib\\site-packages\\sklearn\\linear_model\\_stochastic_gradient.py:702: ConvergenceWarning:\n",
      "\n",
      "Maximum number of iteration reached before convergence. Consider increasing max_iter to improve the fit.\n",
      "\n",
      "c:\\Users\\Iuliia\\miniconda3\\lib\\site-packages\\sklearn\\linear_model\\_stochastic_gradient.py:702: ConvergenceWarning:\n",
      "\n",
      "Maximum number of iteration reached before convergence. Consider increasing max_iter to improve the fit.\n",
      "\n",
      "c:\\Users\\Iuliia\\miniconda3\\lib\\site-packages\\sklearn\\linear_model\\_stochastic_gradient.py:702: ConvergenceWarning:\n",
      "\n",
      "Maximum number of iteration reached before convergence. Consider increasing max_iter to improve the fit.\n",
      "\n"
     ]
    },
    {
     "name": "stdout",
     "output_type": "stream",
     "text": [
      "\u001b[32m[I 2023-06-01 16:48:20,734]\u001b[0m Trial 7 finished with value: 0.7422003284072248 and parameters: {'C': 4.052725500521245e-05, 'fit_intercept': True, 'max_iter': 900, 'tol': 3.408515148195492e-05, 'loss': 'hinge', 'average': True, 'class_weight': 'balanced'}. Best is trial 33 with value: 0.8022988505747126.\u001b[0m\n",
      "Best Params PA_W2V: {'C': 0.025418180825830413, 'fit_intercept': True, 'max_iter': 700, 'tol': 0.0002994821711886301, 'loss': 'hinge', 'average': True, 'class_weight': None}\n",
      "\n",
      "Best Accuracy PA_W2V: 0.8022988505747126\n"
     ]
    }
   ],
   "source": [
    "#w2v\n",
    "kfold = KFold(n_splits=num_folds, random_state=seed, shuffle=True)\n",
    "\n",
    "#Define the hyperparameters to be optimized\n",
    "def objective(trial):\n",
    "    C = trial.suggest_loguniform('C', 1e-5, 1e5)\n",
    "    fit_intercept = trial.suggest_categorical('fit_intercept', [True, False])\n",
    "    max_iter = trial.suggest_int('max_iter', 100, 1000, step=100)\n",
    "    tol = trial.suggest_loguniform('tol', 1e-6, 1e-2)\n",
    "    loss = trial.suggest_categorical('loss', ['hinge', 'squared_hinge'])\n",
    "    average = trial.suggest_categorical('average', [True, False])\n",
    "    class_weight = trial.suggest_categorical('class_weight', [None, 'balanced'])\n",
    "\n",
    "    #Define the logistic regression model with the hyperparameters\n",
    "    pa_w2v = PassiveAggressiveClassifier(C=C, fit_intercept=fit_intercept, max_iter=max_iter, tol=tol, loss=loss, average=average, \n",
    "                                             class_weight=class_weight)\n",
    "\n",
    "\n",
    "    # Perform kFold cross-validation and return the mean validation score\n",
    "    scores = cross_val_score(pa_w2v, X_train_w2v, y_train, cv=kfold, scoring=scoring).mean()\n",
    "    return scores\n",
    "\n",
    "%time\n",
    "#Run the optimization\n",
    "study_pa = optuna.create_study(direction=\"maximize\", study_name=\"PA_W2V\")\n",
    "study_pa.optimize(objective, n_trials=50, n_jobs=-1,show_progress_bar=True)\n",
    "\n",
    "#Print best parametrs\n",
    "print(\"Best Params PA_W2V: {}\".format(study_pa.best_params))\n",
    "print(\"\\nBest Accuracy PA_W2V: {}\".format(study_pa.best_value))\n",
    "\n",
    "\n",
    "#Train the PAC model with the optimized hyperparameters\n",
    "best_params_pa = study_pa.best_params\n",
    "pa_w2v = PassiveAggressiveClassifier(**best_params_pa, n_jobs=-1)\n",
    "\n",
    "pa_w2v.fit(X_train_w2v, y_train)\n",
    "\n",
    "\n",
    "#Evaluate the performance of the model on the testing set\n",
    "\n",
    "predictions_pa = pa_w2v.predict(X_test_w2v)\n"
   ]
  },
  {
   "cell_type": "code",
   "execution_count": 51,
   "metadata": {},
   "outputs": [
    {
     "data": {
      "image/png": "[encoded data removed]",
      "text/plain": [
       "<Figure size 640x480 with 2 Axes>"
      ]
     },
     "metadata": {},
     "output_type": "display_data"
    },
    {
     "name": "stdout",
     "output_type": "stream",
     "text": [
      "              precision    recall  f1-score   support\n",
      "\n",
      "           0      0.794     0.872     0.831       851\n",
      "           1      0.815     0.714     0.761       672\n",
      "\n",
      "    accuracy                          0.802      1523\n",
      "   macro avg      0.805     0.793     0.796      1523\n",
      "weighted avg      0.803     0.802     0.800      1523\n",
      "\n"
     ]
    }
   ],
   "source": [
    "#Confusion matrix PA_W2V\n",
    "cm=confusion_matrix(y_test, predictions_pa)\n",
    "disp = ConfusionMatrixDisplay(confusion_matrix=cm, display_labels=None)\n",
    "disp.plot()\n",
    "plt.show()\n",
    "print(classification_report(y_test, predictions_pa, digits=3))"
   ]
  },
  {
   "attachments": {},
   "cell_type": "markdown",
   "metadata": {},
   "source": [
    "**XGBoost (Word2Vec)**"
   ]
  },
  {
   "cell_type": "code",
   "execution_count": 107,
   "metadata": {},
   "outputs": [
    {
     "name": "stderr",
     "output_type": "stream",
     "text": [
      "\u001b[32m[I 2023-06-01 18:09:30,723]\u001b[0m A new study created in memory with name: XGB_W2V\u001b[0m\n"
     ]
    },
    {
     "name": "stdout",
     "output_type": "stream",
     "text": [
      "CPU times: total: 0 ns\n",
      "Wall time: 0 ns\n"
     ]
    },
    {
     "name": "stderr",
     "output_type": "stream",
     "text": [
      "c:\\Users\\Iuliia\\miniconda3\\lib\\site-packages\\optuna\\progress_bar.py:56: ExperimentalWarning:\n",
      "\n",
      "Progress bar is experimental (supported from v1.2.0). The interface can change in the future.\n",
      "\n"
     ]
    },
    {
     "data": {
      "application/vnd.jupyter.widget-view+json": {
       "model_id": "5d651d9d3fec4c3584e4fcbc9f6fd861",
       "version_major": 2,
       "version_minor": 0
      },
      "text/plain": [
       "  0%|          | 0/20 [00:00<?, ?it/s]"
      ]
     },
     "metadata": {},
     "output_type": "display_data"
    },
    {
     "name": "stderr",
     "output_type": "stream",
     "text": [
      "C:\\Users\\Iuliia\\AppData\\Local\\Temp\\ipykernel_42760\\1180336832.py:10: FutureWarning:\n",
      "\n",
      "suggest_loguniform has been deprecated in v3.0.0. This feature will be removed in v6.0.0. See https://github.com/optuna/optuna/releases/tag/v3.0.0. Use :func:`~optuna.trial.Trial.suggest_float` instead.\n",
      "\n"
     ]
    },
    {
     "name": "stdout",
     "output_type": "stream",
     "text": [
      "\u001b[32m[I 2023-06-01 18:10:06,471]\u001b[0m Trial 3 finished with value: 0.7733990147783251 and parameters: {'n_estimators': 72, 'gamma': 7.693284774873104, 'max_depth': 4, 'min_child_weight': 10, 'subsample': 0.9168808363283035, 'reg_lambda': 0.028985655420065086, 'reg_alpha': 0.0024431786258098808, 'colsample_bytree': 0.6447883097470749, 'learning_rate': 0.711549115823591}. Best is trial 3 with value: 0.7733990147783251.\u001b[0m\n"
     ]
    },
    {
     "name": "stderr",
     "output_type": "stream",
     "text": [
      "C:\\Users\\Iuliia\\AppData\\Local\\Temp\\ipykernel_42760\\1180336832.py:10: FutureWarning:\n",
      "\n",
      "suggest_loguniform has been deprecated in v3.0.0. This feature will be removed in v6.0.0. See https://github.com/optuna/optuna/releases/tag/v3.0.0. Use :func:`~optuna.trial.Trial.suggest_float` instead.\n",
      "\n"
     ]
    },
    {
     "name": "stdout",
     "output_type": "stream",
     "text": [
      "\u001b[32m[I 2023-06-01 18:10:08,138]\u001b[0m Trial 13 finished with value: 0.7625615763546798 and parameters: {'n_estimators': 67, 'gamma': 5.983317315338759, 'max_depth': 6, 'min_child_weight': 1, 'subsample': 0.8286823188286772, 'reg_lambda': 0.17175090371983065, 'reg_alpha': 0.3844712210700271, 'colsample_bytree': 0.6455014689264368, 'learning_rate': 0.5731035772262566}. Best is trial 3 with value: 0.7733990147783251.\u001b[0m\n"
     ]
    },
    {
     "name": "stderr",
     "output_type": "stream",
     "text": [
      "C:\\Users\\Iuliia\\AppData\\Local\\Temp\\ipykernel_42760\\1180336832.py:10: FutureWarning:\n",
      "\n",
      "suggest_loguniform has been deprecated in v3.0.0. This feature will be removed in v6.0.0. See https://github.com/optuna/optuna/releases/tag/v3.0.0. Use :func:`~optuna.trial.Trial.suggest_float` instead.\n",
      "\n"
     ]
    },
    {
     "name": "stdout",
     "output_type": "stream",
     "text": [
      "\u001b[32m[I 2023-06-01 18:10:15,285]\u001b[0m Trial 9 finished with value: 0.7860426929392447 and parameters: {'n_estimators': 120, 'gamma': 0.6056300521471185, 'max_depth': 1, 'min_child_weight': 8, 'subsample': 0.5166330207963881, 'reg_lambda': 0.02939297380962562, 'reg_alpha': 0.02609784157819278, 'colsample_bytree': 0.9534859295358513, 'learning_rate': 0.26926748386907595}. Best is trial 9 with value: 0.7860426929392447.\u001b[0m\n"
     ]
    },
    {
     "name": "stderr",
     "output_type": "stream",
     "text": [
      "C:\\Users\\Iuliia\\AppData\\Local\\Temp\\ipykernel_42760\\1180336832.py:10: FutureWarning:\n",
      "\n",
      "suggest_loguniform has been deprecated in v3.0.0. This feature will be removed in v6.0.0. See https://github.com/optuna/optuna/releases/tag/v3.0.0. Use :func:`~optuna.trial.Trial.suggest_float` instead.\n",
      "\n"
     ]
    },
    {
     "name": "stdout",
     "output_type": "stream",
     "text": [
      "\u001b[32m[I 2023-06-01 18:10:28,470]\u001b[0m Trial 4 finished with value: 0.7817733990147783 and parameters: {'n_estimators': 107, 'gamma': 1.4258906214369849, 'max_depth': 5, 'min_child_weight': 7, 'subsample': 0.9925520041811358, 'reg_lambda': 0.2562610992446809, 'reg_alpha': 0.30153642497520644, 'colsample_bytree': 0.6100079703005367, 'learning_rate': 0.6603971070862684}. Best is trial 9 with value: 0.7860426929392447.\u001b[0m\n"
     ]
    },
    {
     "name": "stderr",
     "output_type": "stream",
     "text": [
      "C:\\Users\\Iuliia\\AppData\\Local\\Temp\\ipykernel_42760\\1180336832.py:10: FutureWarning:\n",
      "\n",
      "suggest_loguniform has been deprecated in v3.0.0. This feature will be removed in v6.0.0. See https://github.com/optuna/optuna/releases/tag/v3.0.0. Use :func:`~optuna.trial.Trial.suggest_float` instead.\n",
      "\n"
     ]
    },
    {
     "name": "stdout",
     "output_type": "stream",
     "text": [
      "\u001b[32m[I 2023-06-01 18:10:30,972]\u001b[0m Trial 7 finished with value: 0.7729064039408866 and parameters: {'n_estimators': 110, 'gamma': 2.8494855478504504, 'max_depth': 3, 'min_child_weight': 6, 'subsample': 0.5090173857278188, 'reg_lambda': 0.0024416276377360294, 'reg_alpha': 0.12943530967168013, 'colsample_bytree': 0.8132023949146235, 'learning_rate': 0.4026958852395674}. Best is trial 9 with value: 0.7860426929392447.\u001b[0m\n",
      "\u001b[32m[I 2023-06-01 18:10:42,255]\u001b[0m Trial 2 finished with value: 0.7954022988505749 and parameters: {'n_estimators': 128, 'gamma': 5.217294623585134, 'max_depth': 5, 'min_child_weight': 8, 'subsample': 0.9959963158047622, 'reg_lambda': 0.8287369473077255, 'reg_alpha': 0.035082098642247754, 'colsample_bytree': 0.8745324800697352, 'learning_rate': 0.1454448287804246}. Best is trial 2 with value: 0.7954022988505749.\u001b[0m\n",
      "\u001b[32m[I 2023-06-01 18:11:00,848]\u001b[0m Trial 16 finished with value: 0.7617405582922825 and parameters: {'n_estimators': 137, 'gamma': 7.617828699171484, 'max_depth': 7, 'min_child_weight': 4, 'subsample': 0.9358872335177445, 'reg_lambda': 0.0021114714889750876, 'reg_alpha': 0.007709776368981253, 'colsample_bytree': 0.72318866077582, 'learning_rate': 0.8123473958008716}. Best is trial 2 with value: 0.7954022988505749.\u001b[0m\n",
      "\u001b[32m[I 2023-06-01 18:11:07,529]\u001b[0m Trial 0 finished with value: 0.760919540229885 and parameters: {'n_estimators': 280, 'gamma': 0.29576893272930865, 'max_depth': 1, 'min_child_weight': 5, 'subsample': 0.7153376462136409, 'reg_lambda': 0.0015281035894029772, 'reg_alpha': 0.0035098484615447034, 'colsample_bytree': 0.5622359430587924, 'learning_rate': 0.924955034347837}. Best is trial 2 with value: 0.7954022988505749.\u001b[0m\n",
      "\u001b[32m[I 2023-06-01 18:11:12,845]\u001b[0m Trial 15 finished with value: 0.7610837438423645 and parameters: {'n_estimators': 238, 'gamma': 2.5164321924895545, 'max_depth': 9, 'min_child_weight': 10, 'subsample': 0.9012086572631474, 'reg_lambda': 0.008499807526361328, 'reg_alpha': 0.5562326851829477, 'colsample_bytree': 0.9078773257559608, 'learning_rate': 0.9869995775515129}. Best is trial 2 with value: 0.7954022988505749.\u001b[0m\n",
      "\u001b[32m[I 2023-06-01 18:11:20,149]\u001b[0m Trial 18 finished with value: 0.7711001642036125 and parameters: {'n_estimators': 201, 'gamma': 0.06596254334820274, 'max_depth': 1, 'min_child_weight': 9, 'subsample': 0.9379812288546805, 'reg_lambda': 0.01439951543712898, 'reg_alpha': 0.012909563863906775, 'colsample_bytree': 0.5208488612716554, 'learning_rate': 0.8862558083562229}. Best is trial 2 with value: 0.7954022988505749.\u001b[0m\n",
      "\u001b[32m[I 2023-06-01 18:11:30,476]\u001b[0m Trial 8 finished with value: 0.7973727422003284 and parameters: {'n_estimators': 293, 'gamma': 7.372297078593538, 'max_depth': 6, 'min_child_weight': 9, 'subsample': 0.8086163553478619, 'reg_lambda': 0.38940910802641043, 'reg_alpha': 0.004762357952178743, 'colsample_bytree': 0.6805385373311761, 'learning_rate': 0.15676910685700932}. Best is trial 8 with value: 0.7973727422003284.\u001b[0m\n",
      "\u001b[32m[I 2023-06-01 18:11:50,476]\u001b[0m Trial 12 finished with value: 0.7545155993431856 and parameters: {'n_estimators': 204, 'gamma': 0.060648152672630226, 'max_depth': 9, 'min_child_weight': 7, 'subsample': 0.5699462659756657, 'reg_lambda': 0.8787784301934056, 'reg_alpha': 0.5703002769734753, 'colsample_bytree': 0.7870555593369942, 'learning_rate': 0.8843260412987095}. Best is trial 8 with value: 0.7973727422003284.\u001b[0m\n",
      "\u001b[32m[I 2023-06-01 18:11:52,575]\u001b[0m Trial 17 finished with value: 0.7605911330049262 and parameters: {'n_estimators': 160, 'gamma': 1.4159712690964332, 'max_depth': 8, 'min_child_weight': 10, 'subsample': 0.628667881620425, 'reg_lambda': 0.0026357363269615547, 'reg_alpha': 0.003797252152098034, 'colsample_bytree': 0.8657867494356343, 'learning_rate': 0.7917626624427581}. Best is trial 8 with value: 0.7973727422003284.\u001b[0m\n",
      "\u001b[32m[I 2023-06-01 18:12:04,824]\u001b[0m Trial 14 finished with value: 0.7891625615763547 and parameters: {'n_estimators': 493, 'gamma': 0.25596870766471896, 'max_depth': 1, 'min_child_weight': 2, 'subsample': 0.8488907978081268, 'reg_lambda': 0.10236011733943177, 'reg_alpha': 0.7410708122377166, 'colsample_bytree': 0.6099885079029475, 'learning_rate': 0.4981431841291856}. Best is trial 8 with value: 0.7973727422003284.\u001b[0m\n",
      "\u001b[32m[I 2023-06-01 18:12:11,172]\u001b[0m Trial 1 finished with value: 0.7802955665024631 and parameters: {'n_estimators': 261, 'gamma': 0.388883939883229, 'max_depth': 7, 'min_child_weight': 6, 'subsample': 0.8429355064971862, 'reg_lambda': 0.021734345954941676, 'reg_alpha': 0.006378945143265585, 'colsample_bytree': 0.8458795623188028, 'learning_rate': 0.6434892518677376}. Best is trial 8 with value: 0.7973727422003284.\u001b[0m\n",
      "\u001b[32m[I 2023-06-01 18:12:13,347]\u001b[0m Trial 11 finished with value: 0.7983579638752052 and parameters: {'n_estimators': 486, 'gamma': 4.091030470293674, 'max_depth': 3, 'min_child_weight': 5, 'subsample': 0.8148532033528739, 'reg_lambda': 0.12948702782757157, 'reg_alpha': 0.016449057514517588, 'colsample_bytree': 0.7362373781578553, 'learning_rate': 0.2360292887607781}. Best is trial 11 with value: 0.7983579638752052.\u001b[0m\n",
      "\u001b[32m[I 2023-06-01 18:12:32,258]\u001b[0m Trial 10 finished with value: 0.7995073891625617 and parameters: {'n_estimators': 271, 'gamma': 0.06111941963702434, 'max_depth': 9, 'min_child_weight': 5, 'subsample': 0.810387387553235, 'reg_lambda': 0.11850703628113282, 'reg_alpha': 0.07855988038201753, 'colsample_bytree': 0.8038485247429074, 'learning_rate': 0.2851234126368579}. Best is trial 10 with value: 0.7995073891625617.\u001b[0m\n",
      "\u001b[32m[I 2023-06-01 18:12:32,442]\u001b[0m Trial 6 finished with value: 0.7704433497536944 and parameters: {'n_estimators': 339, 'gamma': 0.04660596941628493, 'max_depth': 8, 'min_child_weight': 7, 'subsample': 0.5204887963072284, 'reg_lambda': 0.02793332439509082, 'reg_alpha': 0.002657010098084126, 'colsample_bytree': 0.9706814120000113, 'learning_rate': 0.46701784675132796}. Best is trial 10 with value: 0.7995073891625617.\u001b[0m\n",
      "\u001b[32m[I 2023-06-01 18:12:37,488]\u001b[0m Trial 19 finished with value: 0.7898193760262726 and parameters: {'n_estimators': 426, 'gamma': 0.029000769656873725, 'max_depth': 3, 'min_child_weight': 7, 'subsample': 0.6820521764887942, 'reg_lambda': 0.0035985420512367515, 'reg_alpha': 0.9953553421176127, 'colsample_bytree': 0.9441793437510564, 'learning_rate': 0.3270126072683963}. Best is trial 10 with value: 0.7995073891625617.\u001b[0m\n",
      "\u001b[32m[I 2023-06-01 18:12:39,056]\u001b[0m Trial 5 finished with value: 0.7963875205254516 and parameters: {'n_estimators': 440, 'gamma': 0.024719199039083335, 'max_depth': 5, 'min_child_weight': 8, 'subsample': 0.5726549341639494, 'reg_lambda': 0.0018140239170577883, 'reg_alpha': 0.2484255755017998, 'colsample_bytree': 0.9162604377886632, 'learning_rate': 0.26767908000550394}. Best is trial 10 with value: 0.7995073891625617.\u001b[0m\n",
      "Best Params XGB_W2V: {'n_estimators': 271, 'gamma': 0.06111941963702434, 'max_depth': 9, 'min_child_weight': 5, 'subsample': 0.810387387553235, 'reg_lambda': 0.11850703628113282, 'reg_alpha': 0.07855988038201753, 'colsample_bytree': 0.8038485247429074, 'learning_rate': 0.2851234126368579}\n",
      "\n",
      "Best Accuracy XGB_W2V: 0.7995073891625617\n"
     ]
    }
   ],
   "source": [
    "#w2v\n",
    "kfold = KFold(n_splits=num_folds, random_state=seed, shuffle=True)\n",
    "\n",
    "#Define the hyperparameters to be optimized\n",
    "def objective(trial):\n",
    "    params = {\n",
    "        'n_estimators': trial.suggest_int('n_estimators', 50, 500),\n",
    "\n",
    "        #tree booster parametrs\n",
    "        'gamma': trial.suggest_loguniform('gamma', 0.01, 10),\n",
    "        'max_depth': trial.suggest_int('max_depth', 1, 10),\n",
    "        'min_child_weight': trial.suggest_int('min_child_weight', 0, 10),\n",
    "        'subsample': trial.suggest_float('subsample', 0.5, 1.0),\n",
    "        'reg_lambda': trial.suggest_float('reg_lambda', 1e-3, 1.0, log=True),\n",
    "        'reg_alpha': trial.suggest_float('reg_alpha', 1e-3, 1.0, log=True),\n",
    "        'tree_method': 'gpu_hist',\n",
    "        'colsample_bytree': trial.suggest_float('colsample_bytree', 0.5, 1.0),\n",
    "        'learning_rate': trial.suggest_float('learning_rate', 0.01, 1),\n",
    "    \n",
    "        #learning parametrs\n",
    "        'objective': 'binary:logistic'\n",
    "          \n",
    "    }\n",
    "\n",
    "    \n",
    "    #Define the XGB model with the hyperparameters\n",
    "    xgb_w2v = XGBClassifier(**params)\n",
    "\n",
    "    # Perform kFold cross-validation and return the mean validation score\n",
    "    scores = cross_val_score(xgb_w2v, X_train_w2v, y_train, cv=kfold, scoring=scoring).mean()\n",
    "    return scores\n",
    "\n",
    "%time\n",
    "#Run the optimization\n",
    "study_xgb = optuna.create_study(direction=\"maximize\", study_name=\"XGB_W2V\")\n",
    "study_xgb.optimize(objective, n_trials=20, n_jobs=-1,show_progress_bar=True)\n",
    "\n",
    "#Print best parametrs\n",
    "print(\"Best Params XGB_W2V: {}\".format(study_xgb.best_params))\n",
    "print(\"\\nBest Accuracy XGB_W2V: {}\".format(study_xgb.best_value))\n",
    "\n",
    "\n",
    "#Train the XGB model with the optimized hyperparameters\n",
    "best_params_xgb = study_xgb.best_params\n",
    "xgb_w2v = XGBClassifier(**best_params_xgb, n_jobs=-1)\n",
    "\n",
    "xgb_w2v.fit(X_train_w2v, y_train)\n",
    "\n",
    "\n",
    "#Evaluate the performance of the model on the testing set\n",
    "predictions_xgb = xgb_w2v.predict(X_test_w2v)"
   ]
  },
  {
   "cell_type": "code",
   "execution_count": 108,
   "metadata": {},
   "outputs": [
    {
     "data": {
      "image/png": "[encoded data removed]",
      "text/plain": [
       "<Figure size 640x480 with 2 Axes>"
      ]
     },
     "metadata": {},
     "output_type": "display_data"
    },
    {
     "name": "stdout",
     "output_type": "stream",
     "text": [
      "              precision    recall  f1-score   support\n",
      "\n",
      "           0      0.796     0.864     0.829       851\n",
      "           1      0.807     0.720     0.761       672\n",
      "\n",
      "    accuracy                          0.800      1523\n",
      "   macro avg      0.801     0.792     0.795      1523\n",
      "weighted avg      0.801     0.800     0.799      1523\n",
      "\n"
     ]
    }
   ],
   "source": [
    "#Confusion matrix XGB_W2V\n",
    "cm=confusion_matrix(y_test, predictions_xgb)\n",
    "disp = ConfusionMatrixDisplay(confusion_matrix=cm, display_labels=None)\n",
    "disp.plot()\n",
    "plt.show()\n",
    "print(classification_report(y_test, predictions_xgb, digits=3))"
   ]
  },
  {
   "attachments": {},
   "cell_type": "markdown",
   "metadata": {},
   "source": [
    "**DecisionTreeClassifier (Word2vec)**"
   ]
  },
  {
   "cell_type": "code",
   "execution_count": 104,
   "metadata": {},
   "outputs": [
    {
     "name": "stderr",
     "output_type": "stream",
     "text": [
      "\u001b[32m[I 2023-06-01 18:04:32,239]\u001b[0m A new study created in memory with name: DT_W2V\u001b[0m\n"
     ]
    },
    {
     "name": "stdout",
     "output_type": "stream",
     "text": [
      "CPU times: total: 0 ns\n",
      "Wall time: 0 ns\n"
     ]
    },
    {
     "name": "stderr",
     "output_type": "stream",
     "text": [
      "c:\\Users\\Iuliia\\miniconda3\\lib\\site-packages\\optuna\\progress_bar.py:56: ExperimentalWarning:\n",
      "\n",
      "Progress bar is experimental (supported from v1.2.0). The interface can change in the future.\n",
      "\n"
     ]
    },
    {
     "data": {
      "application/vnd.jupyter.widget-view+json": {
       "model_id": "751ad8f7e3de4a53acd2e37edf9813ca",
       "version_major": 2,
       "version_minor": 0
      },
      "text/plain": [
       "  0%|          | 0/50 [00:00<?, ?it/s]"
      ]
     },
     "metadata": {},
     "output_type": "display_data"
    },
    {
     "name": "stdout",
     "output_type": "stream",
     "text": [
      "\u001b[32m[I 2023-06-01 18:04:33,401]\u001b[0m Trial 2 finished with value: 0.657471264367816 and parameters: {'max_depth': 3, 'min_samples_split': 4, 'min_samples_leaf': 5, 'max_features': 'log2'}. Best is trial 2 with value: 0.657471264367816.\u001b[0m\n",
      "\u001b[32m[I 2023-06-01 18:04:33,854]\u001b[0m Trial 6 finished with value: 0.6816091954022989 and parameters: {'max_depth': 6, 'min_samples_split': 5, 'min_samples_leaf': 3, 'max_features': 'log2'}. Best is trial 6 with value: 0.6816091954022989.\u001b[0m\n",
      "\u001b[32m[I 2023-06-01 18:04:33,920]\u001b[0m Trial 0 finished with value: 0.6924466338259442 and parameters: {'max_depth': 7, 'min_samples_split': 7, 'min_samples_leaf': 1, 'max_features': 'log2'}. Best is trial 0 with value: 0.6924466338259442.\u001b[0m\n",
      "\u001b[32m[I 2023-06-01 18:04:33,977]\u001b[0m Trial 7 finished with value: 0.6850574712643678 and parameters: {'max_depth': 5, 'min_samples_split': 4, 'min_samples_leaf': 5, 'max_features': 'sqrt'}. Best is trial 0 with value: 0.6924466338259442.\u001b[0m\n",
      "\u001b[32m[I 2023-06-01 18:04:33,995]\u001b[0m Trial 11 finished with value: 0.67816091954023 and parameters: {'max_depth': 5, 'min_samples_split': 8, 'min_samples_leaf': 5, 'max_features': 'log2'}. Best is trial 0 with value: 0.6924466338259442.\u001b[0m\n",
      "\u001b[32m[I 2023-06-01 18:04:33,999]\u001b[0m Trial 10 finished with value: 0.674712643678161 and parameters: {'max_depth': 6, 'min_samples_split': 4, 'min_samples_leaf': 2, 'max_features': 'log2'}. Best is trial 0 with value: 0.6924466338259442.\u001b[0m\n",
      "\u001b[32m[I 2023-06-01 18:04:34,032]\u001b[0m Trial 9 finished with value: 0.6714285714285714 and parameters: {'max_depth': 5, 'min_samples_split': 3, 'min_samples_leaf': 4, 'max_features': 'log2'}. Best is trial 0 with value: 0.6924466338259442.\u001b[0m\n",
      "\u001b[32m[I 2023-06-01 18:04:34,085]\u001b[0m Trial 8 finished with value: 0.6921182266009852 and parameters: {'max_depth': 6, 'min_samples_split': 9, 'min_samples_leaf': 4, 'max_features': 'sqrt'}. Best is trial 0 with value: 0.6924466338259442.\u001b[0m\n",
      "\u001b[32m[I 2023-06-01 18:04:34,134]\u001b[0m Trial 1 finished with value: 0.6940886699507389 and parameters: {'max_depth': 6, 'min_samples_split': 9, 'min_samples_leaf': 5, 'max_features': 'sqrt'}. Best is trial 1 with value: 0.6940886699507389.\u001b[0m\n",
      "\u001b[32m[I 2023-06-01 18:04:34,188]\u001b[0m Trial 15 finished with value: 0.6742200328407224 and parameters: {'max_depth': 5, 'min_samples_split': 2, 'min_samples_leaf': 5, 'max_features': 'sqrt'}. Best is trial 1 with value: 0.6940886699507389.\u001b[0m\n",
      "\u001b[32m[I 2023-06-01 18:04:34,194]\u001b[0m Trial 3 finished with value: 0.6934318555008211 and parameters: {'max_depth': 10, 'min_samples_split': 2, 'min_samples_leaf': 1, 'max_features': 'log2'}. Best is trial 1 with value: 0.6940886699507389.\u001b[0m\n",
      "\u001b[32m[I 2023-06-01 18:04:34,199]\u001b[0m Trial 12 finished with value: 0.6909688013136289 and parameters: {'max_depth': 7, 'min_samples_split': 6, 'min_samples_leaf': 5, 'max_features': 'log2'}. Best is trial 1 with value: 0.6940886699507389.\u001b[0m\n",
      "\u001b[32m[I 2023-06-01 18:04:34,204]\u001b[0m Trial 14 finished with value: 0.6847290640394089 and parameters: {'max_depth': 4, 'min_samples_split': 10, 'min_samples_leaf': 1, 'max_features': 'sqrt'}. Best is trial 1 with value: 0.6940886699507389.\u001b[0m\n",
      "\u001b[32m[I 2023-06-01 18:04:34,299]\u001b[0m Trial 5 finished with value: 0.6949096880131362 and parameters: {'max_depth': 8, 'min_samples_split': 7, 'min_samples_leaf': 3, 'max_features': 'sqrt'}. Best is trial 5 with value: 0.6949096880131362.\u001b[0m\n",
      "\u001b[32m[I 2023-06-01 18:04:34,314]\u001b[0m Trial 13 finished with value: 0.6886699507389162 and parameters: {'max_depth': 5, 'min_samples_split': 8, 'min_samples_leaf': 5, 'max_features': 'sqrt'}. Best is trial 5 with value: 0.6949096880131362.\u001b[0m\n",
      "\u001b[32m[I 2023-06-01 18:04:34,666]\u001b[0m Trial 4 finished with value: 0.6789819376026273 and parameters: {'max_depth': 10, 'min_samples_split': 2, 'min_samples_leaf': 2, 'max_features': 'sqrt'}. Best is trial 5 with value: 0.6949096880131362.\u001b[0m\n",
      "\u001b[32m[I 2023-06-01 18:04:35,108]\u001b[0m Trial 17 finished with value: 0.6610837438423646 and parameters: {'max_depth': 3, 'min_samples_split': 4, 'min_samples_leaf': 5, 'max_features': 'log2'}. Best is trial 5 with value: 0.6949096880131362.\u001b[0m\n",
      "\u001b[32m[I 2023-06-01 18:04:35,220]\u001b[0m Trial 16 finished with value: 0.6899835796387521 and parameters: {'max_depth': 10, 'min_samples_split': 2, 'min_samples_leaf': 4, 'max_features': 'log2'}. Best is trial 5 with value: 0.6949096880131362.\u001b[0m\n",
      "\u001b[32m[I 2023-06-01 18:04:35,268]\u001b[0m Trial 19 finished with value: 0.6665024630541871 and parameters: {'max_depth': 5, 'min_samples_split': 7, 'min_samples_leaf': 3, 'max_features': 'log2'}. Best is trial 5 with value: 0.6949096880131362.\u001b[0m\n",
      "\u001b[32m[I 2023-06-01 18:04:35,283]\u001b[0m Trial 23 finished with value: 0.6658456486042692 and parameters: {'max_depth': 4, 'min_samples_split': 10, 'min_samples_leaf': 5, 'max_features': 'log2'}. Best is trial 5 with value: 0.6949096880131362.\u001b[0m\n",
      "\u001b[32m[I 2023-06-01 18:04:35,419]\u001b[0m Trial 24 finished with value: 0.6361247947454844 and parameters: {'max_depth': 2, 'min_samples_split': 9, 'min_samples_leaf': 3, 'max_features': 'sqrt'}. Best is trial 5 with value: 0.6949096880131362.\u001b[0m\n",
      "\u001b[32m[I 2023-06-01 18:04:35,549]\u001b[0m Trial 22 finished with value: 0.6804597701149425 and parameters: {'max_depth': 5, 'min_samples_split': 6, 'min_samples_leaf': 2, 'max_features': 'log2'}. Best is trial 5 with value: 0.6949096880131362.\u001b[0m\n",
      "\u001b[32m[I 2023-06-01 18:04:35,670]\u001b[0m Trial 21 finished with value: 0.6847290640394088 and parameters: {'max_depth': 8, 'min_samples_split': 10, 'min_samples_leaf': 1, 'max_features': 'log2'}. Best is trial 5 with value: 0.6949096880131362.\u001b[0m\n",
      "\u001b[32m[I 2023-06-01 18:04:35,738]\u001b[0m Trial 18 finished with value: 0.7001642036124796 and parameters: {'max_depth': 7, 'min_samples_split': 10, 'min_samples_leaf': 1, 'max_features': 'sqrt'}. Best is trial 18 with value: 0.7001642036124796.\u001b[0m\n",
      "\u001b[32m[I 2023-06-01 18:04:36,245]\u001b[0m Trial 20 finished with value: 0.6839080459770115 and parameters: {'max_depth': 9, 'min_samples_split': 10, 'min_samples_leaf': 4, 'max_features': 'sqrt'}. Best is trial 18 with value: 0.7001642036124796.\u001b[0m\n",
      "\u001b[32m[I 2023-06-01 18:04:36,337]\u001b[0m Trial 31 finished with value: 0.6798029556650247 and parameters: {'max_depth': 8, 'min_samples_split': 10, 'min_samples_leaf': 3, 'max_features': 'sqrt'}. Best is trial 18 with value: 0.7001642036124796.\u001b[0m\n",
      "\u001b[32m[I 2023-06-01 18:04:36,511]\u001b[0m Trial 25 finished with value: 0.6862068965517242 and parameters: {'max_depth': 10, 'min_samples_split': 10, 'min_samples_leaf': 2, 'max_features': 'sqrt'}. Best is trial 18 with value: 0.7001642036124796.\u001b[0m\n",
      "\u001b[32m[I 2023-06-01 18:04:36,606]\u001b[0m Trial 28 finished with value: 0.7024630541871921 and parameters: {'max_depth': 9, 'min_samples_split': 10, 'min_samples_leaf': 3, 'max_features': 'sqrt'}. Best is trial 28 with value: 0.7024630541871921.\u001b[0m\n",
      "\u001b[32m[I 2023-06-01 18:04:36,613]\u001b[0m Trial 29 finished with value: 0.684072249589491 and parameters: {'max_depth': 9, 'min_samples_split': 10, 'min_samples_leaf': 3, 'max_features': 'sqrt'}. Best is trial 28 with value: 0.7024630541871921.\u001b[0m\n",
      "\u001b[32m[I 2023-06-01 18:04:36,617]\u001b[0m Trial 30 finished with value: 0.6840722495894911 and parameters: {'max_depth': 9, 'min_samples_split': 10, 'min_samples_leaf': 3, 'max_features': 'sqrt'}. Best is trial 28 with value: 0.7024630541871921.\u001b[0m\n",
      "\u001b[32m[I 2023-06-01 18:04:36,626]\u001b[0m Trial 26 finished with value: 0.684072249589491 and parameters: {'max_depth': 9, 'min_samples_split': 10, 'min_samples_leaf': 3, 'max_features': 'sqrt'}. Best is trial 28 with value: 0.7024630541871921.\u001b[0m\n",
      "\u001b[32m[I 2023-06-01 18:04:36,630]\u001b[0m Trial 27 finished with value: 0.6901477832512315 and parameters: {'max_depth': 9, 'min_samples_split': 10, 'min_samples_leaf': 3, 'max_features': 'sqrt'}. Best is trial 28 with value: 0.7024630541871921.\u001b[0m\n",
      "\u001b[32m[I 2023-06-01 18:04:36,902]\u001b[0m Trial 33 finished with value: 0.7008210180623975 and parameters: {'max_depth': 8, 'min_samples_split': 10, 'min_samples_leaf': 3, 'max_features': 'sqrt'}. Best is trial 28 with value: 0.7024630541871921.\u001b[0m\n",
      "\u001b[32m[I 2023-06-01 18:04:36,935]\u001b[0m Trial 32 finished with value: 0.6899835796387521 and parameters: {'max_depth': 8, 'min_samples_split': 10, 'min_samples_leaf': 3, 'max_features': 'sqrt'}. Best is trial 28 with value: 0.7024630541871921.\u001b[0m\n",
      "\u001b[32m[I 2023-06-01 18:04:37,149]\u001b[0m Trial 34 finished with value: 0.6939244663382594 and parameters: {'max_depth': 8, 'min_samples_split': 9, 'min_samples_leaf': 3, 'max_features': 'sqrt'}. Best is trial 28 with value: 0.7024630541871921.\u001b[0m\n",
      "\u001b[32m[I 2023-06-01 18:04:37,161]\u001b[0m Trial 35 finished with value: 0.6926108374384237 and parameters: {'max_depth': 8, 'min_samples_split': 9, 'min_samples_leaf': 3, 'max_features': 'sqrt'}. Best is trial 28 with value: 0.7024630541871921.\u001b[0m\n",
      "\u001b[32m[I 2023-06-01 18:04:37,322]\u001b[0m Trial 39 finished with value: 0.6898193760262725 and parameters: {'max_depth': 8, 'min_samples_split': 9, 'min_samples_leaf': 2, 'max_features': 'sqrt'}. Best is trial 28 with value: 0.7024630541871921.\u001b[0m\n",
      "\u001b[32m[I 2023-06-01 18:04:37,343]\u001b[0m Trial 36 finished with value: 0.6835796387520525 and parameters: {'max_depth': 9, 'min_samples_split': 6, 'min_samples_leaf': 2, 'max_features': 'sqrt'}. Best is trial 28 with value: 0.7024630541871921.\u001b[0m\n",
      "\u001b[32m[I 2023-06-01 18:04:37,387]\u001b[0m Trial 37 finished with value: 0.6845648604269293 and parameters: {'max_depth': 9, 'min_samples_split': 7, 'min_samples_leaf': 1, 'max_features': 'sqrt'}. Best is trial 28 with value: 0.7024630541871921.\u001b[0m\n",
      "\u001b[32m[I 2023-06-01 18:04:37,423]\u001b[0m Trial 38 finished with value: 0.6981937602627257 and parameters: {'max_depth': 9, 'min_samples_split': 7, 'min_samples_leaf': 2, 'max_features': 'sqrt'}. Best is trial 28 with value: 0.7024630541871921.\u001b[0m\n",
      "\u001b[32m[I 2023-06-01 18:04:37,738]\u001b[0m Trial 42 finished with value: 0.693431855500821 and parameters: {'max_depth': 7, 'min_samples_split': 8, 'min_samples_leaf': 2, 'max_features': 'sqrt'}. Best is trial 28 with value: 0.7024630541871921.\u001b[0m\n",
      "\u001b[32m[I 2023-06-01 18:04:37,768]\u001b[0m Trial 41 finished with value: 0.7014778325123152 and parameters: {'max_depth': 8, 'min_samples_split': 9, 'min_samples_leaf': 2, 'max_features': 'sqrt'}. Best is trial 28 with value: 0.7024630541871921.\u001b[0m\n",
      "\u001b[32m[I 2023-06-01 18:04:37,803]\u001b[0m Trial 40 finished with value: 0.699343185550082 and parameters: {'max_depth': 8, 'min_samples_split': 9, 'min_samples_leaf': 2, 'max_features': 'sqrt'}. Best is trial 28 with value: 0.7024630541871921.\u001b[0m\n",
      "\u001b[32m[I 2023-06-01 18:04:37,933]\u001b[0m Trial 43 finished with value: 0.6967159277504106 and parameters: {'max_depth': 7, 'min_samples_split': 9, 'min_samples_leaf': 2, 'max_features': 'sqrt'}. Best is trial 28 with value: 0.7024630541871921.\u001b[0m\n",
      "\u001b[32m[I 2023-06-01 18:04:37,946]\u001b[0m Trial 44 finished with value: 0.6975369458128079 and parameters: {'max_depth': 7, 'min_samples_split': 9, 'min_samples_leaf': 2, 'max_features': 'sqrt'}. Best is trial 28 with value: 0.7024630541871921.\u001b[0m\n",
      "\u001b[32m[I 2023-06-01 18:04:37,950]\u001b[0m Trial 46 finished with value: 0.6883415435139573 and parameters: {'max_depth': 7, 'min_samples_split': 9, 'min_samples_leaf': 2, 'max_features': 'sqrt'}. Best is trial 28 with value: 0.7024630541871921.\u001b[0m\n",
      "\u001b[32m[I 2023-06-01 18:04:37,963]\u001b[0m Trial 47 finished with value: 0.6866995073891626 and parameters: {'max_depth': 7, 'min_samples_split': 9, 'min_samples_leaf': 2, 'max_features': 'sqrt'}. Best is trial 28 with value: 0.7024630541871921.\u001b[0m\n",
      "\u001b[32m[I 2023-06-01 18:04:37,973]\u001b[0m Trial 45 finished with value: 0.683743842364532 and parameters: {'max_depth': 7, 'min_samples_split': 9, 'min_samples_leaf': 2, 'max_features': 'sqrt'}. Best is trial 28 with value: 0.7024630541871921.\u001b[0m\n",
      "\u001b[32m[I 2023-06-01 18:04:37,980]\u001b[0m Trial 48 finished with value: 0.6917898193760263 and parameters: {'max_depth': 7, 'min_samples_split': 9, 'min_samples_leaf': 2, 'max_features': 'sqrt'}. Best is trial 28 with value: 0.7024630541871921.\u001b[0m\n",
      "\u001b[32m[I 2023-06-01 18:04:37,988]\u001b[0m Trial 49 finished with value: 0.69376026272578 and parameters: {'max_depth': 7, 'min_samples_split': 9, 'min_samples_leaf': 2, 'max_features': 'sqrt'}. Best is trial 28 with value: 0.7024630541871921.\u001b[0m\n",
      "Best Params DT_W2V: {'max_depth': 9, 'min_samples_split': 10, 'min_samples_leaf': 3, 'max_features': 'sqrt'}\n",
      "\n",
      "Best Accuracy DT_W2V: 0.7024630541871921\n"
     ]
    }
   ],
   "source": [
    "#w2v\n",
    "kfold = KFold(n_splits=num_folds, random_state=seed, shuffle=True)\n",
    "\n",
    "#Define the hyperparameters to be optimized\n",
    "def objective(trial):\n",
    "    params = {\n",
    "        'max_depth': trial.suggest_int('max_depth', 2, 10),\n",
    "        'min_samples_split': trial.suggest_int('min_samples_split', 2, 10),\n",
    "        'min_samples_leaf': trial.suggest_int('min_samples_leaf', 1, 5),\n",
    "        'max_features': trial.suggest_categorical('max_features', ['sqrt', 'log2'])\n",
    "       \n",
    "          \n",
    "    }\n",
    "\n",
    "    \n",
    "    #Define the DT model with the hyperparameters\n",
    "    dt_w2v = DecisionTreeClassifier(**params)\n",
    "\n",
    "    #Scale the data using MinMaxScaler\n",
    "    #scaler = MinMaxScaler()\n",
    "    #X_train_V12_scaled = scaler.fit_transform(X_train_V12)\n",
    "    #X_test_scaled = scaler.transform(X_test_V12)\n",
    "\n",
    "    # Perform kFold cross-validation and return the mean validation score\n",
    "    scores = cross_val_score(dt_w2v, X_train_w2v, y_train, cv=kfold, scoring=scoring).mean()\n",
    "    return scores\n",
    "\n",
    "%time\n",
    "#Run the optimization\n",
    "study_DT = optuna.create_study(direction=\"maximize\", study_name=\"DT_W2V\")\n",
    "study_DT.optimize(objective, n_trials=50, n_jobs=-1,show_progress_bar=True)\n",
    "\n",
    "#Print best parametrs\n",
    "print(\"Best Params DT_W2V: {}\".format(study_DT.best_params))\n",
    "print(\"\\nBest Accuracy DT_W2V: {}\".format(study_DT.best_value))\n",
    "\n",
    "\n",
    "#Train the DT model with the optimized hyperparameters\n",
    "best_params_DT = study_DT.best_params\n",
    "dt_w2v = DecisionTreeClassifier(**best_params_DT)\n",
    "#scaler = MinMaxScaler()\n",
    "#X_train_V12_scaled = scaler.fit_transform(X_train_V12)\n",
    "dt_w2v.fit(X_train_w2v, y_train)\n",
    "\n",
    "\n",
    "#Evaluate the performance of the model on the testing set\n",
    "#X_test_V12_scaled = scaler.transform(X_test_V12)\n",
    "predictions_DT = dt_w2v.predict(X_test_w2v)"
   ]
  },
  {
   "cell_type": "code",
   "execution_count": 106,
   "metadata": {},
   "outputs": [
    {
     "data": {
      "image/png": "[encoded data removed]",
      "text/plain": [
       "<Figure size 640x480 with 2 Axes>"
      ]
     },
     "metadata": {},
     "output_type": "display_data"
    },
    {
     "name": "stdout",
     "output_type": "stream",
     "text": [
      "              precision    recall  f1-score   support\n",
      "\n",
      "           0      0.703     0.752     0.727       851\n",
      "           1      0.656     0.598     0.626       672\n",
      "\n",
      "    accuracy                          0.684      1523\n",
      "   macro avg      0.680     0.675     0.676      1523\n",
      "weighted avg      0.682     0.684     0.682      1523\n",
      "\n"
     ]
    }
   ],
   "source": [
    "#Confusion matrix DT_W2V\n",
    "cm=confusion_matrix(y_test, predictions_DT)\n",
    "disp = ConfusionMatrixDisplay(confusion_matrix=cm, display_labels=None)\n",
    "disp.plot()\n",
    "plt.show()\n",
    "print(classification_report(y_test, predictions_DT, digits=3))"
   ]
  }
 ],
 "metadata": {
  "kernelspec": {
   "display_name": "base",
   "language": "python",
   "name": "python3"
  },
  "language_info": {
   "codemirror_mode": {
    "name": "ipython",
    "version": 3
   },
   "file_extension": ".py",
   "mimetype": "text/x-python",
   "name": "python",
   "nbconvert_exporter": "python",
   "pygments_lexer": "ipython3",
   "version": "3.9.16"
  },
  "orig_nbformat": 4,
  "vscode": {
   "interpreter": {
    "hash": "d0da97104d38feb16e153266d9041b8bad25f307ab3732bc0037a8ea077046bd"
   }
  }
 },
 "nbformat": 4,
 "nbformat_minor": 2
}
